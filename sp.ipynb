{
  "cells": [
    {
      "cell_type": "markdown",
      "metadata": {
        "id": "Mx0_E_kEdJsN"
      },
      "source": [
        "# Implement Spatial Pooler\n",
        "\n",
        "В данной тетради требуется реализовать Spatial Pooler по аналогии с [описанием](https://numenta.com/assets/pdf/spatial-pooling-algorithm/Spatial-Pooling-Algorithm-Details.pdf) и [статьёй](https://www.frontiersin.org/articles/10.3389/fncom.2017.00111/pdf) от нументы. Данная тетрадь сделана на основе [примера](https://github.com/htm-community/htm.core/blob/master/py/htm/examples/mnist.py) из нументовского фреймворка `htm.core`. Сам их фреймворк нам здесь не понадобится — его ставить не нужно, но можешь ради интереса к тестам ниже добавить и тест эталонной реализации Spatial Pooler.\n",
        "\n",
        "Для начала посмотри эпизоды 0-8 видео гайда [HTMSchool](https://www.youtube.com/watch?v=XMB0ri4qgwc&list=PL3yXMgtrZmDqhsFQzwUC9V8MeeVOQ7eZ9)."
      ]
    },
    {
      "cell_type": "markdown",
      "metadata": {
        "id": "dXBc06cudJsQ"
      },
      "source": [
        "## 01. Getting ready\n",
        "\n",
        "Данная секция содержит:\n",
        "\n",
        "- импорт необходимых пакетов (убедись, что все они установлены)\n",
        "- загрузка датасета"
      ]
    },
    {
      "cell_type": "code",
      "execution_count": 1,
      "metadata": {
        "id": "mb56i--SdJsR",
        "ExecuteTime": {
          "end_time": "2023-12-14T20:14:25.657626Z",
          "start_time": "2023-12-14T20:14:24.792766100Z"
        }
      },
      "outputs": [],
      "source": [
        "import matplotlib.pyplot as plt\n",
        "import numpy as np\n",
        "from IPython.display import clear_output\n",
        "\n",
        "from sklearn.datasets import fetch_openml\n",
        "from sklearn.linear_model import LogisticRegression\n",
        "from scipy.sparse import csr_matrix\n",
        "from scipy.stats import entropy\n",
        "%matplotlib inline\n",
        "\n",
        "seed = 1337"
      ]
    },
    {
      "cell_type": "markdown",
      "metadata": {
        "id": "NQ7DmB9jdJsT"
      },
      "source": [
        "### Load data\n",
        "\n",
        "Следующая ячейка загружает датасет MNIST (займет порядка 10-20 сек)."
      ]
    },
    {
      "cell_type": "code",
      "execution_count": 2,
      "metadata": {
        "colab": {
          "base_uri": "https://localhost:8080/"
        },
        "id": "TwmAh5lodJsT",
        "outputId": "4a582a4d-9b51-4cf9-8490-4fb5d806e6a8",
        "ExecuteTime": {
          "end_time": "2023-12-14T20:14:50.629432300Z",
          "start_time": "2023-12-14T20:14:44.978951900Z"
        }
      },
      "outputs": [
        {
          "output_type": "stream",
          "name": "stdout",
          "text": [
            "(70000, 28, 28) (70000,)\n"
          ]
        },
        {
          "output_type": "execute_result",
          "data": {
            "text/plain": [
              "((60000, 28, 28), (60000,), (10000, 28, 28), (10000,))"
            ]
          },
          "metadata": {},
          "execution_count": 2
        }
      ],
      "source": [
        "def load_ds(rng, name, num_test, shape=None):\n",
        "    \"\"\"\n",
        "    fetch dataset from openML.org and split to train/test\n",
        "    @param name - ID on openML (eg. 'mnist_784')\n",
        "    @param num_test - num. samples to take as test\n",
        "    @param shape - new reshape of a single data point (ie data['data'][0]) as a list. Eg. [28,28] for MNIST\n",
        "    \"\"\"\n",
        "    data = fetch_openml(name, version=1, parser='auto')\n",
        "    sz=data['target'].shape[0]\n",
        "\n",
        "    X = np.array(data['data'])\n",
        "    if shape is not None:\n",
        "        new_shape = shape.insert(0, sz)\n",
        "        X = np.reshape(X, shape)\n",
        "\n",
        "    y = np.array(data['target']).astype(np.int32)\n",
        "    print(X.shape, y.shape)\n",
        "\n",
        "    indices = rng.permutation(y.size)\n",
        "    X = X[indices, :, :]\n",
        "    y = y[indices]\n",
        "\n",
        "    # split to train/test data\n",
        "    train_labels = y[:sz-num_test]\n",
        "    train_images = X[:sz-num_test]\n",
        "    test_labels  = y[sz-num_test:]\n",
        "    test_images  = X[sz-num_test:]\n",
        "\n",
        "    return train_labels, train_images, test_labels, test_images\n",
        "\n",
        "rng = np.random.default_rng(seed)\n",
        "train_labels, train_images, test_labels, test_images = load_ds(rng, 'mnist_784', 10000, shape=[28,28])\n",
        "\n",
        "n_train_samples = train_images.shape[0]\n",
        "n_test_samples = test_images.shape[0]\n",
        "image_shape = train_images[0].shape\n",
        "image_side = image_shape[0]\n",
        "image_size = image_side ** 2\n",
        "\n",
        "\n",
        "train_images.shape, train_labels.shape, test_images.shape, test_labels.shape"
      ]
    },
    {
      "cell_type": "markdown",
      "metadata": {
        "id": "4-1JknYFdJsU"
      },
      "source": [
        "Пример формата данных датасета"
      ]
    },
    {
      "cell_type": "code",
      "execution_count": 3,
      "metadata": {
        "colab": {
          "base_uri": "https://localhost:8080/",
          "height": 499
        },
        "id": "oVwxm_pTdJsU",
        "outputId": "adc9ed55-e8ff-4ca6-b69f-54c36dff1053",
        "ExecuteTime": {
          "end_time": "2023-12-14T20:15:20.908527100Z",
          "start_time": "2023-12-14T20:15:20.790018700Z"
        }
      },
      "outputs": [
        {
          "output_type": "stream",
          "name": "stdout",
          "text": [
            "Label: 5\n",
            "Image shape: (28, 28)\n",
            "Image middle row: [  0   0   0   0   0   0   0   0   0   0   0   0   0   0   0   0   0   0\n",
            " 145 253  53   0   0   0   0   0   0   0]\n"
          ]
        },
        {
          "output_type": "display_data",
          "data": {
            "text/plain": [
              "<Figure size 640x480 with 1 Axes>"
            ],
            "image/png": "[encoded data removed]"
          },
          "metadata": {}
        }
      ],
      "source": [
        "ind = 1\n",
        "plt.imshow(train_images[ind])\n",
        "print(f'Label: {train_labels[ind]}')\n",
        "print(f'Image shape: {image_shape}')\n",
        "print(f'Image middle row: {train_images[ind][image_side//2]}')"
      ]
    },
    {
      "cell_type": "markdown",
      "metadata": {
        "id": "A4YFXpzNdJsV"
      },
      "source": [
        "Перекодируем датасет в бинарные изображения и дальше будем работать с бинарными данными."
      ]
    },
    {
      "cell_type": "code",
      "execution_count": 4,
      "metadata": {
        "colab": {
          "base_uri": "https://localhost:8080/",
          "height": 430
        },
        "id": "o5K-Av0idJsV",
        "outputId": "85bfc98a-5894-4bdf-c634-3f54a34d35f7",
        "ExecuteTime": {
          "end_time": "2023-12-14T20:15:23.004749600Z",
          "start_time": "2023-12-14T20:15:22.547951200Z"
        }
      },
      "outputs": [
        {
          "output_type": "display_data",
          "data": {
            "text/plain": [
              "<Figure size 640x480 with 1 Axes>"
            ],
            "image/png": "[encoded data removed]"
          },
          "metadata": {}
        }
      ],
      "source": [
        "def plot_flatten_image(flatten_image, image_height=28):\n",
        "    plt.imshow(flatten_image.reshape((image_height, -1)))\n",
        "\n",
        "def to_binary_flatten_images(images):\n",
        "    n_samples = images.shape[0]\n",
        "    # flatten every image to vector\n",
        "    images = images.reshape((n_samples, -1))\n",
        "    # binary encoding: each image pixel is encoded either 0 or 1 depending on that image mean value\n",
        "    images = (images >= images.mean(axis=1, keepdims=True)).astype(np.int8)\n",
        "    return images\n",
        "\n",
        "\n",
        "train_images = to_binary_flatten_images(train_images)\n",
        "test_images = to_binary_flatten_images(test_images)\n",
        "plot_flatten_image(train_images[ind])"
      ]
    },
    {
      "cell_type": "markdown",
      "metadata": {
        "id": "LB7nDcKEdJsV"
      },
      "source": [
        "## 02. Baseline: classifier on raw input\n",
        "\n",
        "В качестве бейзлайна возьмем стандартный sklearn'овский логрег классификатор"
      ]
    },
    {
      "cell_type": "code",
      "execution_count": 5,
      "metadata": {
        "id": "vr71IY3zdJsV",
        "ExecuteTime": {
          "end_time": "2023-12-14T20:16:21.095278800Z",
          "start_time": "2023-12-14T20:16:21.065094200Z"
        }
      },
      "outputs": [],
      "source": [
        "LBFGS_MAX_ITER = 1_000"
      ]
    },
    {
      "cell_type": "code",
      "execution_count": 6,
      "metadata": {
        "colab": {
          "base_uri": "https://localhost:8080/"
        },
        "id": "az7RqfbqdJsW",
        "outputId": "44559363-6d33-4083-f661-508d609fa496",
        "ExecuteTime": {
          "end_time": "2023-12-14T20:16:22.038727500Z",
          "start_time": "2023-12-14T20:16:21.659296600Z"
        }
      },
      "outputs": [
        {
          "output_type": "stream",
          "name": "stdout",
          "text": [
            "Score: 87.4%\n",
            "CPU times: user 1.19 s, sys: 199 ms, total: 1.39 s\n",
            "Wall time: 1.94 s\n"
          ]
        }
      ],
      "source": [
        "%%time\n",
        "\n",
        "def test_bare_classification(x_tr,  y_tr, x_tst, y_tst):\n",
        "    linreg = LogisticRegression(tol=.05, max_iter=LBFGS_MAX_ITER, multi_class='multinomial', penalty='l2', solver='lbfgs', n_jobs=1)\n",
        "    linreg.fit(x_tr, y_tr)\n",
        "\n",
        "    score = linreg.predict(x_tst) == y_tst\n",
        "    score = score.mean()\n",
        "    print(f'Score: {100 * score:.1f}%')\n",
        "    return score\n",
        "\n",
        "np.random.seed(seed)\n",
        "# for debug purposes I chose smaller subset of the train/test set, you can set the whole set of 60k training samples\n",
        "n = 1_000\n",
        "x_tr, y_tr = train_images[:n], train_labels[:n]\n",
        "x_tst, y_tst = test_images[:n], test_labels[:n]\n",
        "\n",
        "# примерные/ориентировочные результаты\n",
        "# 1k: 87.4; 888ms\n",
        "# 60k: 91.4; 1.5min\n",
        "_ = test_bare_classification(x_tr, y_tr, x_tst, y_tst)"
      ]
    },
    {
      "cell_type": "markdown",
      "metadata": {
        "id": "ru-SUBkKdJsW"
      },
      "source": [
        "## 03. Spatial Pooler: skeleton\n",
        "\n",
        "Временно сделаем пустой класс Spatial Pooler'а заглушку, чтобы дальше ввести весь необходимый auxiliary код для обучения и тестирования."
      ]
    },
    {
      "cell_type": "code",
      "execution_count": 7,
      "metadata": {
        "colab": {
          "base_uri": "https://localhost:8080/"
        },
        "id": "dh1dBQZhdJsW",
        "outputId": "8f6528bd-ee65-45fc-997f-96c061cb6792",
        "ExecuteTime": {
          "end_time": "2023-12-14T20:16:24.060351300Z",
          "start_time": "2023-12-14T20:16:24.032835100Z"
        }
      },
      "outputs": [
        {
          "output_type": "stream",
          "name": "stdout",
          "text": [
            "91 784\n"
          ]
        }
      ],
      "source": [
        "class NoOpSpatialPooler:\n",
        "    def __init__(self, input_size):\n",
        "        self.input_size = input_size\n",
        "        self.output_size = input_size\n",
        "\n",
        "    def compute(self, dense_sdr, learn):\n",
        "        # просто отдает вход на выход\n",
        "        return np.flatnonzero(dense_sdr)\n",
        "\n",
        "\n",
        "np.random.seed(seed)\n",
        "sp = NoOpSpatialPooler(train_images[0].size)\n",
        "sparse_sdr = sp.compute(train_images[0], True)\n",
        "\n",
        "print(sparse_sdr.size, sp.output_size)\n",
        "assert sparse_sdr.size < sp.output_size"
      ]
    },
    {
      "cell_type": "markdown",
      "metadata": {
        "id": "CQ-YfH4hdJsW"
      },
      "source": [
        "## 04. Train/test SP performance aux pipeline\n",
        "\n",
        "Ниже непосредственно код для обучения и тестирования классификации с использованием Spatial Pooler'а. Общая схема следующая - мы обучаем SP на train set'е, а дальше SDR векторы на выходе из SP используем в кач-ве входных данных для логрег классификатора в надежде, что эти данные разделимы еще лучше, то есть что качество классификации улучшится.\n",
        "\n",
        "__NB__: Не удивляйся, в реализации ниже обучение идет в немного полуонлайн режиме - делается небольшой претрейн, а потом полностью онлайн. Претрейн делаем для прогрева SP, тк на ранних стадиях обучения он слишком сильно меняет выходную кодировку."
      ]
    },
    {
      "cell_type": "code",
      "execution_count": 8,
      "metadata": {
        "colab": {
          "base_uri": "https://localhost:8080/"
        },
        "id": "Fq8cOX7ndJsW",
        "outputId": "e80ea539-e62f-40ab-ac58-cd2a5c7420cf",
        "ExecuteTime": {
          "end_time": "2023-12-14T20:16:27.240098300Z",
          "start_time": "2023-12-14T20:16:25.769302500Z"
        }
      },
      "outputs": [
        {
          "output_type": "stream",
          "name": "stdout",
          "text": [
            "Score: 87.4% for n = 1000\n",
            "CPU times: user 206 ms, sys: 127 ms, total: 333 ms\n",
            "Wall time: 5.34 s\n"
          ]
        },
        {
          "output_type": "execute_result",
          "data": {
            "text/plain": [
              "0.874"
            ]
          },
          "metadata": {},
          "execution_count": 8
        }
      ],
      "source": [
        "%%time\n",
        "\n",
        "def pretrain_sp(sp, images, n_samples):\n",
        "\n",
        "    for img in images[:n_samples]:\n",
        "        sp.compute(img, True)\n",
        "\n",
        "def encode_to_csr_with_sp(images, sp, learn):\n",
        "    flatten_encoded_sdrs = []\n",
        "    indptr = [0]\n",
        "    for img in images:\n",
        "        encoded_sparse_sdr = sp.compute(img, learn)\n",
        "        flatten_encoded_sdrs.extend(encoded_sparse_sdr)\n",
        "        indptr.append(len(flatten_encoded_sdrs))\n",
        "\n",
        "    data = np.ones(len(flatten_encoded_sdrs))\n",
        "    csr = csr_matrix((data, flatten_encoded_sdrs, indptr), shape=(images.shape[0], sp.output_size))\n",
        "    return csr\n",
        "\n",
        "def test_classification_with_sp(x_tr,  y_tr, x_tst, y_tst, sp):\n",
        "    # a small pretrain SP before real work\n",
        "    pretrain_sp(sp, x_tr, n_samples=1000)\n",
        "\n",
        "    # encode images and continuously train SP\n",
        "    csr = encode_to_csr_with_sp(x_tr, sp, learn=True)\n",
        "\n",
        "    # train linreg\n",
        "    linreg = LogisticRegression(tol=.05, max_iter=LBFGS_MAX_ITER, multi_class='multinomial', penalty='l2', solver='lbfgs', n_jobs=3)\n",
        "    linreg.fit(csr, y_tr)\n",
        "\n",
        "    # encode test images (without SP learning) and then test score\n",
        "    csr = encode_to_csr_with_sp(x_tst, sp, False)\n",
        "    score = linreg.predict(csr) == y_tst\n",
        "    score = score.mean()\n",
        "    print(f'Score: {100 * score:.1f}% for n = {len(x_tr)}')\n",
        "    return score\n",
        "\n",
        "n = 1000\n",
        "x_tr, y_tr = train_images[:n], train_labels[:n]\n",
        "x_tst, y_tst = test_images[:n], test_labels[:n]\n",
        "my_sp = NoOpSpatialPooler(train_images[0].size)\n",
        "\n",
        "# 87.3; 1.16s\n",
        "test_classification_with_sp(x_tr, y_tr, x_tst, y_tst, my_sp)"
      ]
    },
    {
      "cell_type": "markdown",
      "metadata": {
        "id": "QUM0qNCKdJsX"
      },
      "source": [
        "## 05. Spatial Pooler: learning\n",
        "\n",
        "__Здесь начинается практическое задание__\n",
        "\n",
        "В этой части требуется реализовать простую версию SP с обучением как описано в видео htm scool до бустинга (т.е. бустинг пока не нужен)."
      ]
    },
    {
      "cell_type": "code",
      "execution_count": 9,
      "metadata": {
        "colab": {
          "base_uri": "https://localhost:8080/"
        },
        "id": "T-7TagGCdJsX",
        "outputId": "4eddf4ea-5f86-4d2a-c302-1626df95e5c5",
        "ExecuteTime": {
          "end_time": "2023-12-14T20:16:29.840942900Z",
          "start_time": "2023-12-14T20:16:29.802379100Z"
        }
      },
      "outputs": [
        {
          "output_type": "stream",
          "name": "stdout",
          "text": [
            "4 100 4\n"
          ]
        },
        {
          "output_type": "execute_result",
          "data": {
            "text/plain": [
              "array([16, 44, 30, 22])"
            ]
          },
          "metadata": {},
          "execution_count": 9
        }
      ],
      "source": [
        "class LearnableSpatialPooler:\n",
        "    def __init__(\n",
        "        self, input_size, output_size, permanence_threshold, output_sparsity, synapse_permanence_deltas, receptive_field_sparsity\n",
        "    ):\n",
        "        '''\n",
        "        params:\n",
        "            `input_size` - the size of the input SDR\n",
        "            `output_size` - the size of the output SDR\n",
        "            `permanence_threshold` - value in [0, 1], defines whether or not a connection is active\n",
        "            `output_sparsity` - value in [0, 1], defines desired output SDR sparsity, e.g. 0.02 is 2% sparsity\n",
        "            `synapse_permanence_deltas` - tuple of (p+, p-), defines permanence increment/decrement for learning\n",
        "            `receptive_field_sparsity` - value in [0, 1], defines the fraction of _potential_ synapses\n",
        "        '''\n",
        "        self.input_size = input_size\n",
        "        self.output_size = output_size\n",
        "\n",
        "        self.permanence_threshold = permanence_threshold\n",
        "        self.output_sparsity = output_sparsity\n",
        "        self.synapse_permanence_deltas = synapse_permanence_deltas\n",
        "        self.receptive_field_sparsity = receptive_field_sparsity\n",
        "\n",
        "        self.receptive_field = round(self.input_size * self.receptive_field_sparsity)\n",
        "        self.synapses = np.zeros((self.output_size,self.input_size))\n",
        "        ind_of_input = np.tile(np.arange(0, self.input_size), (self.output_size, 1))\n",
        "        np.apply_along_axis(np.random.shuffle, 1, ind_of_input)\n",
        "        for index in range(self.output_size):\n",
        "          self.synapses[index,ind_of_input[index,:self.receptive_field]] = np.random.uniform(self.permanence_threshold-0.1,self.permanence_threshold+0.1, (self.receptive_field,))\n",
        "        self.num_activ_col = round(self.output_size * self.output_sparsity)\n",
        "        self.count_active = []\n",
        "\n",
        "\n",
        "    def compute(self, dense_sdr, learn):\n",
        "        '''\n",
        "        params:\n",
        "            `dense_sdr` - input SDR in dense for, i.e. as np.array\n",
        "            `learn` - bool flag, whether or not to do a learning step\n",
        "\n",
        "        returns:\n",
        "            a list of activated columns indices\n",
        "        '''\n",
        "\n",
        "        overlap = np.sum((self.synapses[:, dense_sdr.astype(bool)] >= self.permanence_threshold), axis=1)\n",
        "        activated_cols = np.argpartition(overlap, -self.num_activ_col)[-self.num_activ_col:]\n",
        "        self.n_active_bits = len(activated_cols)\n",
        "        self.count_active = np.concatenate([self.count_active, activated_cols])\n",
        "\n",
        "        if learn:\n",
        "          activated_mask = (self.synapses[activated_cols] >= self.permanence_threshold) & dense_sdr.astype(bool)\n",
        "          self.synapses[activated_cols][activated_mask] += self.synapse_permanence_deltas[0]\n",
        "          self.synapses[activated_cols][~activated_mask] -= self.synapse_permanence_deltas[1]\n",
        "          np.clip(self.synapses[activated_cols], 0, 1, out=self.synapses[activated_cols])\n",
        "\n",
        "\n",
        "        return activated_cols\n",
        "\n",
        "\n",
        "np.random.seed(seed)\n",
        "sp = LearnableSpatialPooler(\n",
        "    input_size=train_images[0].size,\n",
        "    output_size=10**2,\n",
        "    permanence_threshold=.5,\n",
        "    output_sparsity=.04,\n",
        "    synapse_permanence_deltas=(.1, .03),\n",
        "    receptive_field_sparsity=.8\n",
        ")\n",
        "sparse_sdr = sp.compute(train_images[0], True)\n",
        "\n",
        "print(sparse_sdr.size, sp.output_size, sp.n_active_bits)\n",
        "assert sparse_sdr.size == sp.n_active_bits\n",
        "sparse_sdr"
      ]
    },
    {
      "cell_type": "markdown",
      "metadata": {
        "id": "AjfVbSUTdJsX"
      },
      "source": [
        "### 05.1. Naive SP performance\n",
        "\n",
        "Проверь качество работы своей реализации. В комментариях примерные значения для разных `n`, на которые можно попробовать ориентироваться:"
      ]
    },
    {
      "cell_type": "code",
      "execution_count": 11,
      "metadata": {
        "id": "5xm6Sb-ldJsX",
        "colab": {
          "base_uri": "https://localhost:8080/"
        },
        "outputId": "f4a48182-cee3-4e3f-ec1c-65e0c5620da1",
        "ExecuteTime": {
          "end_time": "2023-12-14T20:16:48.323456900Z",
          "start_time": "2023-12-14T20:16:31.595055100Z"
        }
      },
      "outputs": [
        {
          "output_type": "stream",
          "name": "stdout",
          "text": [
            "Score: 81.6% for n = 1000\n",
            "CPU times: user 3.09 s, sys: 19.7 ms, total: 3.11 s\n",
            "Wall time: 3.69 s\n"
          ]
        },
        {
          "output_type": "execute_result",
          "data": {
            "text/plain": [
              "0.816"
            ]
          },
          "metadata": {},
          "execution_count": 11
        }
      ],
      "source": [
        "%%time\n",
        "\n",
        "np.random.seed(seed)\n",
        "n = 1000\n",
        "x_tr, y_tr = train_images[:n], train_labels[:n]\n",
        "x_tst, y_tst = test_images[:n], test_labels[:n]\n",
        "\n",
        "sp = LearnableSpatialPooler(\n",
        "    input_size=train_images[0].size,\n",
        "    output_size=30**2,\n",
        "    permanence_threshold=.5,\n",
        "    output_sparsity=.04,\n",
        "    synapse_permanence_deltas=(.1, .03),\n",
        "    receptive_field_sparsity=.8\n",
        ")\n",
        "# 1k: 80.2; 2.98s\n",
        "# 60k: 89.3; 72 s\n",
        "test_classification_with_sp(x_tr, y_tr, x_tst, y_tst, sp)"
      ]
    },
    {
      "cell_type": "markdown",
      "metadata": {
        "id": "Noxjmyt4dJsX"
      },
      "source": [
        "Интересная метрика оценки качества работы SP и вырожденности датасета - энтропия выходных активаций.\n",
        "\n",
        "Добавь либо в реализацию класса, либо где-то сбоку возможность учета статистики активаций выходных клеток (ты наверняка заметил, что обычно их контринтуитивно называют столбцами, что оч круто запутывает) и функцию подсчета энтропии на основе этой статистики. Собери такую статистику на одном прогоне на всем датасете и:\n",
        "\n",
        "- нарисуй гистограмму частоты активаций (с нормализацией, чтобы по оси Y были вероятности активации, а не их число)\n",
        "- посчитай энтропию $H = -\\sum p \\cdot \\log p$"
      ]
    },
    {
      "cell_type": "code",
      "execution_count": null,
      "metadata": {
        "id": "1tHMlr0JdJsX",
        "colab": {
          "base_uri": "https://localhost:8080/",
          "height": 447
        },
        "outputId": "9be81e25-95c8-4b92-d271-f4e621a05f5e",
        "ExecuteTime": {
          "end_time": "2023-12-14T20:16:49.087583800Z",
          "start_time": "2023-12-14T20:16:48.319862300Z"
        }
      },
      "outputs": [
        {
          "output_type": "display_data",
          "data": {
            "text/plain": [
              "<Figure size 640x480 with 1 Axes>"
            ],
            "image/png": "[encoded data removed]"
          },
          "metadata": {}
        },
        {
          "output_type": "stream",
          "name": "stdout",
          "text": [
            "Энтропия =  8.357599945368628\n"
          ]
        }
      ],
      "source": [
        "plt.hist(sp.count_active, bins=sp.output_size, density = True)\n",
        "plt.show()\n",
        "\n",
        "\n",
        "number_of_entries = []\n",
        "for index in range(sp.output_size):\n",
        "  number_of_entries.append(np.count_nonzero(sp.count_active == index))\n",
        "print('Энтропия = ', entropy(number_of_entries/np.sum(number_of_entries), base=2))"
      ]
    },
    {
      "cell_type": "markdown",
      "metadata": {
        "id": "Cj0j0Ry9dJsY"
      },
      "source": [
        "Теперь давай посмотрим, как выходной размер `output_size` влияет на качество работы. Протестируй разные значения `output_size` - например, $[10^2, 15^2,..., 55^2, 60^2]$ и отрисуй график зависимости [качества классификации, но можешь и времени работы тоже].\n",
        "\n",
        "_Можно для начала прикинуть для n=1000 и двигаться дальше, а позже пересчитать на всем датасете_"
      ]
    },
    {
      "cell_type": "code",
      "execution_count": null,
      "metadata": {
        "id": "GyvhepGKdJsY",
        "colab": {
          "base_uri": "https://localhost:8080/",
          "height": 641
        },
        "outputId": "830d3bb3-8059-4778-a7ad-529c2c179127",
        "ExecuteTime": {
          "end_time": "2023-12-14T20:21:38.280816200Z",
          "start_time": "2023-12-14T20:16:49.055849100Z"
        }
      },
      "outputs": [
        {
          "output_type": "stream",
          "name": "stdout",
          "text": [
            "Score: 53.3% for n = 1000\n",
            "Score: 64.0% for n = 1000\n",
            "Score: 70.4% for n = 1000\n",
            "Score: 78.2% for n = 1000\n",
            "Score: 81.6% for n = 1000\n",
            "Score: 82.8% for n = 1000\n",
            "Score: 85.6% for n = 1000\n",
            "Score: 85.4% for n = 1000\n",
            "Score: 86.4% for n = 1000\n",
            "Score: 86.6% for n = 1000\n",
            "Score: 89.6% for n = 1000\n"
          ]
        },
        {
          "output_type": "display_data",
          "data": {
            "text/plain": [
              "<Figure size 640x480 with 1 Axes>"
            ],
            "image/png": "[encoded data removed]"
          },
          "metadata": {}
        }
      ],
      "source": [
        "n = 1000\n",
        "x_tr, y_tr = train_images[:n], train_labels[:n]\n",
        "x_tst, y_tst = test_images[:n], test_labels[:n]\n",
        "\n",
        "score = []\n",
        "\n",
        "for size in range(10,61,5):\n",
        "  np.random.seed(seed)\n",
        "  sp = LearnableSpatialPooler(\n",
        "      input_size=train_images[0].size,\n",
        "      output_size=size**2,\n",
        "      permanence_threshold=.5,\n",
        "      output_sparsity=.04,\n",
        "      synapse_permanence_deltas=(.1, .03),\n",
        "      receptive_field_sparsity=.8\n",
        "  )\n",
        "  score.append(test_classification_with_sp(x_tr, y_tr, x_tst, y_tst, sp))\n",
        "\n",
        "plt.plot(np.arange(10,61,5)**2, score)\n",
        "plt.xlabel(\"Output_size\")\n",
        "plt.ylabel(\"Score\")\n",
        "plt.show()"
      ]
    },
    {
      "cell_type": "markdown",
      "metadata": {
        "id": "YEzwReLldJsY"
      },
      "source": [
        "## 06. Spatial Pooler: boosting\n",
        "\n",
        "В этом пункте требуется реализовать бустинг. Обрати внимание, в видео htm school речь ведется о бустинге overlap score на основе активности выходных ячеек -  именно такой вид бустинга и нужно реализовать. Еще есть бустинг значений permanence синапсов выходных ячеек, имеющих слишком низкое среднее значение overlap score за последние N итераций - рассмотрение этого вида бустинга оставим в стороне. Так что дальше под бустингом будет иметься в виду только первый вариант.\n",
        "\n",
        "Зададим параметр `max_boost_factor` $\\in [0, +\\infty)$. Можно по-разному задавать интерпретацию этого параметра, то есть как будет действовать бустинг. Например, можно дать возможность бустингу работать только в сторону усиления слабых — тогда параметр `max_boost_factor` $=K$ определяет, что значения overlap score под действием бустинга могут быть увеличены максимум в $1+K$ раз. То есть `max_boost_factor`$=1$ означает, что оверлапы могут быть увеличены максимум в два раза, а 0 — что бустинг отключен.\n",
        "\n",
        "Однако допустима и реализация, в которой бустинг работает в обе стороны — слабые колонки усиливает, а сильные наоборот ослабляет, и тогда пределы изменения для величины `max_boost_factor` $=K$: $[\\frac{1}{K}, K]$, то есть бустинг может и усилить, и ослабить максимум в $K$ раз. В своей реализации выбери любой из этих вариантов."
      ]
    },
    {
      "cell_type": "code",
      "execution_count": 9,
      "metadata": {
        "id": "DN5RdqWndJsZ",
        "colab": {
          "base_uri": "https://localhost:8080/"
        },
        "outputId": "a15994af-4c99-4012-e0e1-af43cba4cdf8",
        "ExecuteTime": {
          "end_time": "2023-12-14T20:21:38.365827400Z",
          "start_time": "2023-12-14T20:21:38.280816200Z"
        }
      },
      "outputs": [
        {
          "output_type": "execute_result",
          "data": {
            "text/plain": [
              "array([16, 44, 30, 22])"
            ]
          },
          "metadata": {},
          "execution_count": 9
        }
      ],
      "source": [
        "class BoostedSpatialPooler:\n",
        "    def __init__(\n",
        "        self, input_size, output_size, permanence_threshold, output_sparsity, synapse_permanence_deltas, receptive_field_sparsity,\n",
        "        max_boost_factor, boost_sliding_window\n",
        "    ):\n",
        "        '''\n",
        "        params:\n",
        "            `input_size` - the size of the input SDR\n",
        "            `output_size` - the size of the output SDR\n",
        "            `permanence_threshold` - value in [0, 1], defines whether or not a connection is active\n",
        "            `output_sparsity` - value in [0, 1], defines desired output SDR sparsity, e.g. 0.02 is 2% sparsity\n",
        "            `synapse_permanence_deltas` - tuple of (p+, p-), defines permanence increment/decrement for learning\n",
        "            `receptive_field_sparsity` - value in [0, 1], defines the fraction of _potential_ synapses\n",
        "            `max_boost_factor` - value in [0, +inf), defines maximum allowed boosting. Boosting value X > 0 (X < 0) means that overlap is multiplied (divided) by `1 + X`.\n",
        "            `boost_sliding_window` - value in [1, +inf), defines the size of the window for moving avg output column activity\n",
        "        '''\n",
        "        self.input_size = input_size\n",
        "        self.output_size = output_size\n",
        "        self.permanence_threshold = permanence_threshold\n",
        "        self.output_sparsity = output_sparsity\n",
        "        self.synapse_permanence_deltas = synapse_permanence_deltas\n",
        "        self.receptive_field_sparsity = receptive_field_sparsity\n",
        "        self.max_boost_factor = max_boost_factor\n",
        "        self.boost_sliding_window = boost_sliding_window\n",
        "\n",
        "        self.receptive_field = round(self.input_size * self.receptive_field_sparsity)\n",
        "        self.synapses = np.zeros((self.output_size,self.input_size))\n",
        "        ind_of_input = np.tile(np.arange(0, self.input_size), (self.output_size, 1))\n",
        "        np.apply_along_axis(np.random.shuffle, 1, ind_of_input)\n",
        "        for index in range(self.output_size):\n",
        "          self.synapses[index,ind_of_input[index,:self.receptive_field]] = np.random.uniform(self.permanence_threshold-0.1,self.permanence_threshold+0.1, (self.receptive_field,))\n",
        "        self.max_boost_factor = max_boost_factor\n",
        "        self.boosting_factors = np.ones(self.output_size)\n",
        "        self.activ_time_avg = np.zeros(self.output_size)\n",
        "        self.boost_strength = 1\n",
        "        self.activ = np.zeros(self.output_size)\n",
        "        self.num_activ_col = round(self.output_size * self.output_sparsity)\n",
        "        self.count_active = []\n",
        "\n",
        "    def compute(self, dense_sdr, learn):\n",
        "        '''\n",
        "        params:\n",
        "            `dense_sdr` - input SDR in dense for, i.e. as np.array\n",
        "            `learn` - bool flag, whether or not to do a learning step\n",
        "\n",
        "        returns:\n",
        "            a list of activated columns indices\n",
        "        '''\n",
        "\n",
        "        overlap = np.sum((self.synapses[:, dense_sdr.astype(bool)] >= self.permanence_threshold), axis=1) * self.boosting_factors\n",
        "        activated_cols = np.argpartition(overlap, -self.num_activ_col)[-self.num_activ_col:]\n",
        "        self.n_active_bits = len(activated_cols)\n",
        "        self.count_active = np.concatenate([self.count_active, activated_cols])\n",
        "\n",
        "        self.activ = np.zeros(self.output_size)\n",
        "        self.activ[activated_cols] = 1\n",
        "        self.count_active = np.concatenate([self.count_active, activated_cols])\n",
        "\n",
        "\n",
        "\n",
        "        if learn:\n",
        "          activated_mask = (self.synapses[activated_cols] >= self.permanence_threshold) & dense_sdr.astype(bool)\n",
        "          self.synapses[activated_cols][activated_mask] += self.synapse_permanence_deltas[0]\n",
        "          self.synapses[activated_cols][~activated_mask] -= self.synapse_permanence_deltas[1]\n",
        "          np.clip(self.synapses[activated_cols], 0, 1, out=self.synapses[activated_cols])\n",
        "\n",
        "          self.activ_time_avg = (self.activ + (self.boost_sliding_window-1)*self.activ_time_avg)/self.boost_sliding_window\n",
        "          activ_avg = (np.sum(self.activ_time_avg) - self.activ_time_avg) / (self.activ_time_avg.shape[0] - 1)\n",
        "          self.boosting_factors = np.clip(np.exp(self.boost_strength * (activ_avg - self.activ_time_avg)), 1/self.max_boost_factor, self.max_boost_factor)\n",
        "\n",
        "\n",
        "        return activated_cols\n",
        "\n",
        "\n",
        "np.random.seed(seed)\n",
        "my_sp = BoostedSpatialPooler(\n",
        "    train_images[0].size, output_size=10**2, permanence_threshold=.5, output_sparsity=.04, synapse_permanence_deltas=(.1, .02),\n",
        "    receptive_field_sparsity=.8, max_boost_factor=0.5, boost_sliding_window=1000\n",
        ")\n",
        "my_sp.compute(train_images[0], True)"
      ]
    },
    {
      "cell_type": "markdown",
      "metadata": {
        "id": "_8Wq9YXhdJsZ"
      },
      "source": [
        "### 06.1. SP with boosting performance\n",
        "\n",
        "_Дальше все как и в пункте 05.1_\n",
        "\n",
        "Проверь качество работы своей реализации. В комментариях по-прежнему примерные значения для разных `n`, на которые можно попробовать ориентироваться:"
      ]
    },
    {
      "cell_type": "code",
      "execution_count": 12,
      "metadata": {
        "id": "fh3kCOJhdJsZ",
        "colab": {
          "base_uri": "https://localhost:8080/"
        },
        "outputId": "d3145318-4c94-47ba-d70f-740bab5e1626",
        "ExecuteTime": {
          "end_time": "2023-12-14T20:21:50.826782200Z",
          "start_time": "2023-12-14T20:21:38.304818500Z"
        }
      },
      "outputs": [
        {
          "output_type": "stream",
          "name": "stdout",
          "text": [
            "Score: 83.7% for n = 1000\n",
            "CPU times: user 3.36 s, sys: 13.1 ms, total: 3.38 s\n",
            "Wall time: 3.59 s\n"
          ]
        },
        {
          "output_type": "execute_result",
          "data": {
            "text/plain": [
              "0.837"
            ]
          },
          "metadata": {},
          "execution_count": 12
        }
      ],
      "source": [
        "%%time\n",
        "\n",
        "np.random.seed(seed)\n",
        "n = 1000\n",
        "x_tr, y_tr = train_images[:n], train_labels[:n]\n",
        "x_tst, y_tst = test_images[:n], test_labels[:n]\n",
        "\n",
        "sp = BoostedSpatialPooler(\n",
        "    input_size=train_images[0].size,\n",
        "    output_size=30**2,\n",
        "    permanence_threshold=.5,\n",
        "    output_sparsity=.04,\n",
        "    synapse_permanence_deltas=(.1, .03),\n",
        "    receptive_field_sparsity=.8,\n",
        "    max_boost_factor=2,\n",
        "    boost_sliding_window=1000\n",
        ")\n",
        "# 1k: 84.0; 3.24 s\n",
        "# 60k: 91.15; 86 s\n",
        "test_classification_with_sp(x_tr, y_tr, x_tst, y_tst, sp)"
      ]
    },
    {
      "cell_type": "markdown",
      "metadata": {
        "id": "sUMVCuQBdJsZ"
      },
      "source": [
        "- нарисуй гистограмму вероятностей активаций\n",
        "- посчитай энтропию $H = -\\sum p \\cdot \\log p$\n",
        "- сравни с результатами без бустинга - есть какие-то очевидные выводы?"
      ]
    },
    {
      "cell_type": "code",
      "execution_count": null,
      "metadata": {
        "id": "kIN2bYwYdJsZ",
        "colab": {
          "base_uri": "https://localhost:8080/",
          "height": 447
        },
        "outputId": "8ddefcbd-f4b6-4d85-bd89-dc2fb37ae6c2",
        "ExecuteTime": {
          "end_time": "2023-12-14T20:21:51.581314100Z",
          "start_time": "2023-12-14T20:21:50.826782200Z"
        }
      },
      "outputs": [
        {
          "output_type": "display_data",
          "data": {
            "text/plain": [
              "<Figure size 640x480 with 1 Axes>"
            ],
            "image/png": "[encoded data removed]"
          },
          "metadata": {}
        },
        {
          "output_type": "execute_result",
          "data": {
            "text/plain": [
              "9.286639882078155"
            ]
          },
          "metadata": {},
          "execution_count": 15
        }
      ],
      "source": [
        "plt.hist(sp.count_active, bins=sp.output_size, density = True)\n",
        "plt.show()\n",
        "\n",
        "from scipy.stats import entropy\n",
        "number_of_entries = []\n",
        "for index in range(sp.output_size):\n",
        "  number_of_entries.append(np.count_nonzero(sp.count_active == index))\n",
        "entropy(number_of_entries/np.sum(number_of_entries), base=2)"
      ]
    },
    {
      "cell_type": "markdown",
      "metadata": {
        "id": "vMzhZn38dJsZ"
      },
      "source": [
        "Протестируй разные значения `output_size` - например, $[10^2, 15^2,..., 55^2, 60^2]$ и отрисуй график зависимости [качества классификации, но можешь и времени работы тоже].\n",
        "\n",
        "Сравни с результатами без бустинга"
      ]
    },
    {
      "cell_type": "code",
      "execution_count": null,
      "metadata": {
        "ExecuteTime": {
          "end_time": "2023-12-14T14:48:55.866090Z",
          "start_time": "2023-12-14T14:39:23.947777800Z"
        },
        "id": "NBvSsU8LdJsZ",
        "colab": {
          "base_uri": "https://localhost:8080/",
          "height": 641
        },
        "outputId": "de251848-5c1c-49a6-c473-25c1146c1e28"
      },
      "outputs": [
        {
          "output_type": "stream",
          "name": "stdout",
          "text": [
            "Score: 53.9% for n = 1000\n",
            "Score: 69.6% for n = 1000\n",
            "Score: 74.3% for n = 1000\n",
            "Score: 80.3% for n = 1000\n",
            "Score: 83.7% for n = 1000\n",
            "Score: 86.2% for n = 1000\n",
            "Score: 87.5% for n = 1000\n",
            "Score: 87.7% for n = 1000\n",
            "Score: 87.5% for n = 1000\n",
            "Score: 88.8% for n = 1000\n",
            "Score: 90.5% for n = 1000\n"
          ]
        },
        {
          "output_type": "display_data",
          "data": {
            "text/plain": [
              "<Figure size 640x480 with 1 Axes>"
            ],
            "image/png": "[encoded data removed]"
          },
          "metadata": {}
        }
      ],
      "source": [
        "n = 1000\n",
        "x_tr, y_tr = train_images[:n], train_labels[:n]\n",
        "x_tst, y_tst = test_images[:n], test_labels[:n]\n",
        "\n",
        "score = []\n",
        "\n",
        "for size in range(10,61,5):\n",
        "    np.random.seed(seed)\n",
        "    sp = BoostedSpatialPooler(\n",
        "        input_size=train_images[0].size,\n",
        "        output_size=size**2,\n",
        "        permanence_threshold=.5,\n",
        "        output_sparsity=.04,\n",
        "        synapse_permanence_deltas=(.1, .03),\n",
        "        receptive_field_sparsity=.8,\n",
        "        max_boost_factor=2,\n",
        "        boost_sliding_window=1000\n",
        "    )\n",
        "    score.append(test_classification_with_sp(x_tr, y_tr, x_tst, y_tst, sp))\n",
        "\n",
        "plt.plot(np.arange(10,61,5)**2, score)\n",
        "plt.xlabel(\"Output_size\")\n",
        "plt.ylabel(\"Score\")\n",
        "plt.show()"
      ]
    },
    {
      "cell_type": "markdown",
      "metadata": {
        "id": "gVugAPbXdJsZ"
      },
      "source": [
        "___\n",
        "__[Опционально]__ можешь ради интереса поиграться с таким параметром как `receptive_field_sparsity`. Возьми в качестве выходного размера `output_size` = $50^2$ и проверь результаты на разных значениях параметра $[0.4, 0.5, ..., 1.0]$ и построй график зависимости."
      ]
    },
    {
      "cell_type": "code",
      "execution_count": null,
      "metadata": {
        "ExecuteTime": {
          "end_time": "2023-12-14T14:57:55.766886500Z",
          "start_time": "2023-12-14T14:48:55.862073100Z"
        },
        "id": "yJHA2vkldJsZ",
        "colab": {
          "base_uri": "https://localhost:8080/",
          "height": 573
        },
        "outputId": "31ced08d-1ca8-4474-93da-4d5c200e9cd0"
      },
      "outputs": [
        {
          "output_type": "stream",
          "name": "stdout",
          "text": [
            "Score: 89.6% for n = 1000\n",
            "Score: 88.6% for n = 1000\n",
            "Score: 89.9% for n = 1000\n",
            "Score: 89.3% for n = 1000\n",
            "Score: 87.5% for n = 1000\n",
            "Score: 88.2% for n = 1000\n",
            "Score: 89.2% for n = 1000\n"
          ]
        },
        {
          "output_type": "display_data",
          "data": {
            "text/plain": [
              "<Figure size 640x480 with 1 Axes>"
            ],
            "image/png": "[encoded data removed]"
          },
          "metadata": {}
        }
      ],
      "source": [
        "n = 1000\n",
        "x_tr, y_tr = train_images[:n], train_labels[:n]\n",
        "x_tst, y_tst = test_images[:n], test_labels[:n]\n",
        "\n",
        "score = []\n",
        "field_sparsities = np.arange(0.4,1.1,0.1)\n",
        "\n",
        "for field_sparsity in field_sparsities:\n",
        "  np.random.seed(seed)\n",
        "  sp = BoostedSpatialPooler(\n",
        "      input_size=train_images[0].size,\n",
        "      output_size=50**2,\n",
        "      permanence_threshold=.5,\n",
        "      output_sparsity=.04,\n",
        "      synapse_permanence_deltas=(.1, .03),\n",
        "      receptive_field_sparsity=field_sparsity,\n",
        "      max_boost_factor=2,\n",
        "      boost_sliding_window=1000\n",
        "  )\n",
        "  score.append(test_classification_with_sp(x_tr, y_tr, x_tst, y_tst, sp))\n",
        "\n",
        "plt.plot(field_sparsities, score)\n",
        "plt.xlabel(\"Receptive field sparsity\")\n",
        "plt.ylabel(\"Score\")\n",
        "plt.show()"
      ]
    },
    {
      "cell_type": "markdown",
      "metadata": {
        "id": "Gfvu7F1ndJsa"
      },
      "source": [
        "## 07. TESTING\n",
        "\n",
        "Дальше просто сравнительное тестирование получившихся результатов."
      ]
    },
    {
      "cell_type": "code",
      "execution_count": 16,
      "metadata": {
        "ExecuteTime": {
          "end_time": "2023-12-14T14:57:55.909863300Z",
          "start_time": "2023-12-14T14:57:55.753388300Z"
        },
        "id": "4mzvJQJndJsa"
      },
      "outputs": [],
      "source": [
        "n = 60000\n",
        "x_tr, y_tr = train_images[:n], train_labels[:n]\n",
        "x_tst, y_tst = test_images[:n], test_labels[:n]"
      ]
    },
    {
      "cell_type": "code",
      "execution_count": null,
      "metadata": {
        "ExecuteTime": {
          "end_time": "2023-12-14T15:00:43.084420900Z",
          "start_time": "2023-12-14T14:57:55.762350800Z"
        },
        "id": "5W6C0vGRdJsa",
        "colab": {
          "base_uri": "https://localhost:8080/"
        },
        "outputId": "fb5ee696-1d80-4094-a3de-e069349698c7"
      },
      "outputs": [
        {
          "output_type": "stream",
          "name": "stdout",
          "text": [
            "Score: 91.4%\n",
            "CPU times: user 4.11 s, sys: 1.26 s, total: 5.37 s\n",
            "Wall time: 5min 45s\n"
          ]
        },
        {
          "output_type": "execute_result",
          "data": {
            "text/plain": [
              "0.9143"
            ]
          },
          "metadata": {},
          "execution_count": 15
        }
      ],
      "source": [
        "%%time\n",
        "\n",
        "def test_bare_classification(x_tr,  y_tr, x_tst, y_tst):\n",
        "    linreg = LogisticRegression(tol=.05, max_iter=LBFGS_MAX_ITER, multi_class='multinomial', penalty='l2', solver='lbfgs', n_jobs=3)\n",
        "    linreg.fit(x_tr, y_tr)\n",
        "\n",
        "    score = linreg.predict(x_tst) == y_tst\n",
        "    score = score.mean()\n",
        "    print(f'Score: {100 * score:.1f}%')\n",
        "    return score\n",
        "\n",
        "np.random.seed(seed)\n",
        "# 92.11; 38s\n",
        "test_bare_classification(x_tr, y_tr, x_tst, y_tst)"
      ]
    },
    {
      "cell_type": "code",
      "execution_count": 17,
      "metadata": {
        "ExecuteTime": {
          "end_time": "2023-12-14T15:18:11.714579500Z",
          "start_time": "2023-12-14T15:00:43.073403Z"
        },
        "id": "064XU0bEdJsa",
        "colab": {
          "base_uri": "https://localhost:8080/"
        },
        "outputId": "b41d0c85-67fb-4d23-9f3d-44be5386b1d1"
      },
      "outputs": [
        {
          "output_type": "stream",
          "name": "stdout",
          "text": [
            "Score: 89.2% for n = 60000\n",
            "CPU times: user 4min 54s, sys: 1.43 s, total: 4min 55s\n",
            "Wall time: 5min 35s\n"
          ]
        },
        {
          "output_type": "execute_result",
          "data": {
            "text/plain": [
              "0.8925"
            ]
          },
          "metadata": {},
          "execution_count": 17
        }
      ],
      "source": [
        "%%time\n",
        "\n",
        "np.random.seed(seed)\n",
        "sp = LearnableSpatialPooler(\n",
        "    input_size=train_images[0].size,\n",
        "    output_size=30**2,\n",
        "    permanence_threshold=.5,\n",
        "    output_sparsity=.04,\n",
        "    synapse_permanence_deltas=(.1, .03),\n",
        "    receptive_field_sparsity=.8,\n",
        ")\n",
        "# 89.3; 72 s\n",
        "test_classification_with_sp(x_tr, y_tr, x_tst, y_tst, sp)"
      ]
    },
    {
      "cell_type": "code",
      "execution_count": 18,
      "metadata": {
        "ExecuteTime": {
          "end_time": "2023-12-14T15:49:38.064844400Z",
          "start_time": "2023-12-14T15:18:11.702470500Z"
        },
        "id": "CXs-dBdWdJsa",
        "colab": {
          "base_uri": "https://localhost:8080/"
        },
        "outputId": "2fb4b50b-19e1-4d78-b44d-60cd9e8d1f2d"
      },
      "outputs": [
        {
          "output_type": "stream",
          "name": "stdout",
          "text": [
            "Score: 92.4% for n = 60000\n",
            "CPU times: user 16min 39s, sys: 3min 19s, total: 19min 58s\n",
            "Wall time: 21min 36s\n"
          ]
        },
        {
          "output_type": "execute_result",
          "data": {
            "text/plain": [
              "0.9242"
            ]
          },
          "metadata": {},
          "execution_count": 18
        }
      ],
      "source": [
        "%%time\n",
        "\n",
        "np.random.seed(seed)\n",
        "sp = LearnableSpatialPooler(\n",
        "    input_size=train_images[0].size,\n",
        "    output_size=50**2,\n",
        "    permanence_threshold=.5,\n",
        "    output_sparsity=.04,\n",
        "    synapse_permanence_deltas=(.1, .03),\n",
        "    receptive_field_sparsity=.8,\n",
        ")\n",
        "# 93.15; 221 s\n",
        "test_classification_with_sp(x_tr, y_tr, x_tst, y_tst, sp)"
      ]
    },
    {
      "cell_type": "code",
      "execution_count": null,
      "metadata": {
        "ExecuteTime": {
          "end_time": "2023-12-14T15:56:01.196796500Z",
          "start_time": "2023-12-14T15:49:38.045973800Z"
        },
        "id": "m2PGoSujdJsi",
        "colab": {
          "base_uri": "https://localhost:8080/"
        },
        "outputId": "08e9f582-ba00-4555-d49b-d1c00b9eba27"
      },
      "outputs": [
        {
          "output_type": "stream",
          "name": "stdout",
          "text": [
            "Score: 90.1% for n = 60000\n",
            "CPU times: user 10min 52s, sys: 1.58 s, total: 10min 54s\n",
            "Wall time: 11min 19s\n"
          ]
        },
        {
          "output_type": "execute_result",
          "data": {
            "text/plain": [
              "0.9008"
            ]
          },
          "metadata": {},
          "execution_count": 21
        }
      ],
      "source": [
        "%%time\n",
        "\n",
        "np.random.seed(seed)\n",
        "sp = BoostedSpatialPooler(\n",
        "    input_size=train_images[0].size,\n",
        "    output_size=30**2,\n",
        "    permanence_threshold=.5,\n",
        "    output_sparsity=.04,\n",
        "    synapse_permanence_deltas=(.1, .03),\n",
        "    receptive_field_sparsity=.8,\n",
        "    max_boost_factor=2,\n",
        "    boost_sliding_window=1000\n",
        ")\n",
        "# 91.15; 86 s\n",
        "test_classification_with_sp(x_tr, y_tr, x_tst, y_tst, sp)"
      ]
    },
    {
      "cell_type": "code",
      "execution_count": null,
      "metadata": {
        "is_executing": true,
        "ExecuteTime": {
          "start_time": "2023-12-14T15:56:01.203059200Z"
        },
        "id": "teAz2RS4dJsi",
        "colab": {
          "base_uri": "https://localhost:8080/"
        },
        "outputId": "9e6242e0-4db6-416f-b8b0-8eb17873bf4e"
      },
      "outputs": [
        {
          "output_type": "stream",
          "name": "stdout",
          "text": [
            "Score: 93.5% for n = 60000\n",
            "CPU times: user 29min 12s, sys: 17min 56s, total: 47min 9s\n",
            "Wall time: 47min 54s\n"
          ]
        },
        {
          "output_type": "execute_result",
          "data": {
            "text/plain": [
              "0.9345"
            ]
          },
          "metadata": {},
          "execution_count": 22
        }
      ],
      "source": [
        "%%time\n",
        "\n",
        "np.random.seed(seed)\n",
        "sp = BoostedSpatialPooler(\n",
        "    input_size=train_images[0].size,\n",
        "    output_size=50**2,\n",
        "    permanence_threshold=.5,\n",
        "    output_sparsity=.04,\n",
        "    synapse_permanence_deltas=(.1, .03),\n",
        "    receptive_field_sparsity=.8,\n",
        "    max_boost_factor=2,\n",
        "    boost_sliding_window=1000\n",
        ")\n",
        "# 94.44; 238 s\n",
        "test_classification_with_sp(x_tr, y_tr, x_tst, y_tst, sp)"
      ]
    },
    {
      "cell_type": "markdown",
      "metadata": {
        "id": "ZeZqKTpIdJsi"
      },
      "source": [
        "## Improve SP implementation\n",
        "\n",
        "Теперь, когда у тебя есть готовая реализация SpatialPooler, время для улучшения/ускорения реализации. Попробуй выполнить задания ниже.\n",
        "\n",
        "1. **Векторизация**: нужна векторизованная реализация, которая будет эффективно вычислять overlap score, boosting и все остальное. Важно ответить себе на вопрос, как организовать хранение рецептивных полей нейронов SP, как делать pattern matching для входного паттерна, как эффективно делать шаг обновления. Придется поиграться с разными реализациями, измеряя скорость их работы. Ну и вообще, сейчас самое время причесать свою реализациюи довести ее до финального вида.\n",
        "\n",
        "2. **Разреженные рецептивные поля**: можно ли улучшить качество работы SP, если уменьшить размеры рецептивных полей его нейронов (но возможно увеличив количество нейронов)? Зафиксируй какое-нибудь определенный лимит времени работы SP и попробуй варьировать эти два гиперпараметра (`receptive_field_sparsity` и `output_size`), чтобы оставаться в рамках лимита. Нарисуй график зависимости качества от этих двух параметров.\n",
        "\n",
        "3. [**СЛОЖНО**] **Newborn-stage**: В [On the importance of the newborn stage when learning patterns with the Spatial Pooler](https://link.springer.com/article/10.1007/s42979-022-01066-4) описана идея, что бустинг, вообще говоря, имеет и негативную сторону — он имеет смысл лишь на ранних стадиях формирования рецептивных полей нейронов. Но далее он только влечет к нестабильности (способствует дрифту кодировки на выходе из SP за счет переучивания его нейронов). Предлагается взять эту идею (статью подробно читать для этого не нужно) и добавить newborn stage в SP. Для этого сделай отдельную реализацию, чтобы у тебя была отдельная финальная версия без этой фичи, и отдельная уже с. Newborn stage будет разделен на K этапов, в процессе которых\n",
        "    1. Бустинг будет постепенно снижаться (например, линейно) к нулю\n",
        "    2. Рецептивные поля будут уменьшаться. Таким образом SP будет инициализироваться с большими рецептивными полями, но в процессе newborn stage они будут постепенно пруниться до целевых значений. Это позволит нам во взрослой стадии иметь быстрый (за счет маленьких рецептивных полей) SP с хорошо настроенными рецептивными полями, из-за чего качество будет не сильно хуже, чем если бы мы не прунили.\n",
        "   \n",
        "   Протестируй данную реализацию с разными настройками начального и конечного размера рецептивных полей."
      ]
    },
    {
      "cell_type": "code",
      "source": [
        "import signal\n",
        "import time\n",
        "import plotly.express as px\n",
        "import pandas as pd\n",
        "\n",
        "def timeout_handler(signum, frame):\n",
        "    raise TimeoutError(\"Время выполнения функции истекло\")\n",
        "\n",
        "n = 1000\n",
        "x_tr, y_tr = train_images[:n], train_labels[:n]\n",
        "x_tst, y_tst = test_images[:n], test_labels[:n]\n",
        "\n",
        "signal.signal(signal.SIGALRM, timeout_handler)\n",
        "\n",
        "receptive_field_sparsities = np.arange(0.4,1.1,0.1)\n",
        "sizes = np.arange(10,61,5)**2\n",
        "score = []\n",
        "indexes_for_del = []\n",
        "comb = np.array(np.meshgrid(sizes, receptive_field_sparsities)).T.reshape(-1,2)"
      ],
      "metadata": {
        "id": "YliCPwND4LyZ"
      },
      "execution_count": 13,
      "outputs": []
    },
    {
      "cell_type": "code",
      "source": [
        "for index in range(comb.shape[0]):\n",
        "  signal.alarm(60)\n",
        "  np.random.seed(seed)\n",
        "  sp = BoostedSpatialPooler(\n",
        "      input_size=train_images[0].size,\n",
        "      output_size=int(comb[index,0]),\n",
        "      permanence_threshold=.5,\n",
        "      output_sparsity=.04,\n",
        "      synapse_permanence_deltas=(.1, .03),\n",
        "      receptive_field_sparsity=comb[index,1],\n",
        "      max_boost_factor=2,\n",
        "      boost_sliding_window=1000\n",
        "  )\n",
        "  try:\n",
        "    score.append(test_classification_with_sp(x_tr, y_tr, x_tst, y_tst, sp))\n",
        "  except TimeoutError as e:\n",
        "      print(e)\n",
        "      indexes_for_del.append(index)\n",
        "  finally:\n",
        "      signal.alarm(0)"
      ],
      "metadata": {
        "id": "KqY0BFu5623a"
      },
      "execution_count": null,
      "outputs": []
    },
    {
      "cell_type": "markdown",
      "source": [
        "![newplot.png](data:image/png;base64,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)"
      ],
      "metadata": {
        "id": "SlvFEGRqo5qv"
      }
    },
    {
      "cell_type": "code",
      "source": [
        "comb = np.delete(comb, indexes_for_del,axis = 0)\n",
        "data = {'output_size': comb[:,0], 'receptive_field_sparsity': comb[:,1], 'score': score}\n",
        "df = pd.DataFrame(data=data)\n",
        "fig = px.scatter_3d(df, x='output_size', y='receptive_field_sparsity', z='score')\n",
        "fig.show()"
      ],
      "metadata": {
        "colab": {
          "base_uri": "https://localhost:8080/",
          "height": 542
        },
        "id": "-SDiszyZ-9mC",
        "outputId": "d8ff6ca8-4571-4b51-d56e-cfcf0310ed2f"
      },
      "execution_count": 18,
      "outputs": [
        {
          "output_type": "display_data",
          "data": {
            "text/html": [
              "<html>\n",
              "<head><meta charset=\"utf-8\" /></head>\n",
              "<body>\n",
              "    <div>            <script src=\"https://cdnjs.cloudflare.com/ajax/libs/mathjax/2.7.5/MathJax.js?config=TeX-AMS-MML_SVG\"></script><script type=\"text/javascript\">if (window.MathJax && window.MathJax.Hub && window.MathJax.Hub.Config) {window.MathJax.Hub.Config({SVG: {font: \"STIX-Web\"}});}</script>                <script type=\"text/javascript\">window.PlotlyConfig = {MathJaxConfig: 'local'};</script>\n",
              "        <script charset=\"utf-8\" src=\"https://cdn.plot.ly/plotly-2.24.1.min.js\"></script>                <div id=\"0dedbc6b-d6c9-4064-9319-f7820c416a7a\" class=\"plotly-graph-div\" style=\"height:525px; width:100%;\"></div>            <script type=\"text/javascript\">                                    window.PLOTLYENV=window.PLOTLYENV || {};                                    if (document.getElementById(\"0dedbc6b-d6c9-4064-9319-f7820c416a7a\")) {                    Plotly.newPlot(                        \"0dedbc6b-d6c9-4064-9319-f7820c416a7a\",                        [{\"hovertemplate\":\"output_size=%{x}\\u003cbr\\u003ereceptive_field_sparsity=%{y}\\u003cbr\\u003escore=%{z}\\u003cextra\\u003e\\u003c\\u002fextra\\u003e\",\"legendgroup\":\"\",\"marker\":{\"color\":\"#636efa\",\"symbol\":\"circle\"},\"mode\":\"markers\",\"name\":\"\",\"scene\":\"scene\",\"showlegend\":false,\"x\":[100.0,100.0,100.0,100.0,100.0,100.0,100.0,225.0,225.0,225.0,225.0,225.0,225.0,225.0,400.0,400.0,400.0,400.0,400.0,400.0,400.0,625.0,625.0,625.0,625.0,625.0,625.0,625.0,900.0,900.0,900.0,900.0,900.0,900.0,900.0,1225.0,1225.0,1225.0,1225.0,1225.0,1225.0,1225.0,1600.0,1600.0,1600.0,1600.0,1600.0,1600.0,1600.0,2025.0,2025.0,2025.0,2025.0,2025.0,2025.0,2025.0,2500.0,2500.0,2500.0,2500.0,2500.0,2500.0,2500.0,3025.0,3025.0,3025.0,3025.0,3025.0,3025.0,3025.0,3600.0,3600.0,3600.0,3600.0,3600.0,3600.0,3600.0],\"y\":[0.4,0.5,0.6,0.7,0.7999999999999999,0.8999999999999999,0.9999999999999999,0.4,0.5,0.6,0.7,0.7999999999999999,0.8999999999999999,0.9999999999999999,0.4,0.5,0.6,0.7,0.7999999999999999,0.8999999999999999,0.9999999999999999,0.4,0.5,0.6,0.7,0.7999999999999999,0.8999999999999999,0.9999999999999999,0.4,0.5,0.6,0.7,0.7999999999999999,0.8999999999999999,0.9999999999999999,0.4,0.5,0.6,0.7,0.7999999999999999,0.8999999999999999,0.9999999999999999,0.4,0.5,0.6,0.7,0.7999999999999999,0.8999999999999999,0.9999999999999999,0.4,0.5,0.6,0.7,0.7999999999999999,0.8999999999999999,0.9999999999999999,0.4,0.5,0.6,0.7,0.7999999999999999,0.8999999999999999,0.9999999999999999,0.4,0.5,0.6,0.7,0.7999999999999999,0.8999999999999999,0.9999999999999999,0.4,0.5,0.6,0.7,0.7999999999999999,0.8999999999999999,0.9999999999999999],\"z\":[0.537,0.567,0.539,0.507,0.539,0.524,0.536,0.659,0.657,0.655,0.669,0.696,0.646,0.679,0.707,0.731,0.754,0.733,0.743,0.718,0.748,0.785,0.808,0.783,0.802,0.803,0.81,0.811,0.839,0.833,0.837,0.835,0.837,0.845,0.816,0.866,0.867,0.862,0.858,0.862,0.866,0.857,0.871,0.874,0.853,0.884,0.875,0.878,0.86,0.874,0.885,0.877,0.885,0.877,0.885,0.884,0.896,0.886,0.899,0.893,0.875,0.882,0.892,0.894,0.903,0.894,0.886,0.888,0.893,0.898,0.895,0.903,0.906,0.9,0.905,0.909,0.892],\"type\":\"scatter3d\"}],                        {\"template\":{\"data\":{\"histogram2dcontour\":[{\"type\":\"histogram2dcontour\",\"colorbar\":{\"outlinewidth\":0,\"ticks\":\"\"},\"colorscale\":[[0.0,\"#0d0887\"],[0.1111111111111111,\"#46039f\"],[0.2222222222222222,\"#7201a8\"],[0.3333333333333333,\"#9c179e\"],[0.4444444444444444,\"#bd3786\"],[0.5555555555555556,\"#d8576b\"],[0.6666666666666666,\"#ed7953\"],[0.7777777777777778,\"#fb9f3a\"],[0.8888888888888888,\"#fdca26\"],[1.0,\"#f0f921\"]]}],\"choropleth\":[{\"type\":\"choropleth\",\"colorbar\":{\"outlinewidth\":0,\"ticks\":\"\"}}],\"histogram2d\":[{\"type\":\"histogram2d\",\"colorbar\":{\"outlinewidth\":0,\"ticks\":\"\"},\"colorscale\":[[0.0,\"#0d0887\"],[0.1111111111111111,\"#46039f\"],[0.2222222222222222,\"#7201a8\"],[0.3333333333333333,\"#9c179e\"],[0.4444444444444444,\"#bd3786\"],[0.5555555555555556,\"#d8576b\"],[0.6666666666666666,\"#ed7953\"],[0.7777777777777778,\"#fb9f3a\"],[0.8888888888888888,\"#fdca26\"],[1.0,\"#f0f921\"]]}],\"heatmap\":[{\"type\":\"heatmap\",\"colorbar\":{\"outlinewidth\":0,\"ticks\":\"\"},\"colorscale\":[[0.0,\"#0d0887\"],[0.1111111111111111,\"#46039f\"],[0.2222222222222222,\"#7201a8\"],[0.3333333333333333,\"#9c179e\"],[0.4444444444444444,\"#bd3786\"],[0.5555555555555556,\"#d8576b\"],[0.6666666666666666,\"#ed7953\"],[0.7777777777777778,\"#fb9f3a\"],[0.8888888888888888,\"#fdca26\"],[1.0,\"#f0f921\"]]}],\"heatmapgl\":[{\"type\":\"heatmapgl\",\"colorbar\":{\"outlinewidth\":0,\"ticks\":\"\"},\"colorscale\":[[0.0,\"#0d0887\"],[0.1111111111111111,\"#46039f\"],[0.2222222222222222,\"#7201a8\"],[0.3333333333333333,\"#9c179e\"],[0.4444444444444444,\"#bd3786\"],[0.5555555555555556,\"#d8576b\"],[0.6666666666666666,\"#ed7953\"],[0.7777777777777778,\"#fb9f3a\"],[0.8888888888888888,\"#fdca26\"],[1.0,\"#f0f921\"]]}],\"contourcarpet\":[{\"type\":\"contourcarpet\",\"colorbar\":{\"outlinewidth\":0,\"ticks\":\"\"}}],\"contour\":[{\"type\":\"contour\",\"colorbar\":{\"outlinewidth\":0,\"ticks\":\"\"},\"colorscale\":[[0.0,\"#0d0887\"],[0.1111111111111111,\"#46039f\"],[0.2222222222222222,\"#7201a8\"],[0.3333333333333333,\"#9c179e\"],[0.4444444444444444,\"#bd3786\"],[0.5555555555555556,\"#d8576b\"],[0.6666666666666666,\"#ed7953\"],[0.7777777777777778,\"#fb9f3a\"],[0.8888888888888888,\"#fdca26\"],[1.0,\"#f0f921\"]]}],\"surface\":[{\"type\":\"surface\",\"colorbar\":{\"outlinewidth\":0,\"ticks\":\"\"},\"colorscale\":[[0.0,\"#0d0887\"],[0.1111111111111111,\"#46039f\"],[0.2222222222222222,\"#7201a8\"],[0.3333333333333333,\"#9c179e\"],[0.4444444444444444,\"#bd3786\"],[0.5555555555555556,\"#d8576b\"],[0.6666666666666666,\"#ed7953\"],[0.7777777777777778,\"#fb9f3a\"],[0.8888888888888888,\"#fdca26\"],[1.0,\"#f0f921\"]]}],\"mesh3d\":[{\"type\":\"mesh3d\",\"colorbar\":{\"outlinewidth\":0,\"ticks\":\"\"}}],\"scatter\":[{\"fillpattern\":{\"fillmode\":\"overlay\",\"size\":10,\"solidity\":0.2},\"type\":\"scatter\"}],\"parcoords\":[{\"type\":\"parcoords\",\"line\":{\"colorbar\":{\"outlinewidth\":0,\"ticks\":\"\"}}}],\"scatterpolargl\":[{\"type\":\"scatterpolargl\",\"marker\":{\"colorbar\":{\"outlinewidth\":0,\"ticks\":\"\"}}}],\"bar\":[{\"error_x\":{\"color\":\"#2a3f5f\"},\"error_y\":{\"color\":\"#2a3f5f\"},\"marker\":{\"line\":{\"color\":\"#E5ECF6\",\"width\":0.5},\"pattern\":{\"fillmode\":\"overlay\",\"size\":10,\"solidity\":0.2}},\"type\":\"bar\"}],\"scattergeo\":[{\"type\":\"scattergeo\",\"marker\":{\"colorbar\":{\"outlinewidth\":0,\"ticks\":\"\"}}}],\"scatterpolar\":[{\"type\":\"scatterpolar\",\"marker\":{\"colorbar\":{\"outlinewidth\":0,\"ticks\":\"\"}}}],\"histogram\":[{\"marker\":{\"pattern\":{\"fillmode\":\"overlay\",\"size\":10,\"solidity\":0.2}},\"type\":\"histogram\"}],\"scattergl\":[{\"type\":\"scattergl\",\"marker\":{\"colorbar\":{\"outlinewidth\":0,\"ticks\":\"\"}}}],\"scatter3d\":[{\"type\":\"scatter3d\",\"line\":{\"colorbar\":{\"outlinewidth\":0,\"ticks\":\"\"}},\"marker\":{\"colorbar\":{\"outlinewidth\":0,\"ticks\":\"\"}}}],\"scattermapbox\":[{\"type\":\"scattermapbox\",\"marker\":{\"colorbar\":{\"outlinewidth\":0,\"ticks\":\"\"}}}],\"scatterternary\":[{\"type\":\"scatterternary\",\"marker\":{\"colorbar\":{\"outlinewidth\":0,\"ticks\":\"\"}}}],\"scattercarpet\":[{\"type\":\"scattercarpet\",\"marker\":{\"colorbar\":{\"outlinewidth\":0,\"ticks\":\"\"}}}],\"carpet\":[{\"aaxis\":{\"endlinecolor\":\"#2a3f5f\",\"gridcolor\":\"white\",\"linecolor\":\"white\",\"minorgridcolor\":\"white\",\"startlinecolor\":\"#2a3f5f\"},\"baxis\":{\"endlinecolor\":\"#2a3f5f\",\"gridcolor\":\"white\",\"linecolor\":\"white\",\"minorgridcolor\":\"white\",\"startlinecolor\":\"#2a3f5f\"},\"type\":\"carpet\"}],\"table\":[{\"cells\":{\"fill\":{\"color\":\"#EBF0F8\"},\"line\":{\"color\":\"white\"}},\"header\":{\"fill\":{\"color\":\"#C8D4E3\"},\"line\":{\"color\":\"white\"}},\"type\":\"table\"}],\"barpolar\":[{\"marker\":{\"line\":{\"color\":\"#E5ECF6\",\"width\":0.5},\"pattern\":{\"fillmode\":\"overlay\",\"size\":10,\"solidity\":0.2}},\"type\":\"barpolar\"}],\"pie\":[{\"automargin\":true,\"type\":\"pie\"}]},\"layout\":{\"autotypenumbers\":\"strict\",\"colorway\":[\"#636efa\",\"#EF553B\",\"#00cc96\",\"#ab63fa\",\"#FFA15A\",\"#19d3f3\",\"#FF6692\",\"#B6E880\",\"#FF97FF\",\"#FECB52\"],\"font\":{\"color\":\"#2a3f5f\"},\"hovermode\":\"closest\",\"hoverlabel\":{\"align\":\"left\"},\"paper_bgcolor\":\"white\",\"plot_bgcolor\":\"#E5ECF6\",\"polar\":{\"bgcolor\":\"#E5ECF6\",\"angularaxis\":{\"gridcolor\":\"white\",\"linecolor\":\"white\",\"ticks\":\"\"},\"radialaxis\":{\"gridcolor\":\"white\",\"linecolor\":\"white\",\"ticks\":\"\"}},\"ternary\":{\"bgcolor\":\"#E5ECF6\",\"aaxis\":{\"gridcolor\":\"white\",\"linecolor\":\"white\",\"ticks\":\"\"},\"baxis\":{\"gridcolor\":\"white\",\"linecolor\":\"white\",\"ticks\":\"\"},\"caxis\":{\"gridcolor\":\"white\",\"linecolor\":\"white\",\"ticks\":\"\"}},\"coloraxis\":{\"colorbar\":{\"outlinewidth\":0,\"ticks\":\"\"}},\"colorscale\":{\"sequential\":[[0.0,\"#0d0887\"],[0.1111111111111111,\"#46039f\"],[0.2222222222222222,\"#7201a8\"],[0.3333333333333333,\"#9c179e\"],[0.4444444444444444,\"#bd3786\"],[0.5555555555555556,\"#d8576b\"],[0.6666666666666666,\"#ed7953\"],[0.7777777777777778,\"#fb9f3a\"],[0.8888888888888888,\"#fdca26\"],[1.0,\"#f0f921\"]],\"sequentialminus\":[[0.0,\"#0d0887\"],[0.1111111111111111,\"#46039f\"],[0.2222222222222222,\"#7201a8\"],[0.3333333333333333,\"#9c179e\"],[0.4444444444444444,\"#bd3786\"],[0.5555555555555556,\"#d8576b\"],[0.6666666666666666,\"#ed7953\"],[0.7777777777777778,\"#fb9f3a\"],[0.8888888888888888,\"#fdca26\"],[1.0,\"#f0f921\"]],\"diverging\":[[0,\"#8e0152\"],[0.1,\"#c51b7d\"],[0.2,\"#de77ae\"],[0.3,\"#f1b6da\"],[0.4,\"#fde0ef\"],[0.5,\"#f7f7f7\"],[0.6,\"#e6f5d0\"],[0.7,\"#b8e186\"],[0.8,\"#7fbc41\"],[0.9,\"#4d9221\"],[1,\"#276419\"]]},\"xaxis\":{\"gridcolor\":\"white\",\"linecolor\":\"white\",\"ticks\":\"\",\"title\":{\"standoff\":15},\"zerolinecolor\":\"white\",\"automargin\":true,\"zerolinewidth\":2},\"yaxis\":{\"gridcolor\":\"white\",\"linecolor\":\"white\",\"ticks\":\"\",\"title\":{\"standoff\":15},\"zerolinecolor\":\"white\",\"automargin\":true,\"zerolinewidth\":2},\"scene\":{\"xaxis\":{\"backgroundcolor\":\"#E5ECF6\",\"gridcolor\":\"white\",\"linecolor\":\"white\",\"showbackground\":true,\"ticks\":\"\",\"zerolinecolor\":\"white\",\"gridwidth\":2},\"yaxis\":{\"backgroundcolor\":\"#E5ECF6\",\"gridcolor\":\"white\",\"linecolor\":\"white\",\"showbackground\":true,\"ticks\":\"\",\"zerolinecolor\":\"white\",\"gridwidth\":2},\"zaxis\":{\"backgroundcolor\":\"#E5ECF6\",\"gridcolor\":\"white\",\"linecolor\":\"white\",\"showbackground\":true,\"ticks\":\"\",\"zerolinecolor\":\"white\",\"gridwidth\":2}},\"shapedefaults\":{\"line\":{\"color\":\"#2a3f5f\"}},\"annotationdefaults\":{\"arrowcolor\":\"#2a3f5f\",\"arrowhead\":0,\"arrowwidth\":1},\"geo\":{\"bgcolor\":\"white\",\"landcolor\":\"#E5ECF6\",\"subunitcolor\":\"white\",\"showland\":true,\"showlakes\":true,\"lakecolor\":\"white\"},\"title\":{\"x\":0.05},\"mapbox\":{\"style\":\"light\"}}},\"scene\":{\"domain\":{\"x\":[0.0,1.0],\"y\":[0.0,1.0]},\"xaxis\":{\"title\":{\"text\":\"output_size\"}},\"yaxis\":{\"title\":{\"text\":\"receptive_field_sparsity\"}},\"zaxis\":{\"title\":{\"text\":\"score\"}}},\"legend\":{\"tracegroupgap\":0},\"margin\":{\"t\":60}},                        {\"responsive\": true}                    ).then(function(){\n",
              "                            \n",
              "var gd = document.getElementById('0dedbc6b-d6c9-4064-9319-f7820c416a7a');\n",
              "var x = new MutationObserver(function (mutations, observer) {{\n",
              "        var display = window.getComputedStyle(gd).display;\n",
              "        if (!display || display === 'none') {{\n",
              "            console.log([gd, 'removed!']);\n",
              "            Plotly.purge(gd);\n",
              "            observer.disconnect();\n",
              "        }}\n",
              "}});\n",
              "\n",
              "// Listen for the removal of the full notebook cells\n",
              "var notebookContainer = gd.closest('#notebook-container');\n",
              "if (notebookContainer) {{\n",
              "    x.observe(notebookContainer, {childList: true});\n",
              "}}\n",
              "\n",
              "// Listen for the clearing of the current output cell\n",
              "var outputEl = gd.closest('.output');\n",
              "if (outputEl) {{\n",
              "    x.observe(outputEl, {childList: true});\n",
              "}}\n",
              "\n",
              "                        })                };                            </script>        </div>\n",
              "</body>\n",
              "</html>"
            ]
          },
          "metadata": {}
        }
      ]
    }
  ],
  "metadata": {
    "kernelspec": {
      "display_name": "Python 3 (ipykernel)",
      "language": "python",
      "name": "python3"
    },
    "language_info": {
      "codemirror_mode": {
        "name": "ipython",
        "version": 3
      },
      "file_extension": ".py",
      "mimetype": "text/x-python",
      "name": "python",
      "nbconvert_exporter": "python",
      "pygments_lexer": "ipython3",
      "version": "3.9.16"
    },
    "colab": {
      "provenance": []
    }
  },
  "nbformat": 4,
  "nbformat_minor": 0
}