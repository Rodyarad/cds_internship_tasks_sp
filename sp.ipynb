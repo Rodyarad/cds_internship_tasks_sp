{
 "cells": [
  {
   "cell_type": "markdown",
   "metadata": {
    "id": "Mx0_E_kEdJsN"
   },
   "source": [
    "# Implement Spatial Pooler\n",
    "\n",
    "В данной тетради требуется реализовать Spatial Pooler по аналогии с [описанием](https://numenta.com/assets/pdf/spatial-pooling-algorithm/Spatial-Pooling-Algorithm-Details.pdf) и [статьёй](https://www.frontiersin.org/articles/10.3389/fncom.2017.00111/pdf) от нументы. Данная тетрадь сделана на основе [примера](https://github.com/htm-community/htm.core/blob/master/py/htm/examples/mnist.py) из нументовского фреймворка `htm.core`. Сам их фреймворк нам здесь не понадобится — его ставить не нужно, но можешь ради интереса к тестам ниже добавить и тест эталонной реализации Spatial Pooler.\n",
    "\n",
    "Для начала посмотри эпизоды 0-8 видео гайда [HTMSchool](https://www.youtube.com/watch?v=XMB0ri4qgwc&list=PL3yXMgtrZmDqhsFQzwUC9V8MeeVOQ7eZ9)."
   ]
  },
  {
   "cell_type": "markdown",
   "metadata": {
    "id": "dXBc06cudJsQ"
   },
   "source": [
    "## 01. Getting ready\n",
    "\n",
    "Данная секция содержит:\n",
    "\n",
    "- импорт необходимых пакетов (убедись, что все они установлены)\n",
    "- загрузка датасета"
   ]
  },
  {
   "cell_type": "code",
   "execution_count": 1,
   "metadata": {
    "id": "mb56i--SdJsR",
    "ExecuteTime": {
     "end_time": "2023-12-14T20:14:25.657626Z",
     "start_time": "2023-12-14T20:14:24.792766100Z"
    }
   },
   "outputs": [],
   "source": [
    "import matplotlib.pyplot as plt\n",
    "import numpy as np\n",
    "from IPython.display import clear_output\n",
    "\n",
    "from sklearn.datasets import fetch_openml\n",
    "from sklearn.linear_model import LogisticRegression\n",
    "from scipy.sparse import csr_matrix\n",
    "from scipy.stats import entropy\n",
    "%matplotlib inline\n",
    "\n",
    "seed = 1337"
   ]
  },
  {
   "cell_type": "markdown",
   "metadata": {
    "id": "NQ7DmB9jdJsT"
   },
   "source": [
    "### Load data\n",
    "\n",
    "Следующая ячейка загружает датасет MNIST (займет порядка 10-20 сек)."
   ]
  },
  {
   "cell_type": "code",
   "execution_count": 3,
   "metadata": {
    "colab": {
     "base_uri": "https://localhost:8080/"
    },
    "id": "TwmAh5lodJsT",
    "outputId": "b0aadc5c-d67c-470e-e783-78ee12b3bf39",
    "ExecuteTime": {
     "end_time": "2023-12-14T20:14:50.629432300Z",
     "start_time": "2023-12-14T20:14:44.978951900Z"
    }
   },
   "outputs": [
    {
     "name": "stdout",
     "output_type": "stream",
     "text": [
      "(70000, 28, 28) (70000,)\n"
     ]
    },
    {
     "data": {
      "text/plain": "((60000, 28, 28), (60000,), (10000, 28, 28), (10000,))"
     },
     "execution_count": 3,
     "metadata": {},
     "output_type": "execute_result"
    }
   ],
   "source": [
    "def load_ds(rng, name, num_test, shape=None):\n",
    "    \"\"\"\n",
    "    fetch dataset from openML.org and split to train/test\n",
    "    @param name - ID on openML (eg. 'mnist_784')\n",
    "    @param num_test - num. samples to take as test\n",
    "    @param shape - new reshape of a single data point (ie data['data'][0]) as a list. Eg. [28,28] for MNIST\n",
    "    \"\"\"\n",
    "    data = fetch_openml(name, version=1, parser='auto')\n",
    "    sz=data['target'].shape[0]\n",
    "\n",
    "    X = np.array(data['data'])\n",
    "    if shape is not None:\n",
    "        new_shape = shape.insert(0, sz)\n",
    "        X = np.reshape(X, shape)\n",
    "\n",
    "    y = np.array(data['target']).astype(np.int32)\n",
    "    print(X.shape, y.shape)\n",
    "\n",
    "    indices = rng.permutation(y.size)\n",
    "    X = X[indices, :, :]\n",
    "    y = y[indices]\n",
    "\n",
    "    # split to train/test data\n",
    "    train_labels = y[:sz-num_test]\n",
    "    train_images = X[:sz-num_test]\n",
    "    test_labels  = y[sz-num_test:]\n",
    "    test_images  = X[sz-num_test:]\n",
    "\n",
    "    return train_labels, train_images, test_labels, test_images\n",
    "\n",
    "rng = np.random.default_rng(seed)\n",
    "train_labels, train_images, test_labels, test_images = load_ds(rng, 'mnist_784', 10000, shape=[28,28])\n",
    "\n",
    "n_train_samples = train_images.shape[0]\n",
    "n_test_samples = test_images.shape[0]\n",
    "image_shape = train_images[0].shape\n",
    "image_side = image_shape[0]\n",
    "image_size = image_side ** 2\n",
    "\n",
    "\n",
    "train_images.shape, train_labels.shape, test_images.shape, test_labels.shape"
   ]
  },
  {
   "cell_type": "markdown",
   "metadata": {
    "id": "4-1JknYFdJsU"
   },
   "source": [
    "Пример формата данных датасета"
   ]
  },
  {
   "cell_type": "code",
   "execution_count": 5,
   "metadata": {
    "colab": {
     "base_uri": "https://localhost:8080/",
     "height": 499
    },
    "id": "oVwxm_pTdJsU",
    "outputId": "b4d08a8d-040c-4444-9fc0-9779e84a096c",
    "ExecuteTime": {
     "end_time": "2023-12-14T20:15:20.908527100Z",
     "start_time": "2023-12-14T20:15:20.790018700Z"
    }
   },
   "outputs": [
    {
     "name": "stdout",
     "output_type": "stream",
     "text": [
      "Label: 5\n",
      "Image shape: (28, 28)\n",
      "Image middle row: [  0   0   0   0   0   0   0   0   0   0   0   0   0   0   0   0   0   0\n",
      " 145 253  53   0   0   0   0   0   0   0]\n"
     ]
    },
    {
     "data": {
      "text/plain": "<Figure size 640x480 with 1 Axes>",
      "image/png": "[encoded data removed]"
     },
     "metadata": {},
     "output_type": "display_data"
    }
   ],
   "source": [
    "ind = 1\n",
    "plt.imshow(train_images[ind])\n",
    "print(f'Label: {train_labels[ind]}')\n",
    "print(f'Image shape: {image_shape}')\n",
    "print(f'Image middle row: {train_images[ind][image_side//2]}')"
   ]
  },
  {
   "cell_type": "markdown",
   "metadata": {
    "id": "A4YFXpzNdJsV"
   },
   "source": [
    "Перекодируем датасет в бинарные изображения и дальше будем работать с бинарными данными."
   ]
  },
  {
   "cell_type": "code",
   "execution_count": 6,
   "metadata": {
    "colab": {
     "base_uri": "https://localhost:8080/",
     "height": 430
    },
    "id": "o5K-Av0idJsV",
    "outputId": "9a511fe8-ba37-4393-c5e0-5e19c52bd584",
    "ExecuteTime": {
     "end_time": "2023-12-14T20:15:23.004749600Z",
     "start_time": "2023-12-14T20:15:22.547951200Z"
    }
   },
   "outputs": [
    {
     "data": {
      "text/plain": "<Figure size 640x480 with 1 Axes>",
      "image/png": "[encoded data removed]"
     },
     "metadata": {},
     "output_type": "display_data"
    }
   ],
   "source": [
    "def plot_flatten_image(flatten_image, image_height=28):\n",
    "    plt.imshow(flatten_image.reshape((image_height, -1)))\n",
    "\n",
    "def to_binary_flatten_images(images):\n",
    "    n_samples = images.shape[0]\n",
    "    # flatten every image to vector\n",
    "    images = images.reshape((n_samples, -1))\n",
    "    # binary encoding: each image pixel is encoded either 0 or 1 depending on that image mean value\n",
    "    images = (images >= images.mean(axis=1, keepdims=True)).astype(np.int8)\n",
    "    return images\n",
    "\n",
    "\n",
    "train_images = to_binary_flatten_images(train_images)\n",
    "test_images = to_binary_flatten_images(test_images)\n",
    "plot_flatten_image(train_images[ind])"
   ]
  },
  {
   "cell_type": "markdown",
   "metadata": {
    "id": "LB7nDcKEdJsV"
   },
   "source": [
    "## 02. Baseline: classifier on raw input\n",
    "\n",
    "В качестве бейзлайна возьмем стандартный sklearn'овский логрег классификатор"
   ]
  },
  {
   "cell_type": "code",
   "execution_count": 11,
   "metadata": {
    "id": "vr71IY3zdJsV",
    "ExecuteTime": {
     "end_time": "2023-12-14T20:16:21.095278800Z",
     "start_time": "2023-12-14T20:16:21.065094200Z"
    }
   },
   "outputs": [],
   "source": [
    "LBFGS_MAX_ITER = 1_000"
   ]
  },
  {
   "cell_type": "code",
   "execution_count": 12,
   "metadata": {
    "colab": {
     "base_uri": "https://localhost:8080/"
    },
    "id": "az7RqfbqdJsW",
    "outputId": "51446738-3860-45ca-8780-3827a374898c",
    "ExecuteTime": {
     "end_time": "2023-12-14T20:16:22.038727500Z",
     "start_time": "2023-12-14T20:16:21.659296600Z"
    }
   },
   "outputs": [
    {
     "name": "stdout",
     "output_type": "stream",
     "text": [
      "Score: 87.4%\n",
      "CPU times: total: 203 ms\n",
      "Wall time: 374 ms\n"
     ]
    }
   ],
   "source": [
    "%%time\n",
    "\n",
    "def test_bare_classification(x_tr,  y_tr, x_tst, y_tst):\n",
    "    linreg = LogisticRegression(tol=.05, max_iter=LBFGS_MAX_ITER, multi_class='multinomial', penalty='l2', solver='lbfgs', n_jobs=1)\n",
    "    linreg.fit(x_tr, y_tr)\n",
    "\n",
    "    score = linreg.predict(x_tst) == y_tst\n",
    "    score = score.mean()\n",
    "    print(f'Score: {100 * score:.1f}%')\n",
    "    return score\n",
    "\n",
    "np.random.seed(seed)\n",
    "# for debug purposes I chose smaller subset of the train/test set, you can set the whole set of 60k training samples\n",
    "n = 1_000\n",
    "x_tr, y_tr = train_images[:n], train_labels[:n]\n",
    "x_tst, y_tst = test_images[:n], test_labels[:n]\n",
    "\n",
    "# примерные/ориентировочные результаты\n",
    "# 1k: 87.4; 888ms\n",
    "# 60k: 91.4; 1.5min\n",
    "_ = test_bare_classification(x_tr, y_tr, x_tst, y_tst)"
   ]
  },
  {
   "cell_type": "markdown",
   "metadata": {
    "id": "ru-SUBkKdJsW"
   },
   "source": [
    "## 03. Spatial Pooler: skeleton\n",
    "\n",
    "Временно сделаем пустой класс Spatial Pooler'а заглушку, чтобы дальше ввести весь необходимый auxiliary код для обучения и тестирования."
   ]
  },
  {
   "cell_type": "code",
   "execution_count": 13,
   "metadata": {
    "colab": {
     "base_uri": "https://localhost:8080/"
    },
    "id": "dh1dBQZhdJsW",
    "outputId": "ed4459f5-0d8e-457f-9401-fa26e0700855",
    "ExecuteTime": {
     "end_time": "2023-12-14T20:16:24.060351300Z",
     "start_time": "2023-12-14T20:16:24.032835100Z"
    }
   },
   "outputs": [
    {
     "name": "stdout",
     "output_type": "stream",
     "text": [
      "91 784\n"
     ]
    }
   ],
   "source": [
    "class NoOpSpatialPooler:\n",
    "    def __init__(self, input_size):\n",
    "        self.input_size = input_size\n",
    "        self.output_size = input_size\n",
    "\n",
    "    def compute(self, dense_sdr, learn):\n",
    "        # просто отдает вход на выход\n",
    "        return np.flatnonzero(dense_sdr)\n",
    "\n",
    "\n",
    "np.random.seed(seed)\n",
    "sp = NoOpSpatialPooler(train_images[0].size)\n",
    "sparse_sdr = sp.compute(train_images[0], True)\n",
    "\n",
    "print(sparse_sdr.size, sp.output_size)\n",
    "assert sparse_sdr.size < sp.output_size"
   ]
  },
  {
   "cell_type": "markdown",
   "metadata": {
    "id": "CQ-YfH4hdJsW"
   },
   "source": [
    "## 04. Train/test SP performance aux pipeline\n",
    "\n",
    "Ниже непосредственно код для обучения и тестирования классификации с использованием Spatial Pooler'а. Общая схема следующая - мы обучаем SP на train set'е, а дальше SDR векторы на выходе из SP используем в кач-ве входных данных для логрег классификатора в надежде, что эти данные разделимы еще лучше, то есть что качество классификации улучшится.\n",
    "\n",
    "__NB__: Не удивляйся, в реализации ниже обучение идет в немного полуонлайн режиме - делается небольшой претрейн, а потом полностью онлайн. Претрейн делаем для прогрева SP, тк на ранних стадиях обучения он слишком сильно меняет выходную кодировку."
   ]
  },
  {
   "cell_type": "code",
   "execution_count": 14,
   "metadata": {
    "colab": {
     "base_uri": "https://localhost:8080/"
    },
    "id": "Fq8cOX7ndJsW",
    "outputId": "a8c8ec47-1989-4f2f-d229-7542b317a577",
    "ExecuteTime": {
     "end_time": "2023-12-14T20:16:27.240098300Z",
     "start_time": "2023-12-14T20:16:25.769302500Z"
    }
   },
   "outputs": [
    {
     "name": "stdout",
     "output_type": "stream",
     "text": [
      "Score: 87.4% for n = 1000\n",
      "CPU times: total: 31.2 ms\n",
      "Wall time: 1.46 s\n"
     ]
    },
    {
     "data": {
      "text/plain": "0.874"
     },
     "execution_count": 14,
     "metadata": {},
     "output_type": "execute_result"
    }
   ],
   "source": [
    "%%time\n",
    "\n",
    "def pretrain_sp(sp, images, n_samples):\n",
    "\n",
    "    for img in images[:n_samples]:\n",
    "        sp.compute(img, True)\n",
    "\n",
    "def encode_to_csr_with_sp(images, sp, learn):\n",
    "    flatten_encoded_sdrs = []\n",
    "    indptr = [0]\n",
    "    for img in images:\n",
    "        encoded_sparse_sdr = sp.compute(img, learn)\n",
    "        flatten_encoded_sdrs.extend(encoded_sparse_sdr)\n",
    "        indptr.append(len(flatten_encoded_sdrs))\n",
    "\n",
    "    data = np.ones(len(flatten_encoded_sdrs))\n",
    "    csr = csr_matrix((data, flatten_encoded_sdrs, indptr), shape=(images.shape[0], sp.output_size))\n",
    "    return csr\n",
    "\n",
    "def test_classification_with_sp(x_tr,  y_tr, x_tst, y_tst, sp):\n",
    "    # a small pretrain SP before real work\n",
    "    pretrain_sp(sp, x_tr, n_samples=1000)\n",
    "\n",
    "    # encode images and continuously train SP\n",
    "    csr = encode_to_csr_with_sp(x_tr, sp, learn=True)\n",
    "\n",
    "    # train linreg\n",
    "    linreg = LogisticRegression(tol=.05, max_iter=LBFGS_MAX_ITER, multi_class='multinomial', penalty='l2', solver='lbfgs', n_jobs=3)\n",
    "    linreg.fit(csr, y_tr)\n",
    "\n",
    "    # encode test images (without SP learning) and then test score\n",
    "    csr = encode_to_csr_with_sp(x_tst, sp, False)\n",
    "    score = linreg.predict(csr) == y_tst\n",
    "    score = score.mean()\n",
    "    print(f'Score: {100 * score:.1f}% for n = {len(x_tr)}')\n",
    "    return score\n",
    "\n",
    "n = 1000\n",
    "x_tr, y_tr = train_images[:n], train_labels[:n]\n",
    "x_tst, y_tst = test_images[:n], test_labels[:n]\n",
    "my_sp = NoOpSpatialPooler(train_images[0].size)\n",
    "\n",
    "# 87.3; 1.16s\n",
    "test_classification_with_sp(x_tr, y_tr, x_tst, y_tst, my_sp)"
   ]
  },
  {
   "cell_type": "markdown",
   "metadata": {
    "id": "QUM0qNCKdJsX"
   },
   "source": [
    "## 05. Spatial Pooler: learning\n",
    "\n",
    "__Здесь начинается практическое задание__\n",
    "\n",
    "В этой части требуется реализовать простую версию SP с обучением как описано в видео htm scool до бустинга (т.е. бустинг пока не нужен)."
   ]
  },
  {
   "cell_type": "code",
   "execution_count": 15,
   "metadata": {
    "colab": {
     "base_uri": "https://localhost:8080/"
    },
    "id": "T-7TagGCdJsX",
    "outputId": "c694860d-fa6f-4e4e-879f-5e3293ada645",
    "ExecuteTime": {
     "end_time": "2023-12-14T20:16:29.840942900Z",
     "start_time": "2023-12-14T20:16:29.802379100Z"
    }
   },
   "outputs": [
    {
     "name": "stdout",
     "output_type": "stream",
     "text": [
      "4 100 4\n"
     ]
    },
    {
     "data": {
      "text/plain": "array([75, 36, 78, 18], dtype=int64)"
     },
     "execution_count": 15,
     "metadata": {},
     "output_type": "execute_result"
    }
   ],
   "source": [
    "class LearnableSpatialPooler:\n",
    "    def __init__(\n",
    "        self, input_size, output_size, permanence_threshold, output_sparsity, synapse_permanence_deltas, receptive_field_sparsity\n",
    "    ):\n",
    "        '''\n",
    "        params:\n",
    "            `input_size` - the size of the input SDR\n",
    "            `output_size` - the size of the output SDR\n",
    "            `permanence_threshold` - value in [0, 1], defines whether or not a connection is active\n",
    "            `output_sparsity` - value in [0, 1], defines desired output SDR sparsity, e.g. 0.02 is 2% sparsity\n",
    "            `synapse_permanence_deltas` - tuple of (p+, p-), defines permanence increment/decrement for learning\n",
    "            `receptive_field_sparsity` - value in [0, 1], defines the fraction of _potential_ synapses\n",
    "        '''\n",
    "        self.input_size = input_size\n",
    "        self.output_size = output_size\n",
    "\n",
    "        self.permanence_threshold = permanence_threshold\n",
    "        self.output_sparsity = output_sparsity\n",
    "        self.synapse_permanence_deltas = synapse_permanence_deltas\n",
    "        self.receptive_field_sparsity = receptive_field_sparsity\n",
    "\n",
    "        self.receptive_field = int(np.round(self.input_size * self.receptive_field_sparsity))\n",
    "        self.synapses = []\n",
    "        self.synapses.append(np.random.uniform(self.permanence_threshold-0.1,self.permanence_threshold+0.1, (self.output_size,self.receptive_field)))\n",
    "        ind_of_input = np.tile(np.arange(0, self.input_size), (self.output_size, 1))\n",
    "        np.apply_along_axis(np.random.shuffle, 1, ind_of_input)\n",
    "        self.synapses.append(ind_of_input[:,:self.receptive_field])\n",
    "        self.count_active = []\n",
    "\n",
    "\n",
    "    def compute(self, dense_sdr, learn):\n",
    "        '''\n",
    "        params:\n",
    "            `dense_sdr` - input SDR in dense for, i.e. as np.array\n",
    "            `learn` - bool flag, whether or not to do a learning step\n",
    "\n",
    "        returns:\n",
    "            a list of activated columns indices\n",
    "        '''\n",
    "\n",
    "        overlap = np.sum(self.synapses[0]*dense_sdr[self.synapses[1]] >= self.permanence_threshold, axis = 1)\n",
    "        activated_cols = np.argsort(overlap)[::-1][:round(self.output_size * self.output_sparsity)]\n",
    "        self.n_active_bits = len(activated_cols)\n",
    "        self.count_active = np.concatenate([self.count_active, activated_cols])\n",
    "\n",
    "        if learn:\n",
    "          p_inc = np.where(self.synapses[0][activated_cols]*dense_sdr[self.synapses[1][activated_cols]] >= self.permanence_threshold)\n",
    "          p_dec = np.where(self.synapses[0][activated_cols]*dense_sdr[self.synapses[1][activated_cols]] < self.permanence_threshold)\n",
    "          self.synapses[0][activated_cols][p_inc]+=self.synapse_permanence_deltas[0]\n",
    "          self.synapses[0][activated_cols][p_dec]-=self.synapse_permanence_deltas[1]\n",
    "          self.synapses[0][activated_cols]=np.clip(self.synapses[0][activated_cols],0,1)\n",
    "\n",
    "\n",
    "        return activated_cols\n",
    "\n",
    "\n",
    "np.random.seed(seed)\n",
    "sp = LearnableSpatialPooler(\n",
    "    input_size=train_images[0].size,\n",
    "    output_size=10**2,\n",
    "    permanence_threshold=.5,\n",
    "    output_sparsity=.04,\n",
    "    synapse_permanence_deltas=(.1, .03),\n",
    "    receptive_field_sparsity=.8\n",
    ")\n",
    "sparse_sdr = sp.compute(train_images[0], True)\n",
    "\n",
    "print(sparse_sdr.size, sp.output_size, sp.n_active_bits)\n",
    "assert sparse_sdr.size == sp.n_active_bits\n",
    "sparse_sdr"
   ]
  },
  {
   "cell_type": "markdown",
   "metadata": {
    "id": "AjfVbSUTdJsX"
   },
   "source": [
    "### 05.1. Naive SP performance\n",
    "\n",
    "Проверь качество работы своей реализации. В комментариях примерные значения для разных `n`, на которые можно попробовать ориентироваться:"
   ]
  },
  {
   "cell_type": "code",
   "execution_count": 16,
   "metadata": {
    "id": "5xm6Sb-ldJsX",
    "colab": {
     "base_uri": "https://localhost:8080/"
    },
    "outputId": "59cab58d-fbfc-41f8-fd6b-68284e544071",
    "ExecuteTime": {
     "end_time": "2023-12-14T20:16:48.323456900Z",
     "start_time": "2023-12-14T20:16:31.595055100Z"
    }
   },
   "outputs": [
    {
     "name": "stdout",
     "output_type": "stream",
     "text": [
      "Score: 81.4% for n = 1000\n",
      "CPU times: total: 4.41 s\n",
      "Wall time: 16.7 s\n"
     ]
    },
    {
     "data": {
      "text/plain": "0.814"
     },
     "execution_count": 16,
     "metadata": {},
     "output_type": "execute_result"
    }
   ],
   "source": [
    "%%time\n",
    "\n",
    "np.random.seed(seed)\n",
    "n = 1000\n",
    "x_tr, y_tr = train_images[:n], train_labels[:n]\n",
    "x_tst, y_tst = test_images[:n], test_labels[:n]\n",
    "\n",
    "sp = LearnableSpatialPooler(\n",
    "    input_size=train_images[0].size,\n",
    "    output_size=30**2,\n",
    "    permanence_threshold=.5,\n",
    "    output_sparsity=.04,\n",
    "    synapse_permanence_deltas=(.1, .03),\n",
    "    receptive_field_sparsity=.8\n",
    ")\n",
    "# 1k: 80.2; 2.98s\n",
    "# 60k: 89.3; 72 s\n",
    "test_classification_with_sp(x_tr, y_tr, x_tst, y_tst, sp)"
   ]
  },
  {
   "cell_type": "markdown",
   "metadata": {
    "id": "Noxjmyt4dJsX"
   },
   "source": [
    "Интересная метрика оценки качества работы SP и вырожденности датасета - энтропия выходных активаций.\n",
    "\n",
    "Добавь либо в реализацию класса, либо где-то сбоку возможность учета статистики активаций выходных клеток (ты наверняка заметил, что обычно их контринтуитивно называют столбцами, что оч круто запутывает) и функцию подсчета энтропии на основе этой статистики. Собери такую статистику на одном прогоне на всем датасете и:\n",
    "\n",
    "- нарисуй гистограмму частоты активаций (с нормализацией, чтобы по оси Y были вероятности активации, а не их число)\n",
    "- посчитай энтропию $H = -\\sum p \\cdot \\log p$"
   ]
  },
  {
   "cell_type": "code",
   "execution_count": 17,
   "metadata": {
    "id": "1tHMlr0JdJsX",
    "colab": {
     "base_uri": "https://localhost:8080/",
     "height": 447
    },
    "outputId": "be8a18a6-e5ad-4b0d-f64c-4e86c159afd4",
    "ExecuteTime": {
     "end_time": "2023-12-14T20:16:49.087583800Z",
     "start_time": "2023-12-14T20:16:48.319862300Z"
    }
   },
   "outputs": [
    {
     "data": {
      "text/plain": "<Figure size 640x480 with 1 Axes>",
      "image/png": "[encoded data removed]"
     },
     "metadata": {},
     "output_type": "display_data"
    },
    {
     "name": "stdout",
     "output_type": "stream",
     "text": [
      "Энтропия =  8.269336668657406\n"
     ]
    }
   ],
   "source": [
    "plt.hist(sp.count_active, bins=sp.output_size, density = True)\n",
    "plt.show()\n",
    "\n",
    "\n",
    "number_of_entries = []\n",
    "for index in range(sp.output_size):\n",
    "  number_of_entries.append(np.count_nonzero(sp.count_active == index))\n",
    "print('Энтропия = ', entropy(number_of_entries/np.sum(number_of_entries), base=2))"
   ]
  },
  {
   "cell_type": "markdown",
   "metadata": {
    "id": "Cj0j0Ry9dJsY"
   },
   "source": [
    "Теперь давай посмотрим, как выходной размер `output_size` влияет на качество работы. Протестируй разные значения `output_size` - например, $[10^2, 15^2,..., 55^2, 60^2]$ и отрисуй график зависимости [качества классификации, но можешь и времени работы тоже].\n",
    "\n",
    "_Можно для начала прикинуть для n=1000 и двигаться дальше, а позже пересчитать на всем датасете_"
   ]
  },
  {
   "cell_type": "code",
   "execution_count": 18,
   "metadata": {
    "id": "GyvhepGKdJsY",
    "colab": {
     "base_uri": "https://localhost:8080/",
     "height": 641
    },
    "outputId": "8664c49b-407f-4f65-f6d4-2550e4e005cb",
    "ExecuteTime": {
     "end_time": "2023-12-14T20:21:38.280816200Z",
     "start_time": "2023-12-14T20:16:49.055849100Z"
    }
   },
   "outputs": [
    {
     "name": "stdout",
     "output_type": "stream",
     "text": [
      "Score: 49.7% for n = 1000\n",
      "Score: 63.7% for n = 1000\n",
      "Score: 70.7% for n = 1000\n",
      "Score: 76.7% for n = 1000\n",
      "Score: 81.2% for n = 1000\n",
      "Score: 83.2% for n = 1000\n",
      "Score: 83.7% for n = 1000\n",
      "Score: 87.0% for n = 1000\n",
      "Score: 87.3% for n = 1000\n",
      "Score: 86.7% for n = 1000\n",
      "Score: 88.6% for n = 1000\n"
     ]
    },
    {
     "data": {
      "text/plain": "<Figure size 640x480 with 1 Axes>",
      "image/png": "[encoded data removed]"
     },
     "metadata": {},
     "output_type": "display_data"
    }
   ],
   "source": [
    "np.random.seed(seed)\n",
    "n = 1000\n",
    "x_tr, y_tr = train_images[:n], train_labels[:n]\n",
    "x_tst, y_tst = test_images[:n], test_labels[:n]\n",
    "\n",
    "score = []\n",
    "\n",
    "for size in range(10,61,5):\n",
    "  sp = LearnableSpatialPooler(\n",
    "      input_size=train_images[0].size,\n",
    "      output_size=size**2,\n",
    "      permanence_threshold=.5,\n",
    "      output_sparsity=.04,\n",
    "      synapse_permanence_deltas=(.1, .03),\n",
    "      receptive_field_sparsity=.8\n",
    "  )\n",
    "  score.append(test_classification_with_sp(x_tr, y_tr, x_tst, y_tst, sp))\n",
    "\n",
    "plt.plot(np.arange(10,61,5)**2, score)\n",
    "plt.xlabel(\"Output_size\")\n",
    "plt.ylabel(\"Score\")\n",
    "plt.show()"
   ]
  },
  {
   "cell_type": "markdown",
   "metadata": {
    "id": "YEzwReLldJsY"
   },
   "source": [
    "## 06. Spatial Pooler: boosting\n",
    "\n",
    "В этом пункте требуется реализовать бустинг. Обрати внимание, в видео htm school речь ведется о бустинге overlap score на основе активности выходных ячеек -  именно такой вид бустинга и нужно реализовать. Еще есть бустинг значений permanence синапсов выходных ячеек, имеющих слишком низкое среднее значение overlap score за последние N итераций - рассмотрение этого вида бустинга оставим в стороне. Так что дальше под бустингом будет иметься в виду только первый вариант.\n",
    "\n",
    "Зададим параметр `max_boost_factor` $\\in [0, +\\infty)$. Можно по-разному задавать интерпретацию этого параметра, то есть как будет действовать бустинг. Например, можно дать возможность бустингу работать только в сторону усиления слабых — тогда параметр `max_boost_factor` $=K$ определяет, что значения overlap score под действием бустинга могут быть увеличены максимум в $1+K$ раз. То есть `max_boost_factor`$=1$ означает, что оверлапы могут быть увеличены максимум в два раза, а 0 — что бустинг отключен.\n",
    "\n",
    "Однако допустима и реализация, в которой бустинг работает в обе стороны — слабые колонки усиливает, а сильные наоборот ослабляет, и тогда пределы изменения для величины `max_boost_factor` $=K$: $[\\frac{1}{K}, K]$, то есть бустинг может и усилить, и ослабить максимум в $K$ раз. В своей реализации выбери любой из этих вариантов."
   ]
  },
  {
   "cell_type": "code",
   "execution_count": 19,
   "metadata": {
    "id": "DN5RdqWndJsZ",
    "colab": {
     "base_uri": "https://localhost:8080/"
    },
    "outputId": "c09b6005-41a9-4a47-cb5d-7ed96c55bb3c",
    "ExecuteTime": {
     "end_time": "2023-12-14T20:21:38.365827400Z",
     "start_time": "2023-12-14T20:21:38.280816200Z"
    }
   },
   "outputs": [
    {
     "data": {
      "text/plain": "array([75, 36, 78, 18], dtype=int64)"
     },
     "execution_count": 19,
     "metadata": {},
     "output_type": "execute_result"
    }
   ],
   "source": [
    "class BoostedSpatialPooler:\n",
    "    def __init__(\n",
    "        self, input_size, output_size, permanence_threshold, output_sparsity, synapse_permanence_deltas, receptive_field_sparsity,\n",
    "        max_boost_factor, boost_sliding_window\n",
    "    ):\n",
    "        '''\n",
    "        params:\n",
    "            `input_size` - the size of the input SDR\n",
    "            `output_size` - the size of the output SDR\n",
    "            `permanence_threshold` - value in [0, 1], defines whether or not a connection is active\n",
    "            `output_sparsity` - value in [0, 1], defines desired output SDR sparsity, e.g. 0.02 is 2% sparsity\n",
    "            `synapse_permanence_deltas` - tuple of (p+, p-), defines permanence increment/decrement for learning\n",
    "            `receptive_field_sparsity` - value in [0, 1], defines the fraction of _potential_ synapses\n",
    "            `max_boost_factor` - value in [0, +inf), defines maximum allowed boosting. Boosting value X > 0 (X < 0) means that overlap is multiplied (divided) by `1 + X`.\n",
    "            `boost_sliding_window` - value in [1, +inf), defines the size of the window for moving avg output column activity\n",
    "        '''\n",
    "        self.input_size = input_size\n",
    "        self.output_size = output_size\n",
    "        self.permanence_threshold = permanence_threshold\n",
    "        self.output_sparsity = output_sparsity\n",
    "        self.synapse_permanence_deltas = synapse_permanence_deltas\n",
    "        self.receptive_field_sparsity = receptive_field_sparsity\n",
    "        self.max_boost_factor = max_boost_factor\n",
    "        self.boost_sliding_window = boost_sliding_window\n",
    "\n",
    "        self.receptive_field = int(np.round(self.input_size * self.receptive_field_sparsity))\n",
    "        self.synapses = []\n",
    "        self.synapses.append(np.random.uniform(self.permanence_threshold-0.1,self.permanence_threshold+0.1, (self.output_size,self.receptive_field)))\n",
    "        ind_of_input = np.tile(np.arange(0, self.input_size), (self.output_size, 1))\n",
    "        np.apply_along_axis(np.random.shuffle, 1, ind_of_input)\n",
    "        self.synapses.append(ind_of_input[:,:self.receptive_field])\n",
    "        self.max_boost_factor = max_boost_factor\n",
    "        self.boosting_factors = np.ones(self.output_size)\n",
    "        self.activ_time_avg = np.zeros(self.output_size)\n",
    "        self.boost_strength = 1\n",
    "        self.activ = np.zeros(self.output_size)\n",
    "        self.count_active = []\n",
    "\n",
    "    def compute(self, dense_sdr, learn):\n",
    "        '''\n",
    "        params:\n",
    "            `dense_sdr` - input SDR in dense for, i.e. as np.array\n",
    "            `learn` - bool flag, whether or not to do a learning step\n",
    "\n",
    "        returns:\n",
    "            a list of activated columns indices\n",
    "        '''\n",
    "\n",
    "        overlap = np.sum(self.synapses[0]*dense_sdr[self.synapses[1]] >= self.permanence_threshold, axis = 1) * self.boosting_factors\n",
    "\n",
    "        activated_cols = np.argsort(overlap)[::-1][:round(self.output_size * self.output_sparsity)]\n",
    "        self.n_active_bits = len(activated_cols)\n",
    "\n",
    "        self.activ = np.zeros(self.output_size)\n",
    "        self.activ[activated_cols] = 1\n",
    "        self.count_active = np.concatenate([self.count_active, activated_cols])\n",
    "\n",
    "\n",
    "\n",
    "        if learn:\n",
    "          p_inc = np.where(self.synapses[0][activated_cols]*dense_sdr[self.synapses[1][activated_cols]] >= self.permanence_threshold)\n",
    "          p_dec = np.where(self.synapses[0][activated_cols]*dense_sdr[self.synapses[1][activated_cols]] < self.permanence_threshold)\n",
    "          self.synapses[0][activated_cols][p_inc]+=self.synapse_permanence_deltas[0]\n",
    "          self.synapses[0][activated_cols][p_dec]-=self.synapse_permanence_deltas[1]\n",
    "          self.synapses[0][activated_cols]=np.clip(self.synapses[0][activated_cols],0,1)\n",
    "\n",
    "          self.activ_time_avg = self.activ*(1/self.boost_sliding_window) + (1 - 1/self.boost_sliding_window) * self.activ_time_avg\n",
    "          activ_avg = (np.sum(self.activ_time_avg) - self.activ_time_avg) / (self.activ_time_avg.shape[0] - 1)\n",
    "          self.boosting_factors = np.clip(np.exp(self.boost_strength * (activ_avg - self.activ_time_avg)), 1/self.max_boost_factor, self.max_boost_factor)\n",
    "\n",
    "\n",
    "        return activated_cols\n",
    "\n",
    "\n",
    "np.random.seed(seed)\n",
    "my_sp = BoostedSpatialPooler(\n",
    "    train_images[0].size, output_size=10**2, permanence_threshold=.5, output_sparsity=.04, synapse_permanence_deltas=(.1, .02),\n",
    "    receptive_field_sparsity=.8, max_boost_factor=0.5, boost_sliding_window=1000\n",
    ")\n",
    "my_sp.compute(train_images[0], True)"
   ]
  },
  {
   "cell_type": "markdown",
   "metadata": {
    "id": "_8Wq9YXhdJsZ"
   },
   "source": [
    "### 06.1. SP with boosting performance\n",
    "\n",
    "_Дальше все как и в пункте 05.1_\n",
    "\n",
    "Проверь качество работы своей реализации. В комментариях по-прежнему примерные значения для разных `n`, на которые можно попробовать ориентироваться:"
   ]
  },
  {
   "cell_type": "code",
   "execution_count": 20,
   "metadata": {
    "id": "fh3kCOJhdJsZ",
    "colab": {
     "base_uri": "https://localhost:8080/"
    },
    "outputId": "b26891d9-144c-47cd-8e26-87ef66887f8e",
    "ExecuteTime": {
     "end_time": "2023-12-14T20:21:50.826782200Z",
     "start_time": "2023-12-14T20:21:38.304818500Z"
    }
   },
   "outputs": [
    {
     "name": "stdout",
     "output_type": "stream",
     "text": [
      "Score: 84.6% for n = 1000\n",
      "CPU times: total: 5.66 s\n",
      "Wall time: 12.5 s\n"
     ]
    },
    {
     "data": {
      "text/plain": "0.846"
     },
     "execution_count": 20,
     "metadata": {},
     "output_type": "execute_result"
    }
   ],
   "source": [
    "%%time\n",
    "\n",
    "np.random.seed(seed)\n",
    "n = 1000\n",
    "x_tr, y_tr = train_images[:n], train_labels[:n]\n",
    "x_tst, y_tst = test_images[:n], test_labels[:n]\n",
    "\n",
    "sp = BoostedSpatialPooler(\n",
    "    input_size=train_images[0].size,\n",
    "    output_size=30**2,\n",
    "    permanence_threshold=.5,\n",
    "    output_sparsity=.04,\n",
    "    synapse_permanence_deltas=(.1, .03),\n",
    "    receptive_field_sparsity=.8,\n",
    "    max_boost_factor=2,\n",
    "    boost_sliding_window=1000\n",
    ")\n",
    "# 1k: 84.0; 3.24 s\n",
    "# 60k: 91.15; 86 s\n",
    "test_classification_with_sp(x_tr, y_tr, x_tst, y_tst, sp)"
   ]
  },
  {
   "cell_type": "markdown",
   "metadata": {
    "id": "sUMVCuQBdJsZ"
   },
   "source": [
    "- нарисуй гистограмму вероятностей активаций\n",
    "- посчитай энтропию $H = -\\sum p \\cdot \\log p$\n",
    "- сравни с результатами без бустинга - есть какие-то очевидные выводы?"
   ]
  },
  {
   "cell_type": "code",
   "execution_count": 21,
   "metadata": {
    "id": "kIN2bYwYdJsZ",
    "colab": {
     "base_uri": "https://localhost:8080/"
    },
    "outputId": "2be0c078-45c0-405e-80be-b9d2dbb8fd98",
    "ExecuteTime": {
     "end_time": "2023-12-14T20:21:51.581314100Z",
     "start_time": "2023-12-14T20:21:50.826782200Z"
    }
   },
   "outputs": [
    {
     "data": {
      "text/plain": "<Figure size 640x480 with 1 Axes>",
      "image/png": "[encoded data removed]"
     },
     "metadata": {},
     "output_type": "display_data"
    },
    {
     "data": {
      "text/plain": "9.25888575944377"
     },
     "execution_count": 21,
     "metadata": {},
     "output_type": "execute_result"
    }
   ],
   "source": [
    "plt.hist(sp.count_active, bins=sp.output_size, density = True)\n",
    "plt.show()\n",
    "\n",
    "from scipy.stats import entropy\n",
    "number_of_entries = []\n",
    "for index in range(sp.output_size):\n",
    "  number_of_entries.append(np.count_nonzero(sp.count_active == index))\n",
    "entropy(number_of_entries/np.sum(number_of_entries), base=2)"
   ]
  },
  {
   "cell_type": "markdown",
   "metadata": {
    "id": "vMzhZn38dJsZ"
   },
   "source": [
    "Протестируй разные значения `output_size` - например, $[10^2, 15^2,..., 55^2, 60^2]$ и отрисуй график зависимости [качества классификации, но можешь и времени работы тоже].\n",
    "\n",
    "Сравни с результатами без бустинга"
   ]
  },
  {
   "cell_type": "code",
   "execution_count": 16,
   "metadata": {
    "ExecuteTime": {
     "end_time": "2023-12-14T14:48:55.866090Z",
     "start_time": "2023-12-14T14:39:23.947777800Z"
    },
    "id": "NBvSsU8LdJsZ",
    "colab": {
     "base_uri": "https://localhost:8080/",
     "height": 641
    },
    "outputId": "b60ecea8-1558-4bdd-92d9-8880a5f5d928"
   },
   "outputs": [
    {
     "output_type": "stream",
     "name": "stdout",
     "text": [
      "Score: 55.1% for n = 1000\n",
      "Score: 67.6% for n = 1000\n",
      "Score: 74.6% for n = 1000\n",
      "Score: 79.1% for n = 1000\n",
      "Score: 83.5% for n = 1000\n",
      "Score: 86.0% for n = 1000\n",
      "Score: 86.8% for n = 1000\n",
      "Score: 88.6% for n = 1000\n",
      "Score: 88.5% for n = 1000\n",
      "Score: 89.7% for n = 1000\n",
      "Score: 90.0% for n = 1000\n"
     ]
    },
    {
     "output_type": "display_data",
     "data": {
      "text/plain": [
       "<Figure size 640x480 with 1 Axes>"
      ],
      "image/png": "[encoded data removed]"
     },
     "metadata": {}
    }
   ],
   "source": [
    "np.random.seed(seed)\n",
    "n = 1000\n",
    "x_tr, y_tr = train_images[:n], train_labels[:n]\n",
    "x_tst, y_tst = test_images[:n], test_labels[:n]\n",
    "\n",
    "score = []\n",
    "\n",
    "for size in range(10,61,5):\n",
    "    sp = BoostedSpatialPooler(\n",
    "        input_size=train_images[0].size,\n",
    "        output_size=size**2,\n",
    "        permanence_threshold=.5,\n",
    "        output_sparsity=.04,\n",
    "        synapse_permanence_deltas=(.1, .03),\n",
    "        receptive_field_sparsity=.8,\n",
    "        max_boost_factor=2,\n",
    "        boost_sliding_window=1000\n",
    "    )\n",
    "    score.append(test_classification_with_sp(x_tr, y_tr, x_tst, y_tst, sp))\n",
    "\n",
    "plt.plot(np.arange(10,61,5)**2, score)\n",
    "plt.xlabel(\"Output_size\")\n",
    "plt.ylabel(\"Score\")\n",
    "plt.show()"
   ]
  },
  {
   "cell_type": "markdown",
   "metadata": {
    "id": "gVugAPbXdJsZ"
   },
   "source": [
    "___\n",
    "__[Опционально]__ можешь ради интереса поиграться с таким параметром как `receptive_field_sparsity`. Возьми в качестве выходного размера `output_size` = $50^2$ и проверь результаты на разных значениях параметра $[0.4, 0.5, ..., 1.0]$ и построй график зависимости."
   ]
  },
  {
   "cell_type": "code",
   "execution_count": 17,
   "metadata": {
    "ExecuteTime": {
     "end_time": "2023-12-14T14:57:55.766886500Z",
     "start_time": "2023-12-14T14:48:55.862073100Z"
    },
    "id": "yJHA2vkldJsZ",
    "colab": {
     "base_uri": "https://localhost:8080/",
     "height": 570
    },
    "outputId": "953da375-0dce-4b45-e6f7-86a72e2300d8"
   },
   "outputs": [
    {
     "output_type": "stream",
     "name": "stdout",
     "text": [
      "Score: 87.7% for n = 1000\n",
      "Score: 86.9% for n = 1000\n",
      "Score: 87.9% for n = 1000\n",
      "Score: 86.9% for n = 1000\n",
      "Score: 86.4% for n = 1000\n",
      "Score: 87.5% for n = 1000\n",
      "Score: 87.3% for n = 1000\n"
     ]
    },
    {
     "output_type": "display_data",
     "data": {
      "text/plain": [
       "<Figure size 640x480 with 1 Axes>"
      ],
      "image/png": "[encoded data removed]"
     },
     "metadata": {}
    }
   ],
   "source": [
    "np.random.seed(seed)\n",
    "n = 1000\n",
    "x_tr, y_tr = train_images[:n], train_labels[:n]\n",
    "x_tst, y_tst = test_images[:n], test_labels[:n]\n",
    "\n",
    "score = []\n",
    "field_sparsities = np.arange(0.4,1.1,0.1)\n",
    "\n",
    "for field_sparsity in field_sparsities:\n",
    "  sp = LearnableSpatialPooler(\n",
    "      input_size=train_images[0].size,\n",
    "      output_size=50**2,\n",
    "      permanence_threshold=.5,\n",
    "      output_sparsity=.04,\n",
    "      synapse_permanence_deltas=(.1, .03),\n",
    "      receptive_field_sparsity=field_sparsity\n",
    "  )\n",
    "  score.append(test_classification_with_sp(x_tr, y_tr, x_tst, y_tst, sp))\n",
    "\n",
    "plt.plot(field_sparsities, score)\n",
    "plt.xlabel(\"Receptive field sparsity\")\n",
    "plt.ylabel(\"Score\")\n",
    "plt.show()"
   ]
  },
  {
   "cell_type": "markdown",
   "metadata": {
    "id": "Gfvu7F1ndJsa"
   },
   "source": [
    "## 07. TESTING\n",
    "\n",
    "Дальше просто сравнительное тестирование получившихся результатов."
   ]
  },
  {
   "cell_type": "code",
   "execution_count": 18,
   "metadata": {
    "ExecuteTime": {
     "end_time": "2023-12-14T14:57:55.909863300Z",
     "start_time": "2023-12-14T14:57:55.753388300Z"
    },
    "id": "4mzvJQJndJsa"
   },
   "outputs": [],
   "source": [
    "n = 60000\n",
    "x_tr, y_tr = train_images[:n], train_labels[:n]\n",
    "x_tst, y_tst = test_images[:n], test_labels[:n]"
   ]
  },
  {
   "cell_type": "code",
   "execution_count": 19,
   "metadata": {
    "ExecuteTime": {
     "end_time": "2023-12-14T15:00:43.084420900Z",
     "start_time": "2023-12-14T14:57:55.762350800Z"
    },
    "id": "5W6C0vGRdJsa",
    "colab": {
     "base_uri": "https://localhost:8080/"
    },
    "outputId": "96623874-db8e-4aff-f9dd-b405b7d1cfad"
   },
   "outputs": [
    {
     "output_type": "stream",
     "name": "stdout",
     "text": [
      "Score: 91.4%\n",
      "CPU times: user 3.02 s, sys: 1.65 s, total: 4.67 s\n",
      "Wall time: 4min 48s\n"
     ]
    },
    {
     "output_type": "execute_result",
     "data": {
      "text/plain": [
       "0.9143"
      ]
     },
     "metadata": {},
     "execution_count": 19
    }
   ],
   "source": [
    "%%time\n",
    "\n",
    "def test_bare_classification(x_tr,  y_tr, x_tst, y_tst):\n",
    "    linreg = LogisticRegression(tol=.05, max_iter=LBFGS_MAX_ITER, multi_class='multinomial', penalty='l2', solver='lbfgs', n_jobs=3)\n",
    "    linreg.fit(x_tr, y_tr)\n",
    "\n",
    "    score = linreg.predict(x_tst) == y_tst\n",
    "    score = score.mean()\n",
    "    print(f'Score: {100 * score:.1f}%')\n",
    "    return score\n",
    "\n",
    "np.random.seed(seed)\n",
    "# 92.11; 38s\n",
    "test_bare_classification(x_tr, y_tr, x_tst, y_tst)"
   ]
  },
  {
   "cell_type": "code",
   "execution_count": 20,
   "metadata": {
    "ExecuteTime": {
     "end_time": "2023-12-14T15:18:11.714579500Z",
     "start_time": "2023-12-14T15:00:43.073403Z"
    },
    "id": "064XU0bEdJsa",
    "colab": {
     "base_uri": "https://localhost:8080/"
    },
    "outputId": "ab4cf9b5-3848-417b-f1ca-15a23a856e87"
   },
   "outputs": [
    {
     "output_type": "stream",
     "name": "stdout",
     "text": [
      "Score: 88.9% for n = 60000\n",
      "CPU times: user 9min 2s, sys: 2.07 s, total: 9min 4s\n",
      "Wall time: 9min 56s\n"
     ]
    },
    {
     "output_type": "execute_result",
     "data": {
      "text/plain": [
       "0.8887"
      ]
     },
     "metadata": {},
     "execution_count": 20
    }
   ],
   "source": [
    "%%time\n",
    "\n",
    "np.random.seed(seed)\n",
    "sp = LearnableSpatialPooler(\n",
    "    input_size=train_images[0].size,\n",
    "    output_size=30**2,\n",
    "    permanence_threshold=.5,\n",
    "    output_sparsity=.04,\n",
    "    synapse_permanence_deltas=(.1, .03),\n",
    "    receptive_field_sparsity=.8,\n",
    ")\n",
    "# 89.3; 72 s\n",
    "test_classification_with_sp(x_tr, y_tr, x_tst, y_tst, sp)"
   ]
  },
  {
   "cell_type": "code",
   "execution_count": 21,
   "metadata": {
    "ExecuteTime": {
     "end_time": "2023-12-14T15:49:38.064844400Z",
     "start_time": "2023-12-14T15:18:11.702470500Z"
    },
    "id": "CXs-dBdWdJsa",
    "colab": {
     "base_uri": "https://localhost:8080/"
    },
    "outputId": "c9069e46-644f-446b-be5b-870fcd54bcae"
   },
   "outputs": [
    {
     "output_type": "stream",
     "name": "stdout",
     "text": [
      "Score: 92.5% for n = 60000\n",
      "CPU times: user 25min 9s, sys: 2min 29s, total: 27min 38s\n",
      "Wall time: 29min 7s\n"
     ]
    },
    {
     "output_type": "execute_result",
     "data": {
      "text/plain": [
       "0.9251"
      ]
     },
     "metadata": {},
     "execution_count": 21
    }
   ],
   "source": [
    "%%time\n",
    "\n",
    "np.random.seed(seed)\n",
    "sp = LearnableSpatialPooler(\n",
    "    input_size=train_images[0].size,\n",
    "    output_size=50**2,\n",
    "    permanence_threshold=.5,\n",
    "    output_sparsity=.04,\n",
    "    synapse_permanence_deltas=(.1, .03),\n",
    "    receptive_field_sparsity=.8,\n",
    ")\n",
    "# 93.15; 221 s\n",
    "test_classification_with_sp(x_tr, y_tr, x_tst, y_tst, sp)"
   ]
  },
  {
   "cell_type": "code",
   "execution_count": 22,
   "metadata": {
    "ExecuteTime": {
     "end_time": "2023-12-14T15:56:01.196796500Z",
     "start_time": "2023-12-14T15:49:38.045973800Z"
    },
    "id": "m2PGoSujdJsi",
    "colab": {
     "base_uri": "https://localhost:8080/"
    },
    "outputId": "0cb8075a-3b6e-4b04-b575-4dfd4bdcee7d"
   },
   "outputs": [
    {
     "output_type": "stream",
     "name": "stdout",
     "text": [
      "Score: 90.5% for n = 60000\n",
      "CPU times: user 9min 13s, sys: 1.6 s, total: 9min 14s\n",
      "Wall time: 9min 38s\n"
     ]
    },
    {
     "output_type": "execute_result",
     "data": {
      "text/plain": [
       "0.9048"
      ]
     },
     "metadata": {},
     "execution_count": 22
    }
   ],
   "source": [
    "%%time\n",
    "\n",
    "np.random.seed(seed)\n",
    "sp = BoostedSpatialPooler(\n",
    "    input_size=train_images[0].size,\n",
    "    output_size=30**2,\n",
    "    permanence_threshold=.5,\n",
    "    output_sparsity=.04,\n",
    "    synapse_permanence_deltas=(.1, .03),\n",
    "    receptive_field_sparsity=.8,\n",
    "    max_boost_factor=2,\n",
    "    boost_sliding_window=1000\n",
    ")\n",
    "# 91.15; 86 s\n",
    "test_classification_with_sp(x_tr, y_tr, x_tst, y_tst, sp)"
   ]
  },
  {
   "cell_type": "code",
   "execution_count": 23,
   "metadata": {
    "is_executing": true,
    "ExecuteTime": {
     "start_time": "2023-12-14T15:56:01.203059200Z"
    },
    "id": "teAz2RS4dJsi",
    "colab": {
     "base_uri": "https://localhost:8080/"
    },
    "outputId": "98a1beda-d2ad-46b3-e602-3363482fbf5f"
   },
   "outputs": [
    {
     "output_type": "stream",
     "name": "stdout",
     "text": [
      "Score: 93.9% for n = 60000\n",
      "CPU times: user 25min 24s, sys: 3min 23s, total: 28min 47s\n",
      "Wall time: 29min 35s\n"
     ]
    },
    {
     "output_type": "execute_result",
     "data": {
      "text/plain": [
       "0.9387"
      ]
     },
     "metadata": {},
     "execution_count": 23
    }
   ],
   "source": [
    "%%time\n",
    "\n",
    "np.random.seed(seed)\n",
    "sp = BoostedSpatialPooler(\n",
    "    input_size=train_images[0].size,\n",
    "    output_size=50**2,\n",
    "    permanence_threshold=.5,\n",
    "    output_sparsity=.04,\n",
    "    synapse_permanence_deltas=(.1, .03),\n",
    "    receptive_field_sparsity=.8,\n",
    "    max_boost_factor=2,\n",
    "    boost_sliding_window=1000\n",
    ")\n",
    "# 94.44; 238 s\n",
    "test_classification_with_sp(x_tr, y_tr, x_tst, y_tst, sp)"
   ]
  },
  {
   "cell_type": "markdown",
   "metadata": {
    "id": "ZeZqKTpIdJsi"
   },
   "source": [
    "## Improve SP implementation\n",
    "\n",
    "Теперь, когда у тебя есть готовая реализация SpatialPooler, время для улучшения/ускорения реализации. Попробуй выполнить задания ниже.\n",
    "\n",
    "1. **Векторизация**: нужна векторизованная реализация, которая будет эффективно вычислять overlap score, boosting и все остальное. Важно ответить себе на вопрос, как организовать хранение рецептивных полей нейронов SP, как делать pattern matching для входного паттерна, как эффективно делать шаг обновления. Придется поиграться с разными реализациями, измеряя скорость их работы. Ну и вообще, сейчас самое время причесать свою реализациюи довести ее до финального вида.\n",
    "\n",
    "2. **Разреженные рецептивные поля**: можно ли улучшить качество работы SP, если уменьшить размеры рецептивных полей его нейронов (но возможно увеличив количество нейронов)? Зафиксируй какое-нибудь определенный лимит времени работы SP и попробуй варьировать эти два гиперпараметра (`receptive_field_sparsity` и `output_size`), чтобы оставаться в рамках лимита. Нарисуй график зависимости качества от этих двух параметров.\n",
    "\n",
    "3. [**СЛОЖНО**] **Newborn-stage**: В [On the importance of the newborn stage when learning patterns with the Spatial Pooler](https://link.springer.com/article/10.1007/s42979-022-01066-4) описана идея, что бустинг, вообще говоря, имеет и негативную сторону — он имеет смысл лишь на ранних стадиях формирования рецептивных полей нейронов. Но далее он только влечет к нестабильности (способствует дрифту кодировки на выходе из SP за счет переучивания его нейронов). Предлагается взять эту идею (статью подробно читать для этого не нужно) и добавить newborn stage в SP. Для этого сделай отдельную реализацию, чтобы у тебя была отдельная финальная версия без этой фичи, и отдельная уже с. Newborn stage будет разделен на K этапов, в процессе которых\n",
    "    1. Бустинг будет постепенно снижаться (например, линейно) к нулю\n",
    "    2. Рецептивные поля будут уменьшаться. Таким образом SP будет инициализироваться с большими рецептивными полями, но в процессе newborn stage они будут постепенно пруниться до целевых значений. Это позволит нам во взрослой стадии иметь быстрый (за счет маленьких рецептивных полей) SP с хорошо настроенными рецептивными полями, из-за чего качество будет не сильно хуже, чем если бы мы не прунили.\n",
    "   \n",
    "   Протестируй данную реализацию с разными настройками начального и конечного размера рецептивных полей."
   ]
  },
  {
   "cell_type": "code",
   "execution_count": null,
   "metadata": {
    "id": "jrtV_oDOdJsi"
   },
   "outputs": [],
   "source": []
  }
 ],
 "metadata": {
  "kernelspec": {
   "display_name": "Python 3 (ipykernel)",
   "language": "python",
   "name": "python3"
  },
  "language_info": {
   "codemirror_mode": {
    "name": "ipython",
    "version": 3
   },
   "file_extension": ".py",
   "mimetype": "text/x-python",
   "name": "python",
   "nbconvert_exporter": "python",
   "pygments_lexer": "ipython3",
   "version": "3.9.16"
  },
  "colab": {
   "provenance": []
  }
 },
 "nbformat": 4,
 "nbformat_minor": 0
}
