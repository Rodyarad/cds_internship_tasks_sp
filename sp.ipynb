{
 "cells": [
  {
   "cell_type": "markdown",
   "metadata": {
    "id": "Mx0_E_kEdJsN"
   },
   "source": [
    "# Implement Spatial Pooler\n",
    "\n",
    "В данной тетради требуется реализовать Spatial Pooler по аналогии с [описанием](https://numenta.com/assets/pdf/spatial-pooling-algorithm/Spatial-Pooling-Algorithm-Details.pdf) и [статьёй](https://www.frontiersin.org/articles/10.3389/fncom.2017.00111/pdf) от нументы. Данная тетрадь сделана на основе [примера](https://github.com/htm-community/htm.core/blob/master/py/htm/examples/mnist.py) из нументовского фреймворка `htm.core`. Сам их фреймворк нам здесь не понадобится — его ставить не нужно, но можешь ради интереса к тестам ниже добавить и тест эталонной реализации Spatial Pooler.\n",
    "\n",
    "Для начала посмотри эпизоды 0-8 видео гайда [HTMSchool](https://www.youtube.com/watch?v=XMB0ri4qgwc&list=PL3yXMgtrZmDqhsFQzwUC9V8MeeVOQ7eZ9)."
   ]
  },
  {
   "cell_type": "markdown",
   "metadata": {
    "id": "dXBc06cudJsQ"
   },
   "source": [
    "## 01. Getting ready\n",
    "\n",
    "Данная секция содержит:\n",
    "\n",
    "- импорт необходимых пакетов (убедись, что все они установлены)\n",
    "- загрузка датасета"
   ]
  },
  {
   "cell_type": "code",
   "execution_count": 1,
   "metadata": {
    "id": "mb56i--SdJsR"
   },
   "outputs": [],
   "source": [
    "import matplotlib.pyplot as plt\n",
    "import numpy as np\n",
    "from IPython.display import clear_output\n",
    "\n",
    "from sklearn.datasets import fetch_openml\n",
    "from sklearn.linear_model import LogisticRegression\n",
    "from scipy.sparse import csr_matrix\n",
    "from scipy.stats import entropy\n",
    "\n",
    "import signal\n",
    "import time\n",
    "import plotly.express as px\n",
    "import pandas as pd\n",
    "%matplotlib inline\n",
    "\n",
    "seed = 1337"
   ]
  },
  {
   "cell_type": "markdown",
   "metadata": {
    "id": "NQ7DmB9jdJsT"
   },
   "source": [
    "### Load data\n",
    "\n",
    "Следующая ячейка загружает датасет MNIST (займет порядка 10-20 сек)."
   ]
  },
  {
   "cell_type": "code",
   "execution_count": 2,
   "metadata": {
    "colab": {
     "base_uri": "https://localhost:8080/"
    },
    "id": "TwmAh5lodJsT",
    "outputId": "866402eb-68a9-460e-906d-d78d4aa3001a"
   },
   "outputs": [
    {
     "output_type": "stream",
     "name": "stdout",
     "text": [
      "(70000, 28, 28) (70000,)\n"
     ]
    },
    {
     "output_type": "execute_result",
     "data": {
      "text/plain": [
       "((60000, 28, 28), (60000,), (10000, 28, 28), (10000,))"
      ]
     },
     "metadata": {},
     "execution_count": 2
    }
   ],
   "source": [
    "def load_ds(rng, name, num_test, shape=None):\n",
    "    \"\"\"\n",
    "    fetch dataset from openML.org and split to train/test\n",
    "    @param name - ID on openML (eg. 'mnist_784')\n",
    "    @param num_test - num. samples to take as test\n",
    "    @param shape - new reshape of a single data point (ie data['data'][0]) as a list. Eg. [28,28] for MNIST\n",
    "    \"\"\"\n",
    "    data = fetch_openml(name, version=1, parser='auto')\n",
    "    sz=data['target'].shape[0]\n",
    "\n",
    "    X = np.array(data['data'])\n",
    "    if shape is not None:\n",
    "        new_shape = shape.insert(0, sz)\n",
    "        X = np.reshape(X, shape)\n",
    "\n",
    "    y = np.array(data['target']).astype(np.int32)\n",
    "    print(X.shape, y.shape)\n",
    "\n",
    "    indices = rng.permutation(y.size)\n",
    "    X = X[indices, :, :]\n",
    "    y = y[indices]\n",
    "\n",
    "    # split to train/test data\n",
    "    train_labels = y[:sz-num_test]\n",
    "    train_images = X[:sz-num_test]\n",
    "    test_labels  = y[sz-num_test:]\n",
    "    test_images  = X[sz-num_test:]\n",
    "\n",
    "    return train_labels, train_images, test_labels, test_images\n",
    "\n",
    "rng = np.random.default_rng(seed)\n",
    "train_labels, train_images, test_labels, test_images = load_ds(rng, 'mnist_784', 10000, shape=[28,28])\n",
    "\n",
    "n_train_samples = train_images.shape[0]\n",
    "n_test_samples = test_images.shape[0]\n",
    "image_shape = train_images[0].shape\n",
    "image_side = image_shape[0]\n",
    "image_size = image_side ** 2\n",
    "\n",
    "\n",
    "train_images.shape, train_labels.shape, test_images.shape, test_labels.shape"
   ]
  },
  {
   "cell_type": "markdown",
   "metadata": {
    "id": "4-1JknYFdJsU"
   },
   "source": [
    "Пример формата данных датасета"
   ]
  },
  {
   "cell_type": "code",
   "execution_count": 3,
   "metadata": {
    "colab": {
     "base_uri": "https://localhost:8080/",
     "height": 499
    },
    "id": "oVwxm_pTdJsU",
    "outputId": "8aaf17f9-568e-4aac-fabb-f4a33b026a78"
   },
   "outputs": [
    {
     "output_type": "stream",
     "name": "stdout",
     "text": [
      "Label: 5\n",
      "Image shape: (28, 28)\n",
      "Image middle row: [  0   0   0   0   0   0   0   0   0   0   0   0   0   0   0   0   0   0\n",
      " 145 253  53   0   0   0   0   0   0   0]\n"
     ]
    },
    {
     "output_type": "display_data",
     "data": {
      "text/plain": [
       "<Figure size 640x480 with 1 Axes>"
      ],
      "image/png": "[encoded data removed]"
     },
     "metadata": {}
    }
   ],
   "source": [
    "ind = 1\n",
    "plt.imshow(train_images[ind])\n",
    "print(f'Label: {train_labels[ind]}')\n",
    "print(f'Image shape: {image_shape}')\n",
    "print(f'Image middle row: {train_images[ind][image_side//2]}')"
   ]
  },
  {
   "cell_type": "markdown",
   "metadata": {
    "id": "A4YFXpzNdJsV"
   },
   "source": [
    "Перекодируем датасет в бинарные изображения и дальше будем работать с бинарными данными."
   ]
  },
  {
   "cell_type": "code",
   "execution_count": 4,
   "metadata": {
    "colab": {
     "base_uri": "https://localhost:8080/",
     "height": 430
    },
    "id": "o5K-Av0idJsV",
    "outputId": "a8127c93-c706-4073-ded3-b9bf43dfcaee"
   },
   "outputs": [
    {
     "output_type": "display_data",
     "data": {
      "text/plain": [
       "<Figure size 640x480 with 1 Axes>"
      ],
      "image/png": "[encoded data removed]"
     },
     "metadata": {}
    }
   ],
   "source": [
    "def plot_flatten_image(flatten_image, image_height=28):\n",
    "    plt.imshow(flatten_image.reshape((image_height, -1)))\n",
    "\n",
    "def to_binary_flatten_images(images):\n",
    "    n_samples = images.shape[0]\n",
    "    # flatten every image to vector\n",
    "    images = images.reshape((n_samples, -1))\n",
    "    # binary encoding: each image pixel is encoded either 0 or 1 depending on that image mean value\n",
    "    images = (images >= images.mean(axis=1, keepdims=True)).astype(np.int8)\n",
    "    return images\n",
    "\n",
    "\n",
    "train_images = to_binary_flatten_images(train_images)\n",
    "test_images = to_binary_flatten_images(test_images)\n",
    "plot_flatten_image(train_images[ind])"
   ]
  },
  {
   "cell_type": "markdown",
   "metadata": {
    "id": "LB7nDcKEdJsV"
   },
   "source": [
    "## 02. Baseline: classifier on raw input\n",
    "\n",
    "В качестве бейзлайна возьмем стандартный sklearn'овский логрег классификатор"
   ]
  },
  {
   "cell_type": "code",
   "execution_count": 5,
   "metadata": {
    "id": "vr71IY3zdJsV"
   },
   "outputs": [],
   "source": [
    "LBFGS_MAX_ITER = 1_000"
   ]
  },
  {
   "cell_type": "code",
   "execution_count": 6,
   "metadata": {
    "colab": {
     "base_uri": "https://localhost:8080/"
    },
    "id": "az7RqfbqdJsW",
    "outputId": "546be2db-f721-40e1-a647-5157ab3c853e"
   },
   "outputs": [
    {
     "output_type": "stream",
     "name": "stdout",
     "text": [
      "Score: 87.4%\n",
      "CPU times: user 917 ms, sys: 245 ms, total: 1.16 s\n",
      "Wall time: 737 ms\n"
     ]
    }
   ],
   "source": [
    "%%time\n",
    "\n",
    "def test_bare_classification(x_tr,  y_tr, x_tst, y_tst):\n",
    "    linreg = LogisticRegression(tol=.05, max_iter=LBFGS_MAX_ITER, multi_class='multinomial', penalty='l2', solver='lbfgs', n_jobs=1)\n",
    "    linreg.fit(x_tr, y_tr)\n",
    "\n",
    "    score = linreg.predict(x_tst) == y_tst\n",
    "    score = score.mean()\n",
    "    print(f'Score: {100 * score:.1f}%')\n",
    "    return score\n",
    "\n",
    "np.random.seed(seed)\n",
    "# for debug purposes I chose smaller subset of the train/test set, you can set the whole set of 60k training samples\n",
    "n = 1_000\n",
    "x_tr, y_tr = train_images[:n], train_labels[:n]\n",
    "x_tst, y_tst = test_images[:n], test_labels[:n]\n",
    "\n",
    "# примерные/ориентировочные результаты\n",
    "# 1k: 87.4; 888ms\n",
    "# 60k: 91.4; 1.5min\n",
    "_ = test_bare_classification(x_tr, y_tr, x_tst, y_tst)"
   ]
  },
  {
   "cell_type": "markdown",
   "metadata": {
    "id": "ru-SUBkKdJsW"
   },
   "source": [
    "## 03. Spatial Pooler: skeleton\n",
    "\n",
    "Временно сделаем пустой класс Spatial Pooler'а заглушку, чтобы дальше ввести весь необходимый auxiliary код для обучения и тестирования."
   ]
  },
  {
   "cell_type": "code",
   "execution_count": 7,
   "metadata": {
    "colab": {
     "base_uri": "https://localhost:8080/"
    },
    "id": "dh1dBQZhdJsW",
    "outputId": "24aff2af-e390-4889-c246-aca93b624e5e"
   },
   "outputs": [
    {
     "output_type": "stream",
     "name": "stdout",
     "text": [
      "91 784\n"
     ]
    }
   ],
   "source": [
    "class NoOpSpatialPooler:\n",
    "    def __init__(self, input_size):\n",
    "        self.input_size = input_size\n",
    "        self.output_size = input_size\n",
    "\n",
    "    def compute(self, dense_sdr, learn):\n",
    "        # просто отдает вход на выход\n",
    "        return np.flatnonzero(dense_sdr)\n",
    "\n",
    "\n",
    "np.random.seed(seed)\n",
    "sp = NoOpSpatialPooler(train_images[0].size)\n",
    "sparse_sdr = sp.compute(train_images[0], True)\n",
    "\n",
    "print(sparse_sdr.size, sp.output_size)\n",
    "assert sparse_sdr.size < sp.output_size"
   ]
  },
  {
   "cell_type": "markdown",
   "metadata": {
    "id": "CQ-YfH4hdJsW"
   },
   "source": [
    "## 04. Train/test SP performance aux pipeline\n",
    "\n",
    "Ниже непосредственно код для обучения и тестирования классификации с использованием Spatial Pooler'а. Общая схема следующая - мы обучаем SP на train set'е, а дальше SDR векторы на выходе из SP используем в кач-ве входных данных для логрег классификатора в надежде, что эти данные разделимы еще лучше, то есть что качество классификации улучшится.\n",
    "\n",
    "__NB__: Не удивляйся, в реализации ниже обучение идет в немного полуонлайн режиме - делается небольшой претрейн, а потом полностью онлайн. Претрейн делаем для прогрева SP, тк на ранних стадиях обучения он слишком сильно меняет выходную кодировку."
   ]
  },
  {
   "cell_type": "code",
   "execution_count": 8,
   "metadata": {
    "colab": {
     "base_uri": "https://localhost:8080/"
    },
    "id": "Fq8cOX7ndJsW",
    "outputId": "5bc27e9d-7965-4c2c-bdc6-00014f8477c1"
   },
   "outputs": [
    {
     "output_type": "stream",
     "name": "stdout",
     "text": [
      "Score: 87.4% for n = 1000\n",
      "CPU times: user 82.8 ms, sys: 54.1 ms, total: 137 ms\n",
      "Wall time: 1.25 s\n"
     ]
    },
    {
     "output_type": "execute_result",
     "data": {
      "text/plain": [
       "0.874"
      ]
     },
     "metadata": {},
     "execution_count": 8
    }
   ],
   "source": [
    "%%time\n",
    "\n",
    "def pretrain_sp(sp, images, n_samples):\n",
    "\n",
    "    for img in images[:n_samples]:\n",
    "        sp.compute(img, True)\n",
    "\n",
    "def encode_to_csr_with_sp(images, sp, learn):\n",
    "    flatten_encoded_sdrs = []\n",
    "    indptr = [0]\n",
    "    for img in images:\n",
    "        encoded_sparse_sdr = sp.compute(img, learn)\n",
    "        flatten_encoded_sdrs.extend(encoded_sparse_sdr)\n",
    "        indptr.append(len(flatten_encoded_sdrs))\n",
    "\n",
    "    data = np.ones(len(flatten_encoded_sdrs))\n",
    "    csr = csr_matrix((data, flatten_encoded_sdrs, indptr), shape=(images.shape[0], sp.output_size))\n",
    "    return csr\n",
    "\n",
    "def test_classification_with_sp(x_tr,  y_tr, x_tst, y_tst, sp):\n",
    "    # a small pretrain SP before real work\n",
    "    pretrain_sp(sp, x_tr, n_samples=1000)\n",
    "\n",
    "    # encode images and continuously train SP\n",
    "    csr = encode_to_csr_with_sp(x_tr, sp, learn=True)\n",
    "\n",
    "    # train linreg\n",
    "    linreg = LogisticRegression(tol=.05, max_iter=LBFGS_MAX_ITER, multi_class='multinomial', penalty='l2', solver='lbfgs', n_jobs=3)\n",
    "    linreg.fit(csr, y_tr)\n",
    "\n",
    "    # encode test images (without SP learning) and then test score\n",
    "    csr = encode_to_csr_with_sp(x_tst, sp, False)\n",
    "    score = linreg.predict(csr) == y_tst\n",
    "    score = score.mean()\n",
    "    print(f'Score: {100 * score:.1f}% for n = {len(x_tr)}')\n",
    "    return score\n",
    "\n",
    "n = 1000\n",
    "x_tr, y_tr = train_images[:n], train_labels[:n]\n",
    "x_tst, y_tst = test_images[:n], test_labels[:n]\n",
    "my_sp = NoOpSpatialPooler(train_images[0].size)\n",
    "\n",
    "# 87.3; 1.16s\n",
    "test_classification_with_sp(x_tr, y_tr, x_tst, y_tst, my_sp)"
   ]
  },
  {
   "cell_type": "markdown",
   "metadata": {
    "id": "QUM0qNCKdJsX"
   },
   "source": [
    "## 05. Spatial Pooler: learning\n",
    "\n",
    "__Здесь начинается практическое задание__\n",
    "\n",
    "В этой части требуется реализовать простую версию SP с обучением как описано в видео htm scool до бустинга (т.е. бустинг пока не нужен)."
   ]
  },
  {
   "cell_type": "code",
   "execution_count": 9,
   "metadata": {
    "colab": {
     "base_uri": "https://localhost:8080/"
    },
    "id": "ui4kycnjJHwv",
    "outputId": "a2afb37c-f30e-413f-bb60-afcdc4652f86"
   },
   "outputs": [
    {
     "output_type": "stream",
     "name": "stdout",
     "text": [
      "4 100 4\n"
     ]
    },
    {
     "output_type": "execute_result",
     "data": {
      "text/plain": [
       "array([16, 44, 30, 22])"
      ]
     },
     "metadata": {},
     "execution_count": 9
    }
   ],
   "source": [
    "class LearnableSpatialPooler:\n",
    "    def __init__(\n",
    "        self, input_size, output_size, permanence_threshold, output_sparsity, synapse_permanence_deltas, receptive_field_sparsity\n",
    "    ):\n",
    "        '''\n",
    "        params:\n",
    "            `input_size` - the size of the input SDR\n",
    "            `output_size` - the size of the output SDR\n",
    "            `permanence_threshold` - value in [0, 1], defines whether or not a connection is active\n",
    "            `output_sparsity` - value in [0, 1], defines desired output SDR sparsity, e.g. 0.02 is 2% sparsity\n",
    "            `synapse_permanence_deltas` - tuple of (p+, p-), defines permanence increment/decrement for learning\n",
    "            `receptive_field_sparsity` - value in [0, 1], defines the fraction of _potential_ synapses\n",
    "        '''\n",
    "        self.input_size = input_size\n",
    "        self.output_size = output_size\n",
    "\n",
    "        self.permanence_threshold = permanence_threshold\n",
    "        self.output_sparsity = output_sparsity\n",
    "        self.synapse_permanence_deltas = synapse_permanence_deltas\n",
    "        self.receptive_field_sparsity = receptive_field_sparsity\n",
    "\n",
    "        self.receptive_field = round(self.input_size * self.receptive_field_sparsity)\n",
    "        #Генерация индексов входного изображения, с которыми будет связан каждый стобец\n",
    "        self.ind_of_input = np.tile(np.arange(0, self.input_size), (self.output_size, 1))\n",
    "        np.apply_along_axis(np.random.shuffle, 1, self.ind_of_input)\n",
    "        self.ind_of_input = self.ind_of_input[:,:self.receptive_field]\n",
    "        #Инициалзиация синапсов - генерация значений постоянства в окрестности permanence_threshold\n",
    "        #для каждого столбца\n",
    "        self.synapses = np.random.uniform(self.permanence_threshold-0.1,self.permanence_threshold+0.1, \n",
    "                                          (self.output_size,self.receptive_field))\n",
    "\n",
    "        self.num_activ_col = round(self.output_size * self.output_sparsity)\n",
    "        self.count_active = np.zeros(self.output_size)\n",
    "\n",
    "\n",
    "    def compute(self, dense_sdr, learn):\n",
    "        '''\n",
    "        params:\n",
    "            `dense_sdr` - input SDR in dense for, i.e. as np.array\n",
    "            `learn` - bool flag, whether or not to do a learning step\n",
    "\n",
    "        returns:\n",
    "            a list of activated columns indices\n",
    "        '''\n",
    "\n",
    "        mask = self.synapses*dense_sdr[self.ind_of_input] >= self.permanence_threshold\n",
    "        overlap = np.sum(mask, axis=1)\n",
    "        activated_cols = np.argpartition(overlap, -self.num_activ_col)[-self.num_activ_col:]\n",
    "        self.n_active_bits = len(activated_cols)\n",
    "        self.count_active[activated_cols]+=1\n",
    "\n",
    "        if learn:\n",
    "          #buf = self.synapses.copy()\n",
    "          self.synapses[mask] += self.synapse_permanence_deltas[0]\n",
    "          self.synapses[~mask] -= self.synapse_permanence_deltas[1]\n",
    "          #print(f'Количестов одинаковый значений до и после обновления значенний постоянства = {np.sum(buf == self.synapses)}')\n",
    "          np.clip(self.synapses[activated_cols], 0, 1, out=self.synapses[activated_cols])\n",
    "\n",
    "\n",
    "        return activated_cols\n",
    "\n",
    "\n",
    "np.random.seed(seed)\n",
    "sp = LearnableSpatialPooler(\n",
    "    input_size=train_images[0].size,\n",
    "    output_size=10**2,\n",
    "    permanence_threshold=.5,\n",
    "    output_sparsity=.04,\n",
    "    synapse_permanence_deltas=(.1, .03),\n",
    "    receptive_field_sparsity=.8\n",
    ")\n",
    "sparse_sdr = sp.compute(train_images[0], True)\n",
    "\n",
    "print(sparse_sdr.size, sp.output_size, sp.n_active_bits)\n",
    "assert sparse_sdr.size == sp.n_active_bits\n",
    "sparse_sdr"
   ]
  },
  {
   "cell_type": "markdown",
   "metadata": {
    "id": "AjfVbSUTdJsX"
   },
   "source": [
    "### 05.1. Naive SP performance\n",
    "\n",
    "Проверь качество работы своей реализации. В комментариях примерные значения для разных `n`, на которые можно попробовать ориентироваться:"
   ]
  },
  {
   "cell_type": "code",
   "execution_count": 10,
   "metadata": {
    "colab": {
     "base_uri": "https://localhost:8080/"
    },
    "id": "5xm6Sb-ldJsX",
    "outputId": "95e8f9d3-a4b8-4bef-be50-6dd107ee007a"
   },
   "outputs": [
    {
     "output_type": "stream",
     "name": "stdout",
     "text": [
      "Score: 76.4% for n = 1000\n",
      "CPU times: user 13.1 s, sys: 28 ms, total: 13.2 s\n",
      "Wall time: 13.5 s\n"
     ]
    },
    {
     "output_type": "execute_result",
     "data": {
      "text/plain": [
       "0.764"
      ]
     },
     "metadata": {},
     "execution_count": 10
    }
   ],
   "source": [
    "%%time\n",
    "\n",
    "np.random.seed(seed)\n",
    "n = 1000\n",
    "x_tr, y_tr = train_images[:n], train_labels[:n]\n",
    "x_tst, y_tst = test_images[:n], test_labels[:n]\n",
    "\n",
    "sp = LearnableSpatialPooler(\n",
    "    input_size=train_images[0].size,\n",
    "    output_size=30**2,\n",
    "    permanence_threshold=.5,\n",
    "    output_sparsity=.04,\n",
    "    synapse_permanence_deltas=(.1, .03),\n",
    "    receptive_field_sparsity=.8\n",
    ")\n",
    "# 1k: 80.2; 2.98s\n",
    "# 60k: 89.3; 72 s\n",
    "test_classification_with_sp(x_tr, y_tr, x_tst, y_tst, sp)"
   ]
  },
  {
   "cell_type": "markdown",
   "metadata": {
    "id": "Noxjmyt4dJsX"
   },
   "source": [
    "Интересная метрика оценки качества работы SP и вырожденности датасета - энтропия выходных активаций.\n",
    "\n",
    "Добавь либо в реализацию класса, либо где-то сбоку возможность учета статистики активаций выходных клеток (ты наверняка заметил, что обычно их контринтуитивно называют столбцами, что оч круто запутывает) и функцию подсчета энтропии на основе этой статистики. Собери такую статистику на одном прогоне на всем датасете и:\n",
    "\n",
    "- нарисуй гистограмму частоты активаций (с нормализацией, чтобы по оси Y были вероятности активации, а не их число)\n",
    "- посчитай энтропию $H = -\\sum p \\cdot \\log p$"
   ]
  },
  {
   "cell_type": "code",
   "execution_count": 11,
   "metadata": {
    "colab": {
     "base_uri": "https://localhost:8080/",
     "height": 466
    },
    "id": "1tHMlr0JdJsX",
    "outputId": "a8d55310-c039-4161-bc06-caa73675d9cc"
   },
   "outputs": [
    {
     "output_type": "display_data",
     "data": {
      "text/plain": [
       "<Figure size 640x480 with 1 Axes>"
      ],
      "image/png": "[encoded data removed]"
     },
     "metadata": {}
    },
    {
     "output_type": "stream",
     "name": "stdout",
     "text": [
      "Энтропия = 8.038516074794195\n"
     ]
    }
   ],
   "source": [
    "target_freq = sp.output_sparsity\n",
    "frequencies = (sp.count_active/np.sum(sp.count_active))/target_freq\n",
    "uniq_frequencies = np.unique(frequencies)\n",
    "percentages = []\n",
    "for freq in uniq_frequencies:\n",
    "  percentages.append(np.count_nonzero(frequencies == freq)*100/frequencies.shape[0])\n",
    "percentages = np.array(percentages)\n",
    "sorted_indices = np.argsort(uniq_frequencies)[::-1]\n",
    "sorted_frequencies_no_boost = uniq_frequencies[sorted_indices]\n",
    "sorted_percentages_no_boost = percentages[sorted_indices]\n",
    "\n",
    "plt.bar(sorted_frequencies_no_boost, sorted_percentages_no_boost, color='black', width=0.0001, edgecolor='black')\n",
    "plt.xlabel('Частота, нормализванная относительно целевой частоты')\n",
    "plt.ylabel('Процент cтолбцов, имеющих данную частоту')\n",
    "plt.grid(True)\n",
    "plt.show()\n",
    "\n",
    "entropy_no_boost = entropy(sp.count_active/np.sum(sp.count_active), base=2)\n",
    "print(f'Энтропия = {entropy_no_boost}')"
   ]
  },
  {
   "cell_type": "markdown",
   "metadata": {
    "id": "Cj0j0Ry9dJsY"
   },
   "source": [
    "Теперь давай посмотрим, как выходной размер `output_size` влияет на качество работы. Протестируй разные значения `output_size` - например, $[10^2, 15^2,..., 55^2, 60^2]$ и отрисуй график зависимости [качества классификации, но можешь и времени работы тоже].\n",
    "\n",
    "_Можно для начала прикинуть для n=1000 и двигаться дальше, а позже пересчитать на всем датасете_"
   ]
  },
  {
   "cell_type": "code",
   "execution_count": null,
   "metadata": {
    "colab": {
     "base_uri": "https://localhost:8080/",
     "height": 641
    },
    "id": "GyvhepGKdJsY",
    "outputId": "518d8472-cd4e-49b1-a73b-d665bbb02eab"
   },
   "outputs": [
    {
     "output_type": "stream",
     "name": "stdout",
     "text": [
      "Score: 51.2% for n = 1000\n",
      "Score: 61.6% for n = 1000\n",
      "Score: 66.5% for n = 1000\n",
      "Score: 69.9% for n = 1000\n",
      "Score: 76.4% for n = 1000\n",
      "Score: 76.8% for n = 1000\n",
      "Score: 81.5% for n = 1000\n",
      "Score: 81.6% for n = 1000\n",
      "Score: 81.8% for n = 1000\n",
      "Score: 85.2% for n = 1000\n",
      "Score: 84.3% for n = 1000\n"
     ]
    },
    {
     "output_type": "display_data",
     "data": {
      "text/plain": [
       "<Figure size 640x480 with 1 Axes>"
      ],
      "image/png": "[encoded data removed]"
     },
     "metadata": {}
    }
   ],
   "source": [
    "n = 1000\n",
    "x_tr, y_tr = train_images[:n], train_labels[:n]\n",
    "x_tst, y_tst = test_images[:n], test_labels[:n]\n",
    "\n",
    "score_no_boosting = []\n",
    "\n",
    "for size in range(10,61,5):\n",
    "  np.random.seed(seed)\n",
    "  sp = LearnableSpatialPooler(\n",
    "      input_size=train_images[0].size,\n",
    "      output_size=size**2,\n",
    "      permanence_threshold=.5,\n",
    "      output_sparsity=.04,\n",
    "      synapse_permanence_deltas=(.1, .03),\n",
    "      receptive_field_sparsity=.8\n",
    "  )\n",
    "  score_no_boosting.append(test_classification_with_sp(x_tr, y_tr, x_tst, y_tst, sp))\n",
    "\n",
    "plt.plot(np.arange(10,61,5)**2, score_no_boosting)\n",
    "plt.xlabel(\"Output_size\")\n",
    "plt.ylabel(\"Score\")\n",
    "plt.show()"
   ]
  },
  {
   "cell_type": "markdown",
   "metadata": {
    "id": "YEzwReLldJsY"
   },
   "source": [
    "## 06. Spatial Pooler: boosting\n",
    "\n",
    "В этом пункте требуется реализовать бустинг. Обрати внимание, в видео htm school речь ведется о бустинге overlap score на основе активности выходных ячеек -  именно такой вид бустинга и нужно реализовать. Еще есть бустинг значений permanence синапсов выходных ячеек, имеющих слишком низкое среднее значение overlap score за последние N итераций - рассмотрение этого вида бустинга оставим в стороне. Так что дальше под бустингом будет иметься в виду только первый вариант.\n",
    "\n",
    "Зададим параметр `max_boost_factor` $\\in [0, +\\infty)$. Можно по-разному задавать интерпретацию этого параметра, то есть как будет действовать бустинг. Например, можно дать возможность бустингу работать только в сторону усиления слабых — тогда параметр `max_boost_factor` $=K$ определяет, что значения overlap score под действием бустинга могут быть увеличены максимум в $1+K$ раз. То есть `max_boost_factor`$=1$ означает, что оверлапы могут быть увеличены максимум в два раза, а 0 — что бустинг отключен.\n",
    "\n",
    "Однако допустима и реализация, в которой бустинг работает в обе стороны — слабые колонки усиливает, а сильные наоборот ослабляет, и тогда пределы изменения для величины `max_boost_factor` $=K$: $[\\frac{1}{K}, K]$, то есть бустинг может и усилить, и ослабить максимум в $K$ раз. В своей реализации выбери любой из этих вариантов."
   ]
  },
  {
   "cell_type": "code",
   "execution_count": 12,
   "metadata": {
    "colab": {
     "base_uri": "https://localhost:8080/"
    },
    "id": "DN5RdqWndJsZ",
    "outputId": "221f8fd1-caea-4139-9d17-504133c94c6d"
   },
   "outputs": [
    {
     "output_type": "execute_result",
     "data": {
      "text/plain": [
       "array([16, 44, 30, 22])"
      ]
     },
     "metadata": {},
     "execution_count": 12
    }
   ],
   "source": [
    "class BoostedSpatialPooler:\n",
    "    def __init__(\n",
    "        self, input_size, output_size, permanence_threshold, output_sparsity, synapse_permanence_deltas, receptive_field_sparsity,\n",
    "        max_boost_factor, boost_sliding_window\n",
    "    ):\n",
    "        '''\n",
    "        params:\n",
    "            `input_size` - the size of the input SDR\n",
    "            `output_size` - the size of the output SDR\n",
    "            `permanence_threshold` - value in [0, 1], defines whether or not a connection is active\n",
    "            `output_sparsity` - value in [0, 1], defines desired output SDR sparsity, e.g. 0.02 is 2% sparsity\n",
    "            `synapse_permanence_deltas` - tuple of (p+, p-), defines permanence increment/decrement for learning\n",
    "            `receptive_field_sparsity` - value in [0, 1], defines the fraction of _potential_ synapses\n",
    "            `max_boost_factor` - value in [0, +inf), defines maximum allowed boosting. Boosting value X > 0 (X < 0) means that overlap is multiplied (divided) by `1 + X`.\n",
    "            `boost_sliding_window` - value in [1, +inf), defines the size of the window for moving avg output column activity\n",
    "        '''\n",
    "        self.input_size = input_size\n",
    "        self.output_size = output_size\n",
    "        self.permanence_threshold = permanence_threshold\n",
    "        self.output_sparsity = output_sparsity\n",
    "        self.synapse_permanence_deltas = synapse_permanence_deltas\n",
    "        self.receptive_field_sparsity = receptive_field_sparsity\n",
    "        self.max_boost_factor = max_boost_factor\n",
    "        self.boost_sliding_window = boost_sliding_window\n",
    "\n",
    "        self.receptive_field = round(self.input_size * self.receptive_field_sparsity)\n",
    "        #Генерация индексов входного изображения, с которыми будет связан каждый стобец\n",
    "        self.ind_of_input = np.tile(np.arange(0, self.input_size), (self.output_size, 1))\n",
    "        np.apply_along_axis(np.random.shuffle, 1, self.ind_of_input)\n",
    "        self.ind_of_input = self.ind_of_input[:,:self.receptive_field]\n",
    "        #Инициалзиация синапсов - генерация значений постоянства в окрестности permanence_threshold\n",
    "        #для каждого столбца\n",
    "        self.synapses = np.random.uniform(self.permanence_threshold-0.1,self.permanence_threshold+0.1,\n",
    "                                          (self.output_size,self.receptive_field))\n",
    "        self.max_boost_factor = max_boost_factor\n",
    "        self.boosting_factors = np.ones(self.output_size)\n",
    "        self.activ_time_avg = np.zeros(self.output_size)\n",
    "        self.boost_strength = 1\n",
    "        self.activ = np.zeros(self.output_size)\n",
    "        self.num_activ_col = round(self.output_size * self.output_sparsity)\n",
    "        self.count_active = np.zeros(self.output_size)\n",
    "\n",
    "    def compute(self, dense_sdr, learn):\n",
    "        '''\n",
    "        params:\n",
    "            `dense_sdr` - input SDR in dense for, i.e. as np.array\n",
    "            `learn` - bool flag, whether or not to do a learning step\n",
    "\n",
    "        returns:\n",
    "            a list of activated columns indices\n",
    "        '''\n",
    "\n",
    "        mask = self.synapses*dense_sdr[self.ind_of_input] >= self.permanence_threshold\n",
    "        overlap = np.sum(mask, axis=1) * self.boosting_factors\n",
    "        activated_cols = np.argpartition(overlap, -self.num_activ_col)[-self.num_activ_col:]\n",
    "        self.n_active_bits = len(activated_cols)\n",
    "        self.count_active[activated_cols]+=1\n",
    "\n",
    "        self.activ = np.zeros(self.output_size)\n",
    "        self.activ[activated_cols] = 1\n",
    "\n",
    "\n",
    "\n",
    "\n",
    "        if learn:\n",
    "          self.synapses[mask] += self.synapse_permanence_deltas[0]\n",
    "          self.synapses[~mask] -= self.synapse_permanence_deltas[1]\n",
    "          np.clip(self.synapses[activated_cols], 0, 1, out=self.synapses[activated_cols])\n",
    "\n",
    "          self.activ_time_avg = (self.activ + (self.boost_sliding_window-1)*self.activ_time_avg)/self.boost_sliding_window\n",
    "          neighbours_avg = (np.sum(self.activ_time_avg) - self.activ_time_avg) / (self.activ_time_avg.shape[0] - 1)\n",
    "          self.boosting_factors = np.clip(np.exp(self.boost_strength *\n",
    "           (neighbours_avg- self.activ_time_avg)), 1/self.max_boost_factor, self.max_boost_factor)\n",
    "\n",
    "\n",
    "        return activated_cols\n",
    "\n",
    "\n",
    "np.random.seed(seed)\n",
    "my_sp = BoostedSpatialPooler(\n",
    "    train_images[0].size, output_size=10**2, permanence_threshold=.5, output_sparsity=.04, synapse_permanence_deltas=(.1, .02),\n",
    "    receptive_field_sparsity=.8, max_boost_factor=0.5, boost_sliding_window=1000\n",
    ")\n",
    "my_sp.compute(train_images[0], True)"
   ]
  },
  {
   "cell_type": "markdown",
   "metadata": {
    "id": "_8Wq9YXhdJsZ"
   },
   "source": [
    "### 06.1. SP with boosting performance\n",
    "\n",
    "_Дальше все как и в пункте 05.1_\n",
    "\n",
    "Проверь качество работы своей реализации. В комментариях по-прежнему примерные значения для разных `n`, на которые можно попробовать ориентироваться:"
   ]
  },
  {
   "cell_type": "code",
   "execution_count": 13,
   "metadata": {
    "colab": {
     "base_uri": "https://localhost:8080/"
    },
    "id": "fh3kCOJhdJsZ",
    "outputId": "f23f51d6-bc67-4dda-825d-d9e66a68457f"
   },
   "outputs": [
    {
     "output_type": "stream",
     "name": "stdout",
     "text": [
      "Score: 80.7% for n = 1000\n",
      "CPU times: user 12.9 s, sys: 34.8 ms, total: 12.9 s\n",
      "Wall time: 13.4 s\n"
     ]
    },
    {
     "output_type": "execute_result",
     "data": {
      "text/plain": [
       "0.807"
      ]
     },
     "metadata": {},
     "execution_count": 13
    }
   ],
   "source": [
    "%%time\n",
    "\n",
    "np.random.seed(seed)\n",
    "n = 1000\n",
    "x_tr, y_tr = train_images[:n], train_labels[:n]\n",
    "x_tst, y_tst = test_images[:n], test_labels[:n]\n",
    "\n",
    "sp = BoostedSpatialPooler(\n",
    "    input_size=train_images[0].size,\n",
    "    output_size=30**2,\n",
    "    permanence_threshold=.5,\n",
    "    output_sparsity=.04,\n",
    "    synapse_permanence_deltas=(.1, .03),\n",
    "    receptive_field_sparsity=.8,\n",
    "    max_boost_factor=2,\n",
    "    boost_sliding_window=1000\n",
    ")\n",
    "# 1k: 84.0; 3.24 s\n",
    "# 60k: 91.15; 86 s\n",
    "test_classification_with_sp(x_tr, y_tr, x_tst, y_tst, sp)"
   ]
  },
  {
   "cell_type": "markdown",
   "metadata": {
    "id": "sUMVCuQBdJsZ"
   },
   "source": [
    "- нарисуй гистограмму вероятностей активаций\n",
    "- посчитай энтропию $H = -\\sum p \\cdot \\log p$\n",
    "- сравни с результатами без бустинга - есть какие-то очевидные выводы?"
   ]
  },
  {
   "cell_type": "code",
   "execution_count": 14,
   "metadata": {
    "colab": {
     "base_uri": "https://localhost:8080/",
     "height": 484
    },
    "id": "kIN2bYwYdJsZ",
    "outputId": "ac637281-a6a5-45e2-91f3-0bb24b088823"
   },
   "outputs": [
    {
     "output_type": "display_data",
     "data": {
      "text/plain": [
       "<Figure size 640x480 with 1 Axes>"
      ],
      "image/png": "[encoded data removed]"
     },
     "metadata": {}
    },
    {
     "output_type": "stream",
     "name": "stdout",
     "text": [
      "Энтропия для SP без бустинга= 8.038516074794195\n",
      "Энтропия для SP с бустингом= 9.000130796642317\n"
     ]
    }
   ],
   "source": [
    "target_freq = sp.output_sparsity\n",
    "frequencies = (sp.count_active/np.sum(sp.count_active))/target_freq\n",
    "uniq_frequencies = np.unique(frequencies)\n",
    "percentages = []\n",
    "for freq in uniq_frequencies:\n",
    "  percentages.append(np.count_nonzero(frequencies == freq)*100/frequencies.shape[0])\n",
    "percentages = np.array(percentages)\n",
    "sorted_indices = np.argsort(uniq_frequencies)[::-1]\n",
    "sorted_frequencies_with_boost = uniq_frequencies[sorted_indices]\n",
    "sorted_percentages_with_boost = percentages[sorted_indices]\n",
    "\n",
    "plt.bar(sorted_frequencies_no_boost, sorted_percentages_no_boost, color='black', width=0.0001, edgecolor='black', label = 'No boosting')\n",
    "plt.bar(sorted_frequencies_with_boost, sorted_percentages_with_boost, color='green', width=0.0001, edgecolor='green', label = 'With boosting')\n",
    "plt.xlabel('Частота, нормализванная относительно целевой частоты')\n",
    "plt.ylabel('Процент cтолбцов, имеющих данную частоту')\n",
    "plt.grid(True)\n",
    "plt.legend()\n",
    "plt.show()\n",
    "\n",
    "entropy_with_boost = entropy(sp.count_active/np.sum(sp.count_active), base=2)\n",
    "print(f'Энтропия для SP без бустинга= {entropy_no_boost}')\n",
    "print(f'Энтропия для SP с бустингом= {entropy_with_boost}')"
   ]
  },
  {
   "cell_type": "markdown",
   "metadata": {
    "id": "vMzhZn38dJsZ"
   },
   "source": [
    "Протестируй разные значения `output_size` - например, $[10^2, 15^2,..., 55^2, 60^2]$ и отрисуй график зависимости [качества классификации, но можешь и времени работы тоже].\n",
    "\n",
    "Сравни с результатами без бустинга"
   ]
  },
  {
   "cell_type": "code",
   "execution_count": null,
   "metadata": {
    "id": "NBvSsU8LdJsZ"
   },
   "outputs": [],
   "source": [
    "n = 1000\n",
    "x_tr, y_tr = train_images[:n], train_labels[:n]\n",
    "x_tst, y_tst = test_images[:n], test_labels[:n]\n",
    "\n",
    "score_boosting = []\n",
    "\n",
    "for size in range(10,61,5):\n",
    "    np.random.seed(seed)\n",
    "    sp = BoostedSpatialPooler(\n",
    "        input_size=train_images[0].size,\n",
    "        output_size=size**2,\n",
    "        permanence_threshold=.5,\n",
    "        output_sparsity=.04,\n",
    "        synapse_permanence_deltas=(.1, .03),\n",
    "        receptive_field_sparsity=.8,\n",
    "        max_boost_factor=2,\n",
    "        boost_sliding_window=1000\n",
    "    )\n",
    "    score_boosting.append(test_classification_with_sp(x_tr, y_tr, x_tst, y_tst, sp))"
   ]
  },
  {
   "cell_type": "code",
   "source": [
    "plt.plot(np.arange(10,61,5)**2, score_boosting, label = 'With boosting')\n",
    "plt.plot(np.arange(10,61,5)**2, score_no_boosting, label ='No boosting')\n",
    "plt.xlabel(\"Output_size\")\n",
    "plt.ylabel(\"Score\")\n",
    "plt.legend()\n",
    "plt.show()"
   ],
   "metadata": {
    "colab": {
     "base_uri": "https://localhost:8080/",
     "height": 450
    },
    "id": "giv4tZEDm9kc",
    "outputId": "ed60de45-f873-4550-a043-2f10acadf031"
   },
   "execution_count": null,
   "outputs": [
    {
     "output_type": "display_data",
     "data": {
      "text/plain": [
       "<Figure size 640x480 with 1 Axes>"
      ],
      "image/png": "[encoded data removed]"
     },
     "metadata": {}
    }
   ]
  },
  {
   "cell_type": "markdown",
   "metadata": {
    "id": "gVugAPbXdJsZ"
   },
   "source": [
    "___\n",
    "__[Опционально]__ можешь ради интереса поиграться с таким параметром как `receptive_field_sparsity`. Возьми в качестве выходного размера `output_size` = $50^2$ и проверь результаты на разных значениях параметра $[0.4, 0.5, ..., 1.0]$ и построй график зависимости."
   ]
  },
  {
   "cell_type": "code",
   "execution_count": null,
   "metadata": {
    "colab": {
     "base_uri": "https://localhost:8080/",
     "height": 570
    },
    "id": "yJHA2vkldJsZ",
    "outputId": "e1e8821a-59c2-4abc-e917-eed4d155f6c2"
   },
   "outputs": [
    {
     "output_type": "stream",
     "name": "stdout",
     "text": [
      "Score: 85.6% for n = 1000\n",
      "Score: 84.9% for n = 1000\n",
      "Score: 87.5% for n = 1000\n",
      "Score: 86.5% for n = 1000\n",
      "Score: 85.6% for n = 1000\n",
      "Score: 85.3% for n = 1000\n",
      "Score: 85.2% for n = 1000\n"
     ]
    },
    {
     "output_type": "display_data",
     "data": {
      "text/plain": [
       "<Figure size 640x480 with 1 Axes>"
      ],
      "image/png": "[encoded data removed]"
     },
     "metadata": {}
    }
   ],
   "source": [
    "n = 1000\n",
    "x_tr, y_tr = train_images[:n], train_labels[:n]\n",
    "x_tst, y_tst = test_images[:n], test_labels[:n]\n",
    "\n",
    "score = []\n",
    "field_sparsities = np.round(np.arange(0.4, 1.1, 0.1), 1)\n",
    "\n",
    "for field_sparsity in field_sparsities:\n",
    "  np.random.seed(seed)\n",
    "  sp = BoostedSpatialPooler(\n",
    "      input_size=train_images[0].size,\n",
    "      output_size=50**2,\n",
    "      permanence_threshold=.5,\n",
    "      output_sparsity=.04,\n",
    "      synapse_permanence_deltas=(.1, .03),\n",
    "      receptive_field_sparsity=field_sparsity,\n",
    "      max_boost_factor=2,\n",
    "      boost_sliding_window=1000\n",
    "  )\n",
    "  score.append(test_classification_with_sp(x_tr, y_tr, x_tst, y_tst, sp))\n",
    "\n",
    "plt.plot(field_sparsities, score)\n",
    "plt.xlabel(\"Receptive field sparsity\")\n",
    "plt.ylabel(\"Score\")\n",
    "plt.show()"
   ]
  },
  {
   "cell_type": "markdown",
   "metadata": {
    "id": "Gfvu7F1ndJsa"
   },
   "source": [
    "## 07. TESTING\n",
    "\n",
    "Дальше просто сравнительное тестирование получившихся результатов."
   ]
  },
  {
   "cell_type": "code",
   "execution_count": null,
   "metadata": {
    "id": "4mzvJQJndJsa"
   },
   "outputs": [],
   "source": [
    "n = 60000\n",
    "x_tr, y_tr = train_images[:n], train_labels[:n]\n",
    "x_tst, y_tst = test_images[:n], test_labels[:n]"
   ]
  },
  {
   "cell_type": "code",
   "execution_count": null,
   "metadata": {
    "colab": {
     "base_uri": "https://localhost:8080/"
    },
    "id": "5W6C0vGRdJsa",
    "outputId": "fb5ee696-1d80-4094-a3de-e069349698c7"
   },
   "outputs": [
    {
     "name": "stdout",
     "output_type": "stream",
     "text": [
      "Score: 91.4%\n",
      "CPU times: user 4.11 s, sys: 1.26 s, total: 5.37 s\n",
      "Wall time: 5min 45s\n"
     ]
    },
    {
     "data": {
      "text/plain": [
       "0.9143"
      ]
     },
     "execution_count": 15,
     "metadata": {},
     "output_type": "execute_result"
    }
   ],
   "source": [
    "%%time\n",
    "\n",
    "def test_bare_classification(x_tr,  y_tr, x_tst, y_tst):\n",
    "    linreg = LogisticRegression(tol=.05, max_iter=LBFGS_MAX_ITER, multi_class='multinomial', penalty='l2', solver='lbfgs', n_jobs=3)\n",
    "    linreg.fit(x_tr, y_tr)\n",
    "\n",
    "    score = linreg.predict(x_tst) == y_tst\n",
    "    score = score.mean()\n",
    "    print(f'Score: {100 * score:.1f}%')\n",
    "    return score\n",
    "\n",
    "np.random.seed(seed)\n",
    "# 92.11; 38s\n",
    "test_bare_classification(x_tr, y_tr, x_tst, y_tst)"
   ]
  },
  {
   "cell_type": "code",
   "execution_count": null,
   "metadata": {
    "colab": {
     "base_uri": "https://localhost:8080/"
    },
    "id": "064XU0bEdJsa",
    "outputId": "b41d0c85-67fb-4d23-9f3d-44be5386b1d1"
   },
   "outputs": [
    {
     "name": "stdout",
     "output_type": "stream",
     "text": [
      "Score: 89.2% for n = 60000\n",
      "CPU times: user 4min 54s, sys: 1.43 s, total: 4min 55s\n",
      "Wall time: 5min 35s\n"
     ]
    },
    {
     "data": {
      "text/plain": [
       "0.8925"
      ]
     },
     "execution_count": 17,
     "metadata": {},
     "output_type": "execute_result"
    }
   ],
   "source": [
    "%%time\n",
    "\n",
    "np.random.seed(seed)\n",
    "sp = LearnableSpatialPooler(\n",
    "    input_size=train_images[0].size,\n",
    "    output_size=30**2,\n",
    "    permanence_threshold=.5,\n",
    "    output_sparsity=.04,\n",
    "    synapse_permanence_deltas=(.1, .03),\n",
    "    receptive_field_sparsity=.8,\n",
    ")\n",
    "# 89.3; 72 s\n",
    "test_classification_with_sp(x_tr, y_tr, x_tst, y_tst, sp)"
   ]
  },
  {
   "cell_type": "code",
   "execution_count": null,
   "metadata": {
    "colab": {
     "base_uri": "https://localhost:8080/"
    },
    "id": "CXs-dBdWdJsa",
    "outputId": "2fb4b50b-19e1-4d78-b44d-60cd9e8d1f2d"
   },
   "outputs": [
    {
     "name": "stdout",
     "output_type": "stream",
     "text": [
      "Score: 92.4% for n = 60000\n",
      "CPU times: user 16min 39s, sys: 3min 19s, total: 19min 58s\n",
      "Wall time: 21min 36s\n"
     ]
    },
    {
     "data": {
      "text/plain": [
       "0.9242"
      ]
     },
     "execution_count": 18,
     "metadata": {},
     "output_type": "execute_result"
    }
   ],
   "source": [
    "%%time\n",
    "\n",
    "np.random.seed(seed)\n",
    "sp = LearnableSpatialPooler(\n",
    "    input_size=train_images[0].size,\n",
    "    output_size=50**2,\n",
    "    permanence_threshold=.5,\n",
    "    output_sparsity=.04,\n",
    "    synapse_permanence_deltas=(.1, .03),\n",
    "    receptive_field_sparsity=.8,\n",
    ")\n",
    "# 93.15; 221 s\n",
    "test_classification_with_sp(x_tr, y_tr, x_tst, y_tst, sp)"
   ]
  },
  {
   "cell_type": "code",
   "execution_count": null,
   "metadata": {
    "colab": {
     "base_uri": "https://localhost:8080/"
    },
    "id": "m2PGoSujdJsi",
    "outputId": "08e9f582-ba00-4555-d49b-d1c00b9eba27"
   },
   "outputs": [
    {
     "name": "stdout",
     "output_type": "stream",
     "text": [
      "Score: 90.1% for n = 60000\n",
      "CPU times: user 10min 52s, sys: 1.58 s, total: 10min 54s\n",
      "Wall time: 11min 19s\n"
     ]
    },
    {
     "data": {
      "text/plain": [
       "0.9008"
      ]
     },
     "execution_count": 21,
     "metadata": {},
     "output_type": "execute_result"
    }
   ],
   "source": [
    "%%time\n",
    "\n",
    "np.random.seed(seed)\n",
    "sp = BoostedSpatialPooler(\n",
    "    input_size=train_images[0].size,\n",
    "    output_size=30**2,\n",
    "    permanence_threshold=.5,\n",
    "    output_sparsity=.04,\n",
    "    synapse_permanence_deltas=(.1, .03),\n",
    "    receptive_field_sparsity=.8,\n",
    "    max_boost_factor=2,\n",
    "    boost_sliding_window=1000\n",
    ")\n",
    "# 91.15; 86 s\n",
    "test_classification_with_sp(x_tr, y_tr, x_tst, y_tst, sp)"
   ]
  },
  {
   "cell_type": "code",
   "execution_count": null,
   "metadata": {
    "colab": {
     "base_uri": "https://localhost:8080/"
    },
    "id": "teAz2RS4dJsi",
    "outputId": "9e6242e0-4db6-416f-b8b0-8eb17873bf4e"
   },
   "outputs": [
    {
     "name": "stdout",
     "output_type": "stream",
     "text": [
      "Score: 93.5% for n = 60000\n",
      "CPU times: user 29min 12s, sys: 17min 56s, total: 47min 9s\n",
      "Wall time: 47min 54s\n"
     ]
    },
    {
     "data": {
      "text/plain": [
       "0.9345"
      ]
     },
     "execution_count": 22,
     "metadata": {},
     "output_type": "execute_result"
    }
   ],
   "source": [
    "%%time\n",
    "\n",
    "np.random.seed(seed)\n",
    "sp = BoostedSpatialPooler(\n",
    "    input_size=train_images[0].size,\n",
    "    output_size=50**2,\n",
    "    permanence_threshold=.5,\n",
    "    output_sparsity=.04,\n",
    "    synapse_permanence_deltas=(.1, .03),\n",
    "    receptive_field_sparsity=.8,\n",
    "    max_boost_factor=2,\n",
    "    boost_sliding_window=1000\n",
    ")\n",
    "# 94.44; 238 s\n",
    "test_classification_with_sp(x_tr, y_tr, x_tst, y_tst, sp)"
   ]
  },
  {
   "cell_type": "markdown",
   "metadata": {
    "id": "ZeZqKTpIdJsi"
   },
   "source": [
    "## Improve SP implementation\n",
    "\n",
    "Теперь, когда у тебя есть готовая реализация SpatialPooler, время для улучшения/ускорения реализации. Попробуй выполнить задания ниже.\n",
    "\n",
    "1. **Векторизация**: нужна векторизованная реализация, которая будет эффективно вычислять overlap score, boosting и все остальное. Важно ответить себе на вопрос, как организовать хранение рецептивных полей нейронов SP, как делать pattern matching для входного паттерна, как эффективно делать шаг обновления. Придется поиграться с разными реализациями, измеряя скорость их работы. Ну и вообще, сейчас самое время причесать свою реализациюи довести ее до финального вида.\n",
    "\n",
    "2. **Разреженные рецептивные поля**: можно ли улучшить качество работы SP, если уменьшить размеры рецептивных полей его нейронов (но возможно увеличив количество нейронов)? Зафиксируй какое-нибудь определенный лимит времени работы SP и попробуй варьировать эти два гиперпараметра (`receptive_field_sparsity` и `output_size`), чтобы оставаться в рамках лимита. Нарисуй график зависимости качества от этих двух параметров.\n",
    "\n",
    "3. [**СЛОЖНО**] **Newborn-stage**: В [On the importance of the newborn stage when learning patterns with the Spatial Pooler](https://link.springer.com/article/10.1007/s42979-022-01066-4) описана идея, что бустинг, вообще говоря, имеет и негативную сторону — он имеет смысл лишь на ранних стадиях формирования рецептивных полей нейронов. Но далее он только влечет к нестабильности (способствует дрифту кодировки на выходе из SP за счет переучивания его нейронов). Предлагается взять эту идею (статью подробно читать для этого не нужно) и добавить newborn stage в SP. Для этого сделай отдельную реализацию, чтобы у тебя была отдельная финальная версия без этой фичи, и отдельная уже с. Newborn stage будет разделен на K этапов, в процессе которых\n",
    "    1. Бустинг будет постепенно снижаться (например, линейно) к нулю\n",
    "    2. Рецептивные поля будут уменьшаться. Таким образом SP будет инициализироваться с большими рецептивными полями, но в процессе newborn stage они будут постепенно пруниться до целевых значений. Это позволит нам во взрослой стадии иметь быстрый (за счет маленьких рецептивных полей) SP с хорошо настроенными рецептивными полями, из-за чего качество будет не сильно хуже, чем если бы мы не прунили.\n",
    "   \n",
    "   Протестируй данную реализацию с разными настройками начального и конечного размера рецептивных полей."
   ]
  },
  {
   "cell_type": "code",
   "execution_count": null,
   "metadata": {
    "id": "YliCPwND4LyZ"
   },
   "outputs": [],
   "source": [
    "def timeout_handler(signum, frame):\n",
    "    raise TimeoutError(\"Время выполнения функции истекло\")\n",
    "\n",
    "n = 1000\n",
    "x_tr, y_tr = train_images[:n], train_labels[:n]\n",
    "x_tst, y_tst = test_images[:n], test_labels[:n]\n",
    "\n",
    "signal.signal(signal.SIGALRM, timeout_handler)\n",
    "\n",
    "receptive_field_sparsities = np.round(np.arange(0.4, 1.1, 0.1), 1)\n",
    "sizes = np.arange(10,61,5)**2\n",
    "score = []\n",
    "indexes_for_del = []\n",
    "comb = np.array(np.meshgrid(sizes, receptive_field_sparsities)).T.reshape(-1,2)\n",
    "df = pd.DataFrame(columns=receptive_field_sparsities, index=sizes)"
   ]
  },
  {
   "cell_type": "code",
   "execution_count": null,
   "metadata": {
    "id": "KqY0BFu5623a"
   },
   "outputs": [],
   "source": [
    "for index in range(comb.shape[0]):\n",
    "  signal.alarm(180)\n",
    "  np.random.seed(seed)\n",
    "  sp = BoostedSpatialPooler(\n",
    "      input_size=train_images[0].size,\n",
    "      output_size=int(comb[index,0]),\n",
    "      permanence_threshold=.5,\n",
    "      output_sparsity=.04,\n",
    "      synapse_permanence_deltas=(.1, .03),\n",
    "      receptive_field_sparsity=comb[index,1],\n",
    "      max_boost_factor=2,\n",
    "      boost_sliding_window=1000\n",
    "  )\n",
    "  try:\n",
    "    score.append(test_classification_with_sp(x_tr, y_tr, x_tst, y_tst, sp))\n",
    "  except TimeoutError as e:\n",
    "      print(e)\n",
    "      indexes_for_del.append(index)\n",
    "  finally:\n",
    "      signal.alarm(0)"
   ]
  },
  {
   "cell_type": "code",
   "source": [
    "comb = np.delete(comb, indexes_for_del,axis = 0)\n",
    "for index in range(comb.shape[0]):\n",
    "  df.loc[comb[index,0], comb[index,1]] = score[index]"
   ],
   "metadata": {
    "id": "IGC2IthvYTfo"
   },
   "execution_count": null,
   "outputs": []
  },
  {
   "cell_type": "code",
   "source": [
    "df = df.apply(pd.to_numeric)\n",
    "plt.figure(figsize=(10, 8))\n",
    "plt.imshow(df.values, cmap='viridis', interpolation='nearest')\n",
    "plt.xticks(np.arange(len(df.columns)), df.columns, rotation=45, fontsize=10)\n",
    "plt.yticks(np.arange(len(df.index)), df.index)\n",
    "plt.colorbar(label='Score')\n",
    "plt.show()"
   ],
   "metadata": {
    "colab": {
     "base_uri": "https://localhost:8080/",
     "height": 688
    },
    "id": "gCzJbgcmcQHm",
    "outputId": "524f7327-01f5-4fcf-f268-fc434014bac5"
   },
   "execution_count": null,
   "outputs": [
    {
     "output_type": "display_data",
     "data": {
      "text/plain": [
       "<Figure size 1000x800 with 2 Axes>"
      ],
      "image/png": "[encoded data removed]"
     },
     "metadata": {}
    }
   ]
  }
 ],
 "metadata": {
  "colab": {
   "provenance": []
  },
  "kernelspec": {
   "display_name": "Python 3 (ipykernel)",
   "language": "python",
   "name": "python3"
  },
  "language_info": {
   "codemirror_mode": {
    "name": "ipython",
    "version": 3
   },
   "file_extension": ".py",
   "mimetype": "text/x-python",
   "name": "python",
   "nbconvert_exporter": "python",
   "pygments_lexer": "ipython3",
   "version": "3.9.16"
  }
 },
 "nbformat": 4,
 "nbformat_minor": 0
}
