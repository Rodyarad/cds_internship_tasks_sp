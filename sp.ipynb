{
  "cells": [
    {
      "cell_type": "markdown",
      "metadata": {
        "id": "Mx0_E_kEdJsN"
      },
      "source": [
        "# Implement Spatial Pooler\n",
        "\n",
        "В данной тетради требуется реализовать Spatial Pooler по аналогии с [описанием](https://numenta.com/assets/pdf/spatial-pooling-algorithm/Spatial-Pooling-Algorithm-Details.pdf) и [статьёй](https://www.frontiersin.org/articles/10.3389/fncom.2017.00111/pdf) от нументы. Данная тетрадь сделана на основе [примера](https://github.com/htm-community/htm.core/blob/master/py/htm/examples/mnist.py) из нументовского фреймворка `htm.core`. Сам их фреймворк нам здесь не понадобится — его ставить не нужно, но можешь ради интереса к тестам ниже добавить и тест эталонной реализации Spatial Pooler.\n",
        "\n",
        "Для начала посмотри эпизоды 0-8 видео гайда [HTMSchool](https://www.youtube.com/watch?v=XMB0ri4qgwc&list=PL3yXMgtrZmDqhsFQzwUC9V8MeeVOQ7eZ9)."
      ]
    },
    {
      "cell_type": "markdown",
      "metadata": {
        "id": "dXBc06cudJsQ"
      },
      "source": [
        "## 01. Getting ready\n",
        "\n",
        "Данная секция содержит:\n",
        "\n",
        "- импорт необходимых пакетов (убедись, что все они установлены)\n",
        "- загрузка датасета"
      ]
    },
    {
      "cell_type": "code",
      "execution_count": 1,
      "metadata": {
        "id": "mb56i--SdJsR",
        "ExecuteTime": {
          "end_time": "2023-12-14T20:14:25.657626Z",
          "start_time": "2023-12-14T20:14:24.792766100Z"
        }
      },
      "outputs": [],
      "source": [
        "import matplotlib.pyplot as plt\n",
        "import numpy as np\n",
        "from IPython.display import clear_output\n",
        "\n",
        "from sklearn.datasets import fetch_openml\n",
        "from sklearn.linear_model import LogisticRegression\n",
        "from scipy.sparse import csr_matrix\n",
        "from scipy.stats import entropy\n",
        "%matplotlib inline\n",
        "\n",
        "seed = 1337"
      ]
    },
    {
      "cell_type": "markdown",
      "metadata": {
        "id": "NQ7DmB9jdJsT"
      },
      "source": [
        "### Load data\n",
        "\n",
        "Следующая ячейка загружает датасет MNIST (займет порядка 10-20 сек)."
      ]
    },
    {
      "cell_type": "code",
      "execution_count": 2,
      "metadata": {
        "colab": {
          "base_uri": "https://localhost:8080/"
        },
        "id": "TwmAh5lodJsT",
        "outputId": "4a582a4d-9b51-4cf9-8490-4fb5d806e6a8",
        "ExecuteTime": {
          "end_time": "2023-12-14T20:14:50.629432300Z",
          "start_time": "2023-12-14T20:14:44.978951900Z"
        }
      },
      "outputs": [
        {
          "output_type": "stream",
          "name": "stdout",
          "text": [
            "(70000, 28, 28) (70000,)\n"
          ]
        },
        {
          "output_type": "execute_result",
          "data": {
            "text/plain": [
              "((60000, 28, 28), (60000,), (10000, 28, 28), (10000,))"
            ]
          },
          "metadata": {},
          "execution_count": 2
        }
      ],
      "source": [
        "def load_ds(rng, name, num_test, shape=None):\n",
        "    \"\"\"\n",
        "    fetch dataset from openML.org and split to train/test\n",
        "    @param name - ID on openML (eg. 'mnist_784')\n",
        "    @param num_test - num. samples to take as test\n",
        "    @param shape - new reshape of a single data point (ie data['data'][0]) as a list. Eg. [28,28] for MNIST\n",
        "    \"\"\"\n",
        "    data = fetch_openml(name, version=1, parser='auto')\n",
        "    sz=data['target'].shape[0]\n",
        "\n",
        "    X = np.array(data['data'])\n",
        "    if shape is not None:\n",
        "        new_shape = shape.insert(0, sz)\n",
        "        X = np.reshape(X, shape)\n",
        "\n",
        "    y = np.array(data['target']).astype(np.int32)\n",
        "    print(X.shape, y.shape)\n",
        "\n",
        "    indices = rng.permutation(y.size)\n",
        "    X = X[indices, :, :]\n",
        "    y = y[indices]\n",
        "\n",
        "    # split to train/test data\n",
        "    train_labels = y[:sz-num_test]\n",
        "    train_images = X[:sz-num_test]\n",
        "    test_labels  = y[sz-num_test:]\n",
        "    test_images  = X[sz-num_test:]\n",
        "\n",
        "    return train_labels, train_images, test_labels, test_images\n",
        "\n",
        "rng = np.random.default_rng(seed)\n",
        "train_labels, train_images, test_labels, test_images = load_ds(rng, 'mnist_784', 10000, shape=[28,28])\n",
        "\n",
        "n_train_samples = train_images.shape[0]\n",
        "n_test_samples = test_images.shape[0]\n",
        "image_shape = train_images[0].shape\n",
        "image_side = image_shape[0]\n",
        "image_size = image_side ** 2\n",
        "\n",
        "\n",
        "train_images.shape, train_labels.shape, test_images.shape, test_labels.shape"
      ]
    },
    {
      "cell_type": "markdown",
      "metadata": {
        "id": "4-1JknYFdJsU"
      },
      "source": [
        "Пример формата данных датасета"
      ]
    },
    {
      "cell_type": "code",
      "execution_count": 3,
      "metadata": {
        "colab": {
          "base_uri": "https://localhost:8080/",
          "height": 499
        },
        "id": "oVwxm_pTdJsU",
        "outputId": "adc9ed55-e8ff-4ca6-b69f-54c36dff1053",
        "ExecuteTime": {
          "end_time": "2023-12-14T20:15:20.908527100Z",
          "start_time": "2023-12-14T20:15:20.790018700Z"
        }
      },
      "outputs": [
        {
          "output_type": "stream",
          "name": "stdout",
          "text": [
            "Label: 5\n",
            "Image shape: (28, 28)\n",
            "Image middle row: [  0   0   0   0   0   0   0   0   0   0   0   0   0   0   0   0   0   0\n",
            " 145 253  53   0   0   0   0   0   0   0]\n"
          ]
        },
        {
          "output_type": "display_data",
          "data": {
            "text/plain": [
              "<Figure size 640x480 with 1 Axes>"
            ],
            "image/png": "[encoded data removed]"
          },
          "metadata": {}
        }
      ],
      "source": [
        "ind = 1\n",
        "plt.imshow(train_images[ind])\n",
        "print(f'Label: {train_labels[ind]}')\n",
        "print(f'Image shape: {image_shape}')\n",
        "print(f'Image middle row: {train_images[ind][image_side//2]}')"
      ]
    },
    {
      "cell_type": "markdown",
      "metadata": {
        "id": "A4YFXpzNdJsV"
      },
      "source": [
        "Перекодируем датасет в бинарные изображения и дальше будем работать с бинарными данными."
      ]
    },
    {
      "cell_type": "code",
      "execution_count": 4,
      "metadata": {
        "colab": {
          "base_uri": "https://localhost:8080/",
          "height": 430
        },
        "id": "o5K-Av0idJsV",
        "outputId": "85bfc98a-5894-4bdf-c634-3f54a34d35f7",
        "ExecuteTime": {
          "end_time": "2023-12-14T20:15:23.004749600Z",
          "start_time": "2023-12-14T20:15:22.547951200Z"
        }
      },
      "outputs": [
        {
          "output_type": "display_data",
          "data": {
            "text/plain": [
              "<Figure size 640x480 with 1 Axes>"
            ],
            "image/png": "[encoded data removed]"
          },
          "metadata": {}
        }
      ],
      "source": [
        "def plot_flatten_image(flatten_image, image_height=28):\n",
        "    plt.imshow(flatten_image.reshape((image_height, -1)))\n",
        "\n",
        "def to_binary_flatten_images(images):\n",
        "    n_samples = images.shape[0]\n",
        "    # flatten every image to vector\n",
        "    images = images.reshape((n_samples, -1))\n",
        "    # binary encoding: each image pixel is encoded either 0 or 1 depending on that image mean value\n",
        "    images = (images >= images.mean(axis=1, keepdims=True)).astype(np.int8)\n",
        "    return images\n",
        "\n",
        "\n",
        "train_images = to_binary_flatten_images(train_images)\n",
        "test_images = to_binary_flatten_images(test_images)\n",
        "plot_flatten_image(train_images[ind])"
      ]
    },
    {
      "cell_type": "markdown",
      "metadata": {
        "id": "LB7nDcKEdJsV"
      },
      "source": [
        "## 02. Baseline: classifier on raw input\n",
        "\n",
        "В качестве бейзлайна возьмем стандартный sklearn'овский логрег классификатор"
      ]
    },
    {
      "cell_type": "code",
      "execution_count": 5,
      "metadata": {
        "id": "vr71IY3zdJsV",
        "ExecuteTime": {
          "end_time": "2023-12-14T20:16:21.095278800Z",
          "start_time": "2023-12-14T20:16:21.065094200Z"
        }
      },
      "outputs": [],
      "source": [
        "LBFGS_MAX_ITER = 1_000"
      ]
    },
    {
      "cell_type": "code",
      "execution_count": 6,
      "metadata": {
        "colab": {
          "base_uri": "https://localhost:8080/"
        },
        "id": "az7RqfbqdJsW",
        "outputId": "44559363-6d33-4083-f661-508d609fa496",
        "ExecuteTime": {
          "end_time": "2023-12-14T20:16:22.038727500Z",
          "start_time": "2023-12-14T20:16:21.659296600Z"
        }
      },
      "outputs": [
        {
          "output_type": "stream",
          "name": "stdout",
          "text": [
            "Score: 87.4%\n",
            "CPU times: user 1.19 s, sys: 199 ms, total: 1.39 s\n",
            "Wall time: 1.94 s\n"
          ]
        }
      ],
      "source": [
        "%%time\n",
        "\n",
        "def test_bare_classification(x_tr,  y_tr, x_tst, y_tst):\n",
        "    linreg = LogisticRegression(tol=.05, max_iter=LBFGS_MAX_ITER, multi_class='multinomial', penalty='l2', solver='lbfgs', n_jobs=1)\n",
        "    linreg.fit(x_tr, y_tr)\n",
        "\n",
        "    score = linreg.predict(x_tst) == y_tst\n",
        "    score = score.mean()\n",
        "    print(f'Score: {100 * score:.1f}%')\n",
        "    return score\n",
        "\n",
        "np.random.seed(seed)\n",
        "# for debug purposes I chose smaller subset of the train/test set, you can set the whole set of 60k training samples\n",
        "n = 1_000\n",
        "x_tr, y_tr = train_images[:n], train_labels[:n]\n",
        "x_tst, y_tst = test_images[:n], test_labels[:n]\n",
        "\n",
        "# примерные/ориентировочные результаты\n",
        "# 1k: 87.4; 888ms\n",
        "# 60k: 91.4; 1.5min\n",
        "_ = test_bare_classification(x_tr, y_tr, x_tst, y_tst)"
      ]
    },
    {
      "cell_type": "markdown",
      "metadata": {
        "id": "ru-SUBkKdJsW"
      },
      "source": [
        "## 03. Spatial Pooler: skeleton\n",
        "\n",
        "Временно сделаем пустой класс Spatial Pooler'а заглушку, чтобы дальше ввести весь необходимый auxiliary код для обучения и тестирования."
      ]
    },
    {
      "cell_type": "code",
      "execution_count": 7,
      "metadata": {
        "colab": {
          "base_uri": "https://localhost:8080/"
        },
        "id": "dh1dBQZhdJsW",
        "outputId": "8f6528bd-ee65-45fc-997f-96c061cb6792",
        "ExecuteTime": {
          "end_time": "2023-12-14T20:16:24.060351300Z",
          "start_time": "2023-12-14T20:16:24.032835100Z"
        }
      },
      "outputs": [
        {
          "output_type": "stream",
          "name": "stdout",
          "text": [
            "91 784\n"
          ]
        }
      ],
      "source": [
        "class NoOpSpatialPooler:\n",
        "    def __init__(self, input_size):\n",
        "        self.input_size = input_size\n",
        "        self.output_size = input_size\n",
        "\n",
        "    def compute(self, dense_sdr, learn):\n",
        "        # просто отдает вход на выход\n",
        "        return np.flatnonzero(dense_sdr)\n",
        "\n",
        "\n",
        "np.random.seed(seed)\n",
        "sp = NoOpSpatialPooler(train_images[0].size)\n",
        "sparse_sdr = sp.compute(train_images[0], True)\n",
        "\n",
        "print(sparse_sdr.size, sp.output_size)\n",
        "assert sparse_sdr.size < sp.output_size"
      ]
    },
    {
      "cell_type": "markdown",
      "metadata": {
        "id": "CQ-YfH4hdJsW"
      },
      "source": [
        "## 04. Train/test SP performance aux pipeline\n",
        "\n",
        "Ниже непосредственно код для обучения и тестирования классификации с использованием Spatial Pooler'а. Общая схема следующая - мы обучаем SP на train set'е, а дальше SDR векторы на выходе из SP используем в кач-ве входных данных для логрег классификатора в надежде, что эти данные разделимы еще лучше, то есть что качество классификации улучшится.\n",
        "\n",
        "__NB__: Не удивляйся, в реализации ниже обучение идет в немного полуонлайн режиме - делается небольшой претрейн, а потом полностью онлайн. Претрейн делаем для прогрева SP, тк на ранних стадиях обучения он слишком сильно меняет выходную кодировку."
      ]
    },
    {
      "cell_type": "code",
      "execution_count": 8,
      "metadata": {
        "colab": {
          "base_uri": "https://localhost:8080/"
        },
        "id": "Fq8cOX7ndJsW",
        "outputId": "e80ea539-e62f-40ab-ac58-cd2a5c7420cf",
        "ExecuteTime": {
          "end_time": "2023-12-14T20:16:27.240098300Z",
          "start_time": "2023-12-14T20:16:25.769302500Z"
        }
      },
      "outputs": [
        {
          "output_type": "stream",
          "name": "stdout",
          "text": [
            "Score: 87.4% for n = 1000\n",
            "CPU times: user 206 ms, sys: 127 ms, total: 333 ms\n",
            "Wall time: 5.34 s\n"
          ]
        },
        {
          "output_type": "execute_result",
          "data": {
            "text/plain": [
              "0.874"
            ]
          },
          "metadata": {},
          "execution_count": 8
        }
      ],
      "source": [
        "%%time\n",
        "\n",
        "def pretrain_sp(sp, images, n_samples):\n",
        "\n",
        "    for img in images[:n_samples]:\n",
        "        sp.compute(img, True)\n",
        "\n",
        "def encode_to_csr_with_sp(images, sp, learn):\n",
        "    flatten_encoded_sdrs = []\n",
        "    indptr = [0]\n",
        "    for img in images:\n",
        "        encoded_sparse_sdr = sp.compute(img, learn)\n",
        "        flatten_encoded_sdrs.extend(encoded_sparse_sdr)\n",
        "        indptr.append(len(flatten_encoded_sdrs))\n",
        "\n",
        "    data = np.ones(len(flatten_encoded_sdrs))\n",
        "    csr = csr_matrix((data, flatten_encoded_sdrs, indptr), shape=(images.shape[0], sp.output_size))\n",
        "    return csr\n",
        "\n",
        "def test_classification_with_sp(x_tr,  y_tr, x_tst, y_tst, sp):\n",
        "    # a small pretrain SP before real work\n",
        "    pretrain_sp(sp, x_tr, n_samples=1000)\n",
        "\n",
        "    # encode images and continuously train SP\n",
        "    csr = encode_to_csr_with_sp(x_tr, sp, learn=True)\n",
        "\n",
        "    # train linreg\n",
        "    linreg = LogisticRegression(tol=.05, max_iter=LBFGS_MAX_ITER, multi_class='multinomial', penalty='l2', solver='lbfgs', n_jobs=3)\n",
        "    linreg.fit(csr, y_tr)\n",
        "\n",
        "    # encode test images (without SP learning) and then test score\n",
        "    csr = encode_to_csr_with_sp(x_tst, sp, False)\n",
        "    score = linreg.predict(csr) == y_tst\n",
        "    score = score.mean()\n",
        "    print(f'Score: {100 * score:.1f}% for n = {len(x_tr)}')\n",
        "    return score\n",
        "\n",
        "n = 1000\n",
        "x_tr, y_tr = train_images[:n], train_labels[:n]\n",
        "x_tst, y_tst = test_images[:n], test_labels[:n]\n",
        "my_sp = NoOpSpatialPooler(train_images[0].size)\n",
        "\n",
        "# 87.3; 1.16s\n",
        "test_classification_with_sp(x_tr, y_tr, x_tst, y_tst, my_sp)"
      ]
    },
    {
      "cell_type": "markdown",
      "metadata": {
        "id": "QUM0qNCKdJsX"
      },
      "source": [
        "## 05. Spatial Pooler: learning\n",
        "\n",
        "__Здесь начинается практическое задание__\n",
        "\n",
        "В этой части требуется реализовать простую версию SP с обучением как описано в видео htm scool до бустинга (т.е. бустинг пока не нужен)."
      ]
    },
    {
      "cell_type": "code",
      "execution_count": 9,
      "metadata": {
        "colab": {
          "base_uri": "https://localhost:8080/"
        },
        "id": "T-7TagGCdJsX",
        "outputId": "4eddf4ea-5f86-4d2a-c302-1626df95e5c5",
        "ExecuteTime": {
          "end_time": "2023-12-14T20:16:29.840942900Z",
          "start_time": "2023-12-14T20:16:29.802379100Z"
        }
      },
      "outputs": [
        {
          "output_type": "stream",
          "name": "stdout",
          "text": [
            "4 100 4\n"
          ]
        },
        {
          "output_type": "execute_result",
          "data": {
            "text/plain": [
              "array([16, 44, 30, 22])"
            ]
          },
          "metadata": {},
          "execution_count": 9
        }
      ],
      "source": [
        "class LearnableSpatialPooler:\n",
        "    def __init__(\n",
        "        self, input_size, output_size, permanence_threshold, output_sparsity, synapse_permanence_deltas, receptive_field_sparsity\n",
        "    ):\n",
        "        '''\n",
        "        params:\n",
        "            `input_size` - the size of the input SDR\n",
        "            `output_size` - the size of the output SDR\n",
        "            `permanence_threshold` - value in [0, 1], defines whether or not a connection is active\n",
        "            `output_sparsity` - value in [0, 1], defines desired output SDR sparsity, e.g. 0.02 is 2% sparsity\n",
        "            `synapse_permanence_deltas` - tuple of (p+, p-), defines permanence increment/decrement for learning\n",
        "            `receptive_field_sparsity` - value in [0, 1], defines the fraction of _potential_ synapses\n",
        "        '''\n",
        "        self.input_size = input_size\n",
        "        self.output_size = output_size\n",
        "\n",
        "        self.permanence_threshold = permanence_threshold\n",
        "        self.output_sparsity = output_sparsity\n",
        "        self.synapse_permanence_deltas = synapse_permanence_deltas\n",
        "        self.receptive_field_sparsity = receptive_field_sparsity\n",
        "\n",
        "        self.receptive_field = round(self.input_size * self.receptive_field_sparsity)\n",
        "        self.synapses = np.zeros((self.output_size,self.input_size))\n",
        "        ind_of_input = np.tile(np.arange(0, self.input_size), (self.output_size, 1))\n",
        "        np.apply_along_axis(np.random.shuffle, 1, ind_of_input)\n",
        "        for index in range(self.output_size):\n",
        "          self.synapses[index,ind_of_input[index,:self.receptive_field]] = np.random.uniform(self.permanence_threshold-0.1,self.permanence_threshold+0.1, (self.receptive_field,))\n",
        "        self.num_activ_col = round(self.output_size * self.output_sparsity)\n",
        "        self.count_active = []\n",
        "\n",
        "\n",
        "    def compute(self, dense_sdr, learn):\n",
        "        '''\n",
        "        params:\n",
        "            `dense_sdr` - input SDR in dense for, i.e. as np.array\n",
        "            `learn` - bool flag, whether or not to do a learning step\n",
        "\n",
        "        returns:\n",
        "            a list of activated columns indices\n",
        "        '''\n",
        "\n",
        "        overlap = np.sum((self.synapses[:, dense_sdr.astype(bool)] >= self.permanence_threshold), axis=1)\n",
        "        activated_cols = np.argpartition(overlap, -self.num_activ_col)[-self.num_activ_col:]\n",
        "        self.n_active_bits = len(activated_cols)\n",
        "        self.count_active = np.concatenate([self.count_active, activated_cols])\n",
        "\n",
        "        if learn:\n",
        "          activated_mask = (self.synapses[activated_cols] >= self.permanence_threshold) & dense_sdr.astype(bool)\n",
        "          self.synapses[activated_cols][activated_mask] += self.synapse_permanence_deltas[0]\n",
        "          self.synapses[activated_cols][~activated_mask] -= self.synapse_permanence_deltas[1]\n",
        "          np.clip(self.synapses[activated_cols], 0, 1, out=self.synapses[activated_cols])\n",
        "\n",
        "\n",
        "        return activated_cols\n",
        "\n",
        "\n",
        "np.random.seed(seed)\n",
        "sp = LearnableSpatialPooler(\n",
        "    input_size=train_images[0].size,\n",
        "    output_size=10**2,\n",
        "    permanence_threshold=.5,\n",
        "    output_sparsity=.04,\n",
        "    synapse_permanence_deltas=(.1, .03),\n",
        "    receptive_field_sparsity=.8\n",
        ")\n",
        "sparse_sdr = sp.compute(train_images[0], True)\n",
        "\n",
        "print(sparse_sdr.size, sp.output_size, sp.n_active_bits)\n",
        "assert sparse_sdr.size == sp.n_active_bits\n",
        "sparse_sdr"
      ]
    },
    {
      "cell_type": "markdown",
      "metadata": {
        "id": "AjfVbSUTdJsX"
      },
      "source": [
        "### 05.1. Naive SP performance\n",
        "\n",
        "Проверь качество работы своей реализации. В комментариях примерные значения для разных `n`, на которые можно попробовать ориентироваться:"
      ]
    },
    {
      "cell_type": "code",
      "execution_count": 11,
      "metadata": {
        "id": "5xm6Sb-ldJsX",
        "colab": {
          "base_uri": "https://localhost:8080/"
        },
        "outputId": "f4a48182-cee3-4e3f-ec1c-65e0c5620da1",
        "ExecuteTime": {
          "end_time": "2023-12-14T20:16:48.323456900Z",
          "start_time": "2023-12-14T20:16:31.595055100Z"
        }
      },
      "outputs": [
        {
          "output_type": "stream",
          "name": "stdout",
          "text": [
            "Score: 81.6% for n = 1000\n",
            "CPU times: user 3.09 s, sys: 19.7 ms, total: 3.11 s\n",
            "Wall time: 3.69 s\n"
          ]
        },
        {
          "output_type": "execute_result",
          "data": {
            "text/plain": [
              "0.816"
            ]
          },
          "metadata": {},
          "execution_count": 11
        }
      ],
      "source": [
        "%%time\n",
        "\n",
        "np.random.seed(seed)\n",
        "n = 1000\n",
        "x_tr, y_tr = train_images[:n], train_labels[:n]\n",
        "x_tst, y_tst = test_images[:n], test_labels[:n]\n",
        "\n",
        "sp = LearnableSpatialPooler(\n",
        "    input_size=train_images[0].size,\n",
        "    output_size=30**2,\n",
        "    permanence_threshold=.5,\n",
        "    output_sparsity=.04,\n",
        "    synapse_permanence_deltas=(.1, .03),\n",
        "    receptive_field_sparsity=.8\n",
        ")\n",
        "# 1k: 80.2; 2.98s\n",
        "# 60k: 89.3; 72 s\n",
        "test_classification_with_sp(x_tr, y_tr, x_tst, y_tst, sp)"
      ]
    },
    {
      "cell_type": "markdown",
      "metadata": {
        "id": "Noxjmyt4dJsX"
      },
      "source": [
        "Интересная метрика оценки качества работы SP и вырожденности датасета - энтропия выходных активаций.\n",
        "\n",
        "Добавь либо в реализацию класса, либо где-то сбоку возможность учета статистики активаций выходных клеток (ты наверняка заметил, что обычно их контринтуитивно называют столбцами, что оч круто запутывает) и функцию подсчета энтропии на основе этой статистики. Собери такую статистику на одном прогоне на всем датасете и:\n",
        "\n",
        "- нарисуй гистограмму частоты активаций (с нормализацией, чтобы по оси Y были вероятности активации, а не их число)\n",
        "- посчитай энтропию $H = -\\sum p \\cdot \\log p$"
      ]
    },
    {
      "cell_type": "code",
      "execution_count": null,
      "metadata": {
        "id": "1tHMlr0JdJsX",
        "colab": {
          "base_uri": "https://localhost:8080/",
          "height": 447
        },
        "outputId": "9be81e25-95c8-4b92-d271-f4e621a05f5e",
        "ExecuteTime": {
          "end_time": "2023-12-14T20:16:49.087583800Z",
          "start_time": "2023-12-14T20:16:48.319862300Z"
        }
      },
      "outputs": [
        {
          "output_type": "display_data",
          "data": {
            "text/plain": [
              "<Figure size 640x480 with 1 Axes>"
            ],
            "image/png": "[encoded data removed]"
          },
          "metadata": {}
        },
        {
          "output_type": "stream",
          "name": "stdout",
          "text": [
            "Энтропия =  8.357599945368628\n"
          ]
        }
      ],
      "source": [
        "plt.hist(sp.count_active, bins=sp.output_size, density = True)\n",
        "plt.show()\n",
        "\n",
        "\n",
        "number_of_entries = []\n",
        "for index in range(sp.output_size):\n",
        "  number_of_entries.append(np.count_nonzero(sp.count_active == index))\n",
        "print('Энтропия = ', entropy(number_of_entries/np.sum(number_of_entries), base=2))"
      ]
    },
    {
      "cell_type": "markdown",
      "metadata": {
        "id": "Cj0j0Ry9dJsY"
      },
      "source": [
        "Теперь давай посмотрим, как выходной размер `output_size` влияет на качество работы. Протестируй разные значения `output_size` - например, $[10^2, 15^2,..., 55^2, 60^2]$ и отрисуй график зависимости [качества классификации, но можешь и времени работы тоже].\n",
        "\n",
        "_Можно для начала прикинуть для n=1000 и двигаться дальше, а позже пересчитать на всем датасете_"
      ]
    },
    {
      "cell_type": "code",
      "execution_count": null,
      "metadata": {
        "id": "GyvhepGKdJsY",
        "colab": {
          "base_uri": "https://localhost:8080/",
          "height": 641
        },
        "outputId": "830d3bb3-8059-4778-a7ad-529c2c179127",
        "ExecuteTime": {
          "end_time": "2023-12-14T20:21:38.280816200Z",
          "start_time": "2023-12-14T20:16:49.055849100Z"
        }
      },
      "outputs": [
        {
          "output_type": "stream",
          "name": "stdout",
          "text": [
            "Score: 53.3% for n = 1000\n",
            "Score: 64.0% for n = 1000\n",
            "Score: 70.4% for n = 1000\n",
            "Score: 78.2% for n = 1000\n",
            "Score: 81.6% for n = 1000\n",
            "Score: 82.8% for n = 1000\n",
            "Score: 85.6% for n = 1000\n",
            "Score: 85.4% for n = 1000\n",
            "Score: 86.4% for n = 1000\n",
            "Score: 86.6% for n = 1000\n",
            "Score: 89.6% for n = 1000\n"
          ]
        },
        {
          "output_type": "display_data",
          "data": {
            "text/plain": [
              "<Figure size 640x480 with 1 Axes>"
            ],
            "image/png": "[encoded data removed]"
          },
          "metadata": {}
        }
      ],
      "source": [
        "n = 1000\n",
        "x_tr, y_tr = train_images[:n], train_labels[:n]\n",
        "x_tst, y_tst = test_images[:n], test_labels[:n]\n",
        "\n",
        "score = []\n",
        "\n",
        "for size in range(10,61,5):\n",
        "  np.random.seed(seed)\n",
        "  sp = LearnableSpatialPooler(\n",
        "      input_size=train_images[0].size,\n",
        "      output_size=size**2,\n",
        "      permanence_threshold=.5,\n",
        "      output_sparsity=.04,\n",
        "      synapse_permanence_deltas=(.1, .03),\n",
        "      receptive_field_sparsity=.8\n",
        "  )\n",
        "  score.append(test_classification_with_sp(x_tr, y_tr, x_tst, y_tst, sp))\n",
        "\n",
        "plt.plot(np.arange(10,61,5)**2, score)\n",
        "plt.xlabel(\"Output_size\")\n",
        "plt.ylabel(\"Score\")\n",
        "plt.show()"
      ]
    },
    {
      "cell_type": "markdown",
      "metadata": {
        "id": "YEzwReLldJsY"
      },
      "source": [
        "## 06. Spatial Pooler: boosting\n",
        "\n",
        "В этом пункте требуется реализовать бустинг. Обрати внимание, в видео htm school речь ведется о бустинге overlap score на основе активности выходных ячеек -  именно такой вид бустинга и нужно реализовать. Еще есть бустинг значений permanence синапсов выходных ячеек, имеющих слишком низкое среднее значение overlap score за последние N итераций - рассмотрение этого вида бустинга оставим в стороне. Так что дальше под бустингом будет иметься в виду только первый вариант.\n",
        "\n",
        "Зададим параметр `max_boost_factor` $\\in [0, +\\infty)$. Можно по-разному задавать интерпретацию этого параметра, то есть как будет действовать бустинг. Например, можно дать возможность бустингу работать только в сторону усиления слабых — тогда параметр `max_boost_factor` $=K$ определяет, что значения overlap score под действием бустинга могут быть увеличены максимум в $1+K$ раз. То есть `max_boost_factor`$=1$ означает, что оверлапы могут быть увеличены максимум в два раза, а 0 — что бустинг отключен.\n",
        "\n",
        "Однако допустима и реализация, в которой бустинг работает в обе стороны — слабые колонки усиливает, а сильные наоборот ослабляет, и тогда пределы изменения для величины `max_boost_factor` $=K$: $[\\frac{1}{K}, K]$, то есть бустинг может и усилить, и ослабить максимум в $K$ раз. В своей реализации выбери любой из этих вариантов."
      ]
    },
    {
      "cell_type": "code",
      "execution_count": 9,
      "metadata": {
        "id": "DN5RdqWndJsZ",
        "colab": {
          "base_uri": "https://localhost:8080/"
        },
        "outputId": "a15994af-4c99-4012-e0e1-af43cba4cdf8",
        "ExecuteTime": {
          "end_time": "2023-12-14T20:21:38.365827400Z",
          "start_time": "2023-12-14T20:21:38.280816200Z"
        }
      },
      "outputs": [
        {
          "output_type": "execute_result",
          "data": {
            "text/plain": [
              "array([16, 44, 30, 22])"
            ]
          },
          "metadata": {},
          "execution_count": 9
        }
      ],
      "source": [
        "class BoostedSpatialPooler:\n",
        "    def __init__(\n",
        "        self, input_size, output_size, permanence_threshold, output_sparsity, synapse_permanence_deltas, receptive_field_sparsity,\n",
        "        max_boost_factor, boost_sliding_window\n",
        "    ):\n",
        "        '''\n",
        "        params:\n",
        "            `input_size` - the size of the input SDR\n",
        "            `output_size` - the size of the output SDR\n",
        "            `permanence_threshold` - value in [0, 1], defines whether or not a connection is active\n",
        "            `output_sparsity` - value in [0, 1], defines desired output SDR sparsity, e.g. 0.02 is 2% sparsity\n",
        "            `synapse_permanence_deltas` - tuple of (p+, p-), defines permanence increment/decrement for learning\n",
        "            `receptive_field_sparsity` - value in [0, 1], defines the fraction of _potential_ synapses\n",
        "            `max_boost_factor` - value in [0, +inf), defines maximum allowed boosting. Boosting value X > 0 (X < 0) means that overlap is multiplied (divided) by `1 + X`.\n",
        "            `boost_sliding_window` - value in [1, +inf), defines the size of the window for moving avg output column activity\n",
        "        '''\n",
        "        self.input_size = input_size\n",
        "        self.output_size = output_size\n",
        "        self.permanence_threshold = permanence_threshold\n",
        "        self.output_sparsity = output_sparsity\n",
        "        self.synapse_permanence_deltas = synapse_permanence_deltas\n",
        "        self.receptive_field_sparsity = receptive_field_sparsity\n",
        "        self.max_boost_factor = max_boost_factor\n",
        "        self.boost_sliding_window = boost_sliding_window\n",
        "\n",
        "        self.receptive_field = round(self.input_size * self.receptive_field_sparsity)\n",
        "        self.synapses = np.zeros((self.output_size,self.input_size))\n",
        "        ind_of_input = np.tile(np.arange(0, self.input_size), (self.output_size, 1))\n",
        "        np.apply_along_axis(np.random.shuffle, 1, ind_of_input)\n",
        "        for index in range(self.output_size):\n",
        "          self.synapses[index,ind_of_input[index,:self.receptive_field]] = np.random.uniform(self.permanence_threshold-0.1,self.permanence_threshold+0.1, (self.receptive_field,))\n",
        "        self.max_boost_factor = max_boost_factor\n",
        "        self.boosting_factors = np.ones(self.output_size)\n",
        "        self.activ_time_avg = np.zeros(self.output_size)\n",
        "        self.boost_strength = 1\n",
        "        self.activ = np.zeros(self.output_size)\n",
        "        self.num_activ_col = round(self.output_size * self.output_sparsity)\n",
        "        self.count_active = []\n",
        "\n",
        "    def compute(self, dense_sdr, learn):\n",
        "        '''\n",
        "        params:\n",
        "            `dense_sdr` - input SDR in dense for, i.e. as np.array\n",
        "            `learn` - bool flag, whether or not to do a learning step\n",
        "\n",
        "        returns:\n",
        "            a list of activated columns indices\n",
        "        '''\n",
        "\n",
        "        overlap = np.sum((self.synapses[:, dense_sdr.astype(bool)] >= self.permanence_threshold), axis=1) * self.boosting_factors\n",
        "        activated_cols = np.argpartition(overlap, -self.num_activ_col)[-self.num_activ_col:]\n",
        "        self.n_active_bits = len(activated_cols)\n",
        "        self.count_active = np.concatenate([self.count_active, activated_cols])\n",
        "\n",
        "        self.activ = np.zeros(self.output_size)\n",
        "        self.activ[activated_cols] = 1\n",
        "        self.count_active = np.concatenate([self.count_active, activated_cols])\n",
        "\n",
        "\n",
        "\n",
        "        if learn:\n",
        "          activated_mask = (self.synapses[activated_cols] >= self.permanence_threshold) & dense_sdr.astype(bool)\n",
        "          self.synapses[activated_cols][activated_mask] += self.synapse_permanence_deltas[0]\n",
        "          self.synapses[activated_cols][~activated_mask] -= self.synapse_permanence_deltas[1]\n",
        "          np.clip(self.synapses[activated_cols], 0, 1, out=self.synapses[activated_cols])\n",
        "\n",
        "          self.activ_time_avg = (self.activ + (self.boost_sliding_window-1)*self.activ_time_avg)/self.boost_sliding_window\n",
        "          activ_avg = (np.sum(self.activ_time_avg) - self.activ_time_avg) / (self.activ_time_avg.shape[0] - 1)\n",
        "          self.boosting_factors = np.clip(np.exp(self.boost_strength * (activ_avg - self.activ_time_avg)), 1/self.max_boost_factor, self.max_boost_factor)\n",
        "\n",
        "\n",
        "        return activated_cols\n",
        "\n",
        "\n",
        "np.random.seed(seed)\n",
        "my_sp = BoostedSpatialPooler(\n",
        "    train_images[0].size, output_size=10**2, permanence_threshold=.5, output_sparsity=.04, synapse_permanence_deltas=(.1, .02),\n",
        "    receptive_field_sparsity=.8, max_boost_factor=0.5, boost_sliding_window=1000\n",
        ")\n",
        "my_sp.compute(train_images[0], True)"
      ]
    },
    {
      "cell_type": "markdown",
      "metadata": {
        "id": "_8Wq9YXhdJsZ"
      },
      "source": [
        "### 06.1. SP with boosting performance\n",
        "\n",
        "_Дальше все как и в пункте 05.1_\n",
        "\n",
        "Проверь качество работы своей реализации. В комментариях по-прежнему примерные значения для разных `n`, на которые можно попробовать ориентироваться:"
      ]
    },
    {
      "cell_type": "code",
      "execution_count": 12,
      "metadata": {
        "id": "fh3kCOJhdJsZ",
        "colab": {
          "base_uri": "https://localhost:8080/"
        },
        "outputId": "d3145318-4c94-47ba-d70f-740bab5e1626",
        "ExecuteTime": {
          "end_time": "2023-12-14T20:21:50.826782200Z",
          "start_time": "2023-12-14T20:21:38.304818500Z"
        }
      },
      "outputs": [
        {
          "output_type": "stream",
          "name": "stdout",
          "text": [
            "Score: 83.7% for n = 1000\n",
            "CPU times: user 3.36 s, sys: 13.1 ms, total: 3.38 s\n",
            "Wall time: 3.59 s\n"
          ]
        },
        {
          "output_type": "execute_result",
          "data": {
            "text/plain": [
              "0.837"
            ]
          },
          "metadata": {},
          "execution_count": 12
        }
      ],
      "source": [
        "%%time\n",
        "\n",
        "np.random.seed(seed)\n",
        "n = 1000\n",
        "x_tr, y_tr = train_images[:n], train_labels[:n]\n",
        "x_tst, y_tst = test_images[:n], test_labels[:n]\n",
        "\n",
        "sp = BoostedSpatialPooler(\n",
        "    input_size=train_images[0].size,\n",
        "    output_size=30**2,\n",
        "    permanence_threshold=.5,\n",
        "    output_sparsity=.04,\n",
        "    synapse_permanence_deltas=(.1, .03),\n",
        "    receptive_field_sparsity=.8,\n",
        "    max_boost_factor=2,\n",
        "    boost_sliding_window=1000\n",
        ")\n",
        "# 1k: 84.0; 3.24 s\n",
        "# 60k: 91.15; 86 s\n",
        "test_classification_with_sp(x_tr, y_tr, x_tst, y_tst, sp)"
      ]
    },
    {
      "cell_type": "markdown",
      "metadata": {
        "id": "sUMVCuQBdJsZ"
      },
      "source": [
        "- нарисуй гистограмму вероятностей активаций\n",
        "- посчитай энтропию $H = -\\sum p \\cdot \\log p$\n",
        "- сравни с результатами без бустинга - есть какие-то очевидные выводы?"
      ]
    },
    {
      "cell_type": "code",
      "execution_count": null,
      "metadata": {
        "id": "kIN2bYwYdJsZ",
        "colab": {
          "base_uri": "https://localhost:8080/",
          "height": 447
        },
        "outputId": "8ddefcbd-f4b6-4d85-bd89-dc2fb37ae6c2",
        "ExecuteTime": {
          "end_time": "2023-12-14T20:21:51.581314100Z",
          "start_time": "2023-12-14T20:21:50.826782200Z"
        }
      },
      "outputs": [
        {
          "output_type": "display_data",
          "data": {
            "text/plain": [
              "<Figure size 640x480 with 1 Axes>"
            ],
            "image/png": "[encoded data removed]"
          },
          "metadata": {}
        },
        {
          "output_type": "execute_result",
          "data": {
            "text/plain": [
              "9.286639882078155"
            ]
          },
          "metadata": {},
          "execution_count": 15
        }
      ],
      "source": [
        "plt.hist(sp.count_active, bins=sp.output_size, density = True)\n",
        "plt.show()\n",
        "\n",
        "from scipy.stats import entropy\n",
        "number_of_entries = []\n",
        "for index in range(sp.output_size):\n",
        "  number_of_entries.append(np.count_nonzero(sp.count_active == index))\n",
        "entropy(number_of_entries/np.sum(number_of_entries), base=2)"
      ]
    },
    {
      "cell_type": "markdown",
      "metadata": {
        "id": "vMzhZn38dJsZ"
      },
      "source": [
        "Протестируй разные значения `output_size` - например, $[10^2, 15^2,..., 55^2, 60^2]$ и отрисуй график зависимости [качества классификации, но можешь и времени работы тоже].\n",
        "\n",
        "Сравни с результатами без бустинга"
      ]
    },
    {
      "cell_type": "code",
      "execution_count": null,
      "metadata": {
        "ExecuteTime": {
          "end_time": "2023-12-14T14:48:55.866090Z",
          "start_time": "2023-12-14T14:39:23.947777800Z"
        },
        "id": "NBvSsU8LdJsZ",
        "colab": {
          "base_uri": "https://localhost:8080/",
          "height": 641
        },
        "outputId": "de251848-5c1c-49a6-c473-25c1146c1e28"
      },
      "outputs": [
        {
          "output_type": "stream",
          "name": "stdout",
          "text": [
            "Score: 53.9% for n = 1000\n",
            "Score: 69.6% for n = 1000\n",
            "Score: 74.3% for n = 1000\n",
            "Score: 80.3% for n = 1000\n",
            "Score: 83.7% for n = 1000\n",
            "Score: 86.2% for n = 1000\n",
            "Score: 87.5% for n = 1000\n",
            "Score: 87.7% for n = 1000\n",
            "Score: 87.5% for n = 1000\n",
            "Score: 88.8% for n = 1000\n",
            "Score: 90.5% for n = 1000\n"
          ]
        },
        {
          "output_type": "display_data",
          "data": {
            "text/plain": [
              "<Figure size 640x480 with 1 Axes>"
            ],
            "image/png": "[encoded data removed]"
          },
          "metadata": {}
        }
      ],
      "source": [
        "n = 1000\n",
        "x_tr, y_tr = train_images[:n], train_labels[:n]\n",
        "x_tst, y_tst = test_images[:n], test_labels[:n]\n",
        "\n",
        "score = []\n",
        "\n",
        "for size in range(10,61,5):\n",
        "    np.random.seed(seed)\n",
        "    sp = BoostedSpatialPooler(\n",
        "        input_size=train_images[0].size,\n",
        "        output_size=size**2,\n",
        "        permanence_threshold=.5,\n",
        "        output_sparsity=.04,\n",
        "        synapse_permanence_deltas=(.1, .03),\n",
        "        receptive_field_sparsity=.8,\n",
        "        max_boost_factor=2,\n",
        "        boost_sliding_window=1000\n",
        "    )\n",
        "    score.append(test_classification_with_sp(x_tr, y_tr, x_tst, y_tst, sp))\n",
        "\n",
        "plt.plot(np.arange(10,61,5)**2, score)\n",
        "plt.xlabel(\"Output_size\")\n",
        "plt.ylabel(\"Score\")\n",
        "plt.show()"
      ]
    },
    {
      "cell_type": "markdown",
      "metadata": {
        "id": "gVugAPbXdJsZ"
      },
      "source": [
        "___\n",
        "__[Опционально]__ можешь ради интереса поиграться с таким параметром как `receptive_field_sparsity`. Возьми в качестве выходного размера `output_size` = $50^2$ и проверь результаты на разных значениях параметра $[0.4, 0.5, ..., 1.0]$ и построй график зависимости."
      ]
    },
    {
      "cell_type": "code",
      "execution_count": null,
      "metadata": {
        "ExecuteTime": {
          "end_time": "2023-12-14T14:57:55.766886500Z",
          "start_time": "2023-12-14T14:48:55.862073100Z"
        },
        "id": "yJHA2vkldJsZ",
        "colab": {
          "base_uri": "https://localhost:8080/",
          "height": 573
        },
        "outputId": "31ced08d-1ca8-4474-93da-4d5c200e9cd0"
      },
      "outputs": [
        {
          "output_type": "stream",
          "name": "stdout",
          "text": [
            "Score: 89.6% for n = 1000\n",
            "Score: 88.6% for n = 1000\n",
            "Score: 89.9% for n = 1000\n",
            "Score: 89.3% for n = 1000\n",
            "Score: 87.5% for n = 1000\n",
            "Score: 88.2% for n = 1000\n",
            "Score: 89.2% for n = 1000\n"
          ]
        },
        {
          "output_type": "display_data",
          "data": {
            "text/plain": [
              "<Figure size 640x480 with 1 Axes>"
            ],
            "image/png": "[encoded data removed]"
          },
          "metadata": {}
        }
      ],
      "source": [
        "n = 1000\n",
        "x_tr, y_tr = train_images[:n], train_labels[:n]\n",
        "x_tst, y_tst = test_images[:n], test_labels[:n]\n",
        "\n",
        "score = []\n",
        "field_sparsities = np.arange(0.4,1.1,0.1)\n",
        "\n",
        "for field_sparsity in field_sparsities:\n",
        "  np.random.seed(seed)\n",
        "  sp = BoostedSpatialPooler(\n",
        "      input_size=train_images[0].size,\n",
        "      output_size=50**2,\n",
        "      permanence_threshold=.5,\n",
        "      output_sparsity=.04,\n",
        "      synapse_permanence_deltas=(.1, .03),\n",
        "      receptive_field_sparsity=field_sparsity,\n",
        "      max_boost_factor=2,\n",
        "      boost_sliding_window=1000\n",
        "  )\n",
        "  score.append(test_classification_with_sp(x_tr, y_tr, x_tst, y_tst, sp))\n",
        "\n",
        "plt.plot(field_sparsities, score)\n",
        "plt.xlabel(\"Receptive field sparsity\")\n",
        "plt.ylabel(\"Score\")\n",
        "plt.show()"
      ]
    },
    {
      "cell_type": "markdown",
      "metadata": {
        "id": "Gfvu7F1ndJsa"
      },
      "source": [
        "## 07. TESTING\n",
        "\n",
        "Дальше просто сравнительное тестирование получившихся результатов."
      ]
    },
    {
      "cell_type": "code",
      "execution_count": 16,
      "metadata": {
        "ExecuteTime": {
          "end_time": "2023-12-14T14:57:55.909863300Z",
          "start_time": "2023-12-14T14:57:55.753388300Z"
        },
        "id": "4mzvJQJndJsa"
      },
      "outputs": [],
      "source": [
        "n = 60000\n",
        "x_tr, y_tr = train_images[:n], train_labels[:n]\n",
        "x_tst, y_tst = test_images[:n], test_labels[:n]"
      ]
    },
    {
      "cell_type": "code",
      "execution_count": null,
      "metadata": {
        "ExecuteTime": {
          "end_time": "2023-12-14T15:00:43.084420900Z",
          "start_time": "2023-12-14T14:57:55.762350800Z"
        },
        "id": "5W6C0vGRdJsa",
        "colab": {
          "base_uri": "https://localhost:8080/"
        },
        "outputId": "fb5ee696-1d80-4094-a3de-e069349698c7"
      },
      "outputs": [
        {
          "output_type": "stream",
          "name": "stdout",
          "text": [
            "Score: 91.4%\n",
            "CPU times: user 4.11 s, sys: 1.26 s, total: 5.37 s\n",
            "Wall time: 5min 45s\n"
          ]
        },
        {
          "output_type": "execute_result",
          "data": {
            "text/plain": [
              "0.9143"
            ]
          },
          "metadata": {},
          "execution_count": 15
        }
      ],
      "source": [
        "%%time\n",
        "\n",
        "def test_bare_classification(x_tr,  y_tr, x_tst, y_tst):\n",
        "    linreg = LogisticRegression(tol=.05, max_iter=LBFGS_MAX_ITER, multi_class='multinomial', penalty='l2', solver='lbfgs', n_jobs=3)\n",
        "    linreg.fit(x_tr, y_tr)\n",
        "\n",
        "    score = linreg.predict(x_tst) == y_tst\n",
        "    score = score.mean()\n",
        "    print(f'Score: {100 * score:.1f}%')\n",
        "    return score\n",
        "\n",
        "np.random.seed(seed)\n",
        "# 92.11; 38s\n",
        "test_bare_classification(x_tr, y_tr, x_tst, y_tst)"
      ]
    },
    {
      "cell_type": "code",
      "execution_count": 17,
      "metadata": {
        "ExecuteTime": {
          "end_time": "2023-12-14T15:18:11.714579500Z",
          "start_time": "2023-12-14T15:00:43.073403Z"
        },
        "id": "064XU0bEdJsa",
        "colab": {
          "base_uri": "https://localhost:8080/"
        },
        "outputId": "b41d0c85-67fb-4d23-9f3d-44be5386b1d1"
      },
      "outputs": [
        {
          "output_type": "stream",
          "name": "stdout",
          "text": [
            "Score: 89.2% for n = 60000\n",
            "CPU times: user 4min 54s, sys: 1.43 s, total: 4min 55s\n",
            "Wall time: 5min 35s\n"
          ]
        },
        {
          "output_type": "execute_result",
          "data": {
            "text/plain": [
              "0.8925"
            ]
          },
          "metadata": {},
          "execution_count": 17
        }
      ],
      "source": [
        "%%time\n",
        "\n",
        "np.random.seed(seed)\n",
        "sp = LearnableSpatialPooler(\n",
        "    input_size=train_images[0].size,\n",
        "    output_size=30**2,\n",
        "    permanence_threshold=.5,\n",
        "    output_sparsity=.04,\n",
        "    synapse_permanence_deltas=(.1, .03),\n",
        "    receptive_field_sparsity=.8,\n",
        ")\n",
        "# 89.3; 72 s\n",
        "test_classification_with_sp(x_tr, y_tr, x_tst, y_tst, sp)"
      ]
    },
    {
      "cell_type": "code",
      "execution_count": 18,
      "metadata": {
        "ExecuteTime": {
          "end_time": "2023-12-14T15:49:38.064844400Z",
          "start_time": "2023-12-14T15:18:11.702470500Z"
        },
        "id": "CXs-dBdWdJsa",
        "colab": {
          "base_uri": "https://localhost:8080/"
        },
        "outputId": "2fb4b50b-19e1-4d78-b44d-60cd9e8d1f2d"
      },
      "outputs": [
        {
          "output_type": "stream",
          "name": "stdout",
          "text": [
            "Score: 92.4% for n = 60000\n",
            "CPU times: user 16min 39s, sys: 3min 19s, total: 19min 58s\n",
            "Wall time: 21min 36s\n"
          ]
        },
        {
          "output_type": "execute_result",
          "data": {
            "text/plain": [
              "0.9242"
            ]
          },
          "metadata": {},
          "execution_count": 18
        }
      ],
      "source": [
        "%%time\n",
        "\n",
        "np.random.seed(seed)\n",
        "sp = LearnableSpatialPooler(\n",
        "    input_size=train_images[0].size,\n",
        "    output_size=50**2,\n",
        "    permanence_threshold=.5,\n",
        "    output_sparsity=.04,\n",
        "    synapse_permanence_deltas=(.1, .03),\n",
        "    receptive_field_sparsity=.8,\n",
        ")\n",
        "# 93.15; 221 s\n",
        "test_classification_with_sp(x_tr, y_tr, x_tst, y_tst, sp)"
      ]
    },
    {
      "cell_type": "code",
      "execution_count": null,
      "metadata": {
        "ExecuteTime": {
          "end_time": "2023-12-14T15:56:01.196796500Z",
          "start_time": "2023-12-14T15:49:38.045973800Z"
        },
        "id": "m2PGoSujdJsi",
        "colab": {
          "base_uri": "https://localhost:8080/"
        },
        "outputId": "08e9f582-ba00-4555-d49b-d1c00b9eba27"
      },
      "outputs": [
        {
          "output_type": "stream",
          "name": "stdout",
          "text": [
            "Score: 90.1% for n = 60000\n",
            "CPU times: user 10min 52s, sys: 1.58 s, total: 10min 54s\n",
            "Wall time: 11min 19s\n"
          ]
        },
        {
          "output_type": "execute_result",
          "data": {
            "text/plain": [
              "0.9008"
            ]
          },
          "metadata": {},
          "execution_count": 21
        }
      ],
      "source": [
        "%%time\n",
        "\n",
        "np.random.seed(seed)\n",
        "sp = BoostedSpatialPooler(\n",
        "    input_size=train_images[0].size,\n",
        "    output_size=30**2,\n",
        "    permanence_threshold=.5,\n",
        "    output_sparsity=.04,\n",
        "    synapse_permanence_deltas=(.1, .03),\n",
        "    receptive_field_sparsity=.8,\n",
        "    max_boost_factor=2,\n",
        "    boost_sliding_window=1000\n",
        ")\n",
        "# 91.15; 86 s\n",
        "test_classification_with_sp(x_tr, y_tr, x_tst, y_tst, sp)"
      ]
    },
    {
      "cell_type": "code",
      "execution_count": null,
      "metadata": {
        "is_executing": true,
        "ExecuteTime": {
          "start_time": "2023-12-14T15:56:01.203059200Z"
        },
        "id": "teAz2RS4dJsi",
        "colab": {
          "base_uri": "https://localhost:8080/"
        },
        "outputId": "9e6242e0-4db6-416f-b8b0-8eb17873bf4e"
      },
      "outputs": [
        {
          "output_type": "stream",
          "name": "stdout",
          "text": [
            "Score: 93.5% for n = 60000\n",
            "CPU times: user 29min 12s, sys: 17min 56s, total: 47min 9s\n",
            "Wall time: 47min 54s\n"
          ]
        },
        {
          "output_type": "execute_result",
          "data": {
            "text/plain": [
              "0.9345"
            ]
          },
          "metadata": {},
          "execution_count": 22
        }
      ],
      "source": [
        "%%time\n",
        "\n",
        "np.random.seed(seed)\n",
        "sp = BoostedSpatialPooler(\n",
        "    input_size=train_images[0].size,\n",
        "    output_size=50**2,\n",
        "    permanence_threshold=.5,\n",
        "    output_sparsity=.04,\n",
        "    synapse_permanence_deltas=(.1, .03),\n",
        "    receptive_field_sparsity=.8,\n",
        "    max_boost_factor=2,\n",
        "    boost_sliding_window=1000\n",
        ")\n",
        "# 94.44; 238 s\n",
        "test_classification_with_sp(x_tr, y_tr, x_tst, y_tst, sp)"
      ]
    },
    {
      "cell_type": "markdown",
      "metadata": {
        "id": "ZeZqKTpIdJsi"
      },
      "source": [
        "## Improve SP implementation\n",
        "\n",
        "Теперь, когда у тебя есть готовая реализация SpatialPooler, время для улучшения/ускорения реализации. Попробуй выполнить задания ниже.\n",
        "\n",
        "1. **Векторизация**: нужна векторизованная реализация, которая будет эффективно вычислять overlap score, boosting и все остальное. Важно ответить себе на вопрос, как организовать хранение рецептивных полей нейронов SP, как делать pattern matching для входного паттерна, как эффективно делать шаг обновления. Придется поиграться с разными реализациями, измеряя скорость их работы. Ну и вообще, сейчас самое время причесать свою реализациюи довести ее до финального вида.\n",
        "\n",
        "2. **Разреженные рецептивные поля**: можно ли улучшить качество работы SP, если уменьшить размеры рецептивных полей его нейронов (но возможно увеличив количество нейронов)? Зафиксируй какое-нибудь определенный лимит времени работы SP и попробуй варьировать эти два гиперпараметра (`receptive_field_sparsity` и `output_size`), чтобы оставаться в рамках лимита. Нарисуй график зависимости качества от этих двух параметров.\n",
        "\n",
        "3. [**СЛОЖНО**] **Newborn-stage**: В [On the importance of the newborn stage when learning patterns with the Spatial Pooler](https://link.springer.com/article/10.1007/s42979-022-01066-4) описана идея, что бустинг, вообще говоря, имеет и негативную сторону — он имеет смысл лишь на ранних стадиях формирования рецептивных полей нейронов. Но далее он только влечет к нестабильности (способствует дрифту кодировки на выходе из SP за счет переучивания его нейронов). Предлагается взять эту идею (статью подробно читать для этого не нужно) и добавить newborn stage в SP. Для этого сделай отдельную реализацию, чтобы у тебя была отдельная финальная версия без этой фичи, и отдельная уже с. Newborn stage будет разделен на K этапов, в процессе которых\n",
        "    1. Бустинг будет постепенно снижаться (например, линейно) к нулю\n",
        "    2. Рецептивные поля будут уменьшаться. Таким образом SP будет инициализироваться с большими рецептивными полями, но в процессе newborn stage они будут постепенно пруниться до целевых значений. Это позволит нам во взрослой стадии иметь быстрый (за счет маленьких рецептивных полей) SP с хорошо настроенными рецептивными полями, из-за чего качество будет не сильно хуже, чем если бы мы не прунили.\n",
        "   \n",
        "   Протестируй данную реализацию с разными настройками начального и конечного размера рецептивных полей."
      ]
    },
    {
      "cell_type": "code",
      "source": [
        "import signal\n",
        "import time\n",
        "import plotly.express as px\n",
        "import pandas as pd\n",
        "\n",
        "def timeout_handler(signum, frame):\n",
        "    raise TimeoutError(\"Время выполнения функции истекло\")\n",
        "\n",
        "n = 1000\n",
        "x_tr, y_tr = train_images[:n], train_labels[:n]\n",
        "x_tst, y_tst = test_images[:n], test_labels[:n]\n",
        "\n",
        "signal.signal(signal.SIGALRM, timeout_handler)\n",
        "\n",
        "receptive_field_sparsities = np.arange(0.4,1.1,0.1)\n",
        "sizes = np.arange(10,61,5)**2\n",
        "score = []\n",
        "indexes_for_del = []\n",
        "comb = np.array(np.meshgrid(sizes, receptive_field_sparsities)).T.reshape(-1,2)"
      ],
      "metadata": {
        "id": "YliCPwND4LyZ"
      },
      "execution_count": 13,
      "outputs": []
    },
    {
      "cell_type": "code",
      "source": [
        "for index in range(comb.shape[0]):\n",
        "  signal.alarm(60)\n",
        "  np.random.seed(seed)\n",
        "  sp = BoostedSpatialPooler(\n",
        "      input_size=train_images[0].size,\n",
        "      output_size=int(comb[index,0]),\n",
        "      permanence_threshold=.5,\n",
        "      output_sparsity=.04,\n",
        "      synapse_permanence_deltas=(.1, .03),\n",
        "      receptive_field_sparsity=comb[index,1],\n",
        "      max_boost_factor=2,\n",
        "      boost_sliding_window=1000\n",
        "  )\n",
        "  try:\n",
        "    score.append(test_classification_with_sp(x_tr, y_tr, x_tst, y_tst, sp))\n",
        "  except TimeoutError as e:\n",
        "      print(e)\n",
        "      indexes_for_del.append(index)\n",
        "  finally:\n",
        "      signal.alarm(0)"
      ],
      "metadata": {
        "id": "KqY0BFu5623a"
      },
      "execution_count": null,
      "outputs": []
    },
    {
      "cell_type": "code",
      "source": [
        "comb = np.delete(comb, indexes_for_del,axis = 0)\n",
        "data = {'output_size': comb[:,0], 'receptive_field_sparsity': comb[:,1], 'score': score}\n",
        "df = pd.DataFrame(data=data)\n",
        "fig = px.scatter_3d(df, x='output_size', y='receptive_field_sparsity', z='score')\n",
        "fig.show()"
      ],
      "metadata": {
        "colab": {
          "base_uri": "https://localhost:8080/",
          "height": 542
        },
        "id": "-SDiszyZ-9mC",
        "outputId": "5a8a886e-a712-41cf-caf4-6a0ed0150386"
      },
      "execution_count": 15,
      "outputs": [
        {
          "output_type": "display_data",
          "data": {
            "text/html": [
              "<html>\n",
              "<head><meta charset=\"utf-8\" /></head>\n",
              "<body>\n",
              "    <div>            <script src=\"https://cdnjs.cloudflare.com/ajax/libs/mathjax/2.7.5/MathJax.js?config=TeX-AMS-MML_SVG\"></script><script type=\"text/javascript\">if (window.MathJax && window.MathJax.Hub && window.MathJax.Hub.Config) {window.MathJax.Hub.Config({SVG: {font: \"STIX-Web\"}});}</script>                <script type=\"text/javascript\">window.PlotlyConfig = {MathJaxConfig: 'local'};</script>\n",
              "        <script charset=\"utf-8\" src=\"https://cdn.plot.ly/plotly-2.24.1.min.js\"></script>                <div id=\"5ab50d39-8819-41df-a7cf-aac99957898e\" class=\"plotly-graph-div\" style=\"height:525px; width:100%;\"></div>            <script type=\"text/javascript\">                                    window.PLOTLYENV=window.PLOTLYENV || {};                                    if (document.getElementById(\"5ab50d39-8819-41df-a7cf-aac99957898e\")) {                    Plotly.newPlot(                        \"5ab50d39-8819-41df-a7cf-aac99957898e\",                        [{\"hovertemplate\":\"output_size=%{x}\\u003cbr\\u003ereceptive_field_sparsity=%{y}\\u003cbr\\u003escore=%{z}\\u003cextra\\u003e\\u003c\\u002fextra\\u003e\",\"legendgroup\":\"\",\"marker\":{\"color\":\"#636efa\",\"symbol\":\"circle\"},\"mode\":\"markers\",\"name\":\"\",\"scene\":\"scene\",\"showlegend\":false,\"x\":[100.0,100.0,100.0,100.0,100.0,100.0,100.0,225.0,225.0,225.0,225.0,225.0,225.0,225.0,400.0,400.0,400.0,400.0,400.0,400.0,400.0,625.0,625.0,625.0,625.0,625.0,625.0,625.0,900.0,900.0,900.0,900.0,900.0,900.0,900.0,1225.0,1225.0,1225.0,1225.0,1225.0,1225.0,1225.0,1600.0,1600.0,1600.0,1600.0,1600.0,1600.0,1600.0,2025.0,2025.0,2025.0,2025.0,2025.0,2025.0,2025.0,2500.0,2500.0,2500.0,2500.0,2500.0,2500.0,2500.0,3025.0,3025.0,3025.0,3025.0,3025.0,3025.0,3025.0,3600.0,3600.0,3600.0,3600.0,3600.0,3600.0,3600.0],\"y\":[0.4,0.5,0.6,0.7,0.7999999999999999,0.8999999999999999,0.9999999999999999,0.4,0.5,0.6,0.7,0.7999999999999999,0.8999999999999999,0.9999999999999999,0.4,0.5,0.6,0.7,0.7999999999999999,0.8999999999999999,0.9999999999999999,0.4,0.5,0.6,0.7,0.7999999999999999,0.8999999999999999,0.9999999999999999,0.4,0.5,0.6,0.7,0.7999999999999999,0.8999999999999999,0.9999999999999999,0.4,0.5,0.6,0.7,0.7999999999999999,0.8999999999999999,0.9999999999999999,0.4,0.5,0.6,0.7,0.7999999999999999,0.8999999999999999,0.9999999999999999,0.4,0.5,0.6,0.7,0.7999999999999999,0.8999999999999999,0.9999999999999999,0.4,0.5,0.6,0.7,0.7999999999999999,0.8999999999999999,0.9999999999999999,0.4,0.5,0.6,0.7,0.7999999999999999,0.8999999999999999,0.9999999999999999,0.4,0.5,0.6,0.7,0.7999999999999999,0.8999999999999999,0.9999999999999999],\"z\":[0.537,0.567,0.539,0.507,0.539,0.524,0.536,0.659,0.657,0.655,0.669,0.696,0.646,0.679,0.707,0.731,0.754,0.733,0.743,0.718,0.748,0.785,0.808,0.783,0.802,0.803,0.81,0.811,0.839,0.833,0.837,0.835,0.837,0.845,0.816,0.866,0.867,0.862,0.858,0.862,0.866,0.857,0.871,0.874,0.853,0.884,0.875,0.878,0.86,0.874,0.885,0.877,0.885,0.877,0.885,0.884,0.896,0.886,0.899,0.893,0.875,0.882,0.892,0.894,0.903,0.894,0.886,0.888,0.893,0.898,0.895,0.903,0.906,0.9,0.905,0.909,0.892],\"type\":\"scatter3d\"}],                        {\"template\":{\"data\":{\"histogram2dcontour\":[{\"type\":\"histogram2dcontour\",\"colorbar\":{\"outlinewidth\":0,\"ticks\":\"\"},\"colorscale\":[[0.0,\"#0d0887\"],[0.1111111111111111,\"#46039f\"],[0.2222222222222222,\"#7201a8\"],[0.3333333333333333,\"#9c179e\"],[0.4444444444444444,\"#bd3786\"],[0.5555555555555556,\"#d8576b\"],[0.6666666666666666,\"#ed7953\"],[0.7777777777777778,\"#fb9f3a\"],[0.8888888888888888,\"#fdca26\"],[1.0,\"#f0f921\"]]}],\"choropleth\":[{\"type\":\"choropleth\",\"colorbar\":{\"outlinewidth\":0,\"ticks\":\"\"}}],\"histogram2d\":[{\"type\":\"histogram2d\",\"colorbar\":{\"outlinewidth\":0,\"ticks\":\"\"},\"colorscale\":[[0.0,\"#0d0887\"],[0.1111111111111111,\"#46039f\"],[0.2222222222222222,\"#7201a8\"],[0.3333333333333333,\"#9c179e\"],[0.4444444444444444,\"#bd3786\"],[0.5555555555555556,\"#d8576b\"],[0.6666666666666666,\"#ed7953\"],[0.7777777777777778,\"#fb9f3a\"],[0.8888888888888888,\"#fdca26\"],[1.0,\"#f0f921\"]]}],\"heatmap\":[{\"type\":\"heatmap\",\"colorbar\":{\"outlinewidth\":0,\"ticks\":\"\"},\"colorscale\":[[0.0,\"#0d0887\"],[0.1111111111111111,\"#46039f\"],[0.2222222222222222,\"#7201a8\"],[0.3333333333333333,\"#9c179e\"],[0.4444444444444444,\"#bd3786\"],[0.5555555555555556,\"#d8576b\"],[0.6666666666666666,\"#ed7953\"],[0.7777777777777778,\"#fb9f3a\"],[0.8888888888888888,\"#fdca26\"],[1.0,\"#f0f921\"]]}],\"heatmapgl\":[{\"type\":\"heatmapgl\",\"colorbar\":{\"outlinewidth\":0,\"ticks\":\"\"},\"colorscale\":[[0.0,\"#0d0887\"],[0.1111111111111111,\"#46039f\"],[0.2222222222222222,\"#7201a8\"],[0.3333333333333333,\"#9c179e\"],[0.4444444444444444,\"#bd3786\"],[0.5555555555555556,\"#d8576b\"],[0.6666666666666666,\"#ed7953\"],[0.7777777777777778,\"#fb9f3a\"],[0.8888888888888888,\"#fdca26\"],[1.0,\"#f0f921\"]]}],\"contourcarpet\":[{\"type\":\"contourcarpet\",\"colorbar\":{\"outlinewidth\":0,\"ticks\":\"\"}}],\"contour\":[{\"type\":\"contour\",\"colorbar\":{\"outlinewidth\":0,\"ticks\":\"\"},\"colorscale\":[[0.0,\"#0d0887\"],[0.1111111111111111,\"#46039f\"],[0.2222222222222222,\"#7201a8\"],[0.3333333333333333,\"#9c179e\"],[0.4444444444444444,\"#bd3786\"],[0.5555555555555556,\"#d8576b\"],[0.6666666666666666,\"#ed7953\"],[0.7777777777777778,\"#fb9f3a\"],[0.8888888888888888,\"#fdca26\"],[1.0,\"#f0f921\"]]}],\"surface\":[{\"type\":\"surface\",\"colorbar\":{\"outlinewidth\":0,\"ticks\":\"\"},\"colorscale\":[[0.0,\"#0d0887\"],[0.1111111111111111,\"#46039f\"],[0.2222222222222222,\"#7201a8\"],[0.3333333333333333,\"#9c179e\"],[0.4444444444444444,\"#bd3786\"],[0.5555555555555556,\"#d8576b\"],[0.6666666666666666,\"#ed7953\"],[0.7777777777777778,\"#fb9f3a\"],[0.8888888888888888,\"#fdca26\"],[1.0,\"#f0f921\"]]}],\"mesh3d\":[{\"type\":\"mesh3d\",\"colorbar\":{\"outlinewidth\":0,\"ticks\":\"\"}}],\"scatter\":[{\"fillpattern\":{\"fillmode\":\"overlay\",\"size\":10,\"solidity\":0.2},\"type\":\"scatter\"}],\"parcoords\":[{\"type\":\"parcoords\",\"line\":{\"colorbar\":{\"outlinewidth\":0,\"ticks\":\"\"}}}],\"scatterpolargl\":[{\"type\":\"scatterpolargl\",\"marker\":{\"colorbar\":{\"outlinewidth\":0,\"ticks\":\"\"}}}],\"bar\":[{\"error_x\":{\"color\":\"#2a3f5f\"},\"error_y\":{\"color\":\"#2a3f5f\"},\"marker\":{\"line\":{\"color\":\"#E5ECF6\",\"width\":0.5},\"pattern\":{\"fillmode\":\"overlay\",\"size\":10,\"solidity\":0.2}},\"type\":\"bar\"}],\"scattergeo\":[{\"type\":\"scattergeo\",\"marker\":{\"colorbar\":{\"outlinewidth\":0,\"ticks\":\"\"}}}],\"scatterpolar\":[{\"type\":\"scatterpolar\",\"marker\":{\"colorbar\":{\"outlinewidth\":0,\"ticks\":\"\"}}}],\"histogram\":[{\"marker\":{\"pattern\":{\"fillmode\":\"overlay\",\"size\":10,\"solidity\":0.2}},\"type\":\"histogram\"}],\"scattergl\":[{\"type\":\"scattergl\",\"marker\":{\"colorbar\":{\"outlinewidth\":0,\"ticks\":\"\"}}}],\"scatter3d\":[{\"type\":\"scatter3d\",\"line\":{\"colorbar\":{\"outlinewidth\":0,\"ticks\":\"\"}},\"marker\":{\"colorbar\":{\"outlinewidth\":0,\"ticks\":\"\"}}}],\"scattermapbox\":[{\"type\":\"scattermapbox\",\"marker\":{\"colorbar\":{\"outlinewidth\":0,\"ticks\":\"\"}}}],\"scatterternary\":[{\"type\":\"scatterternary\",\"marker\":{\"colorbar\":{\"outlinewidth\":0,\"ticks\":\"\"}}}],\"scattercarpet\":[{\"type\":\"scattercarpet\",\"marker\":{\"colorbar\":{\"outlinewidth\":0,\"ticks\":\"\"}}}],\"carpet\":[{\"aaxis\":{\"endlinecolor\":\"#2a3f5f\",\"gridcolor\":\"white\",\"linecolor\":\"white\",\"minorgridcolor\":\"white\",\"startlinecolor\":\"#2a3f5f\"},\"baxis\":{\"endlinecolor\":\"#2a3f5f\",\"gridcolor\":\"white\",\"linecolor\":\"white\",\"minorgridcolor\":\"white\",\"startlinecolor\":\"#2a3f5f\"},\"type\":\"carpet\"}],\"table\":[{\"cells\":{\"fill\":{\"color\":\"#EBF0F8\"},\"line\":{\"color\":\"white\"}},\"header\":{\"fill\":{\"color\":\"#C8D4E3\"},\"line\":{\"color\":\"white\"}},\"type\":\"table\"}],\"barpolar\":[{\"marker\":{\"line\":{\"color\":\"#E5ECF6\",\"width\":0.5},\"pattern\":{\"fillmode\":\"overlay\",\"size\":10,\"solidity\":0.2}},\"type\":\"barpolar\"}],\"pie\":[{\"automargin\":true,\"type\":\"pie\"}]},\"layout\":{\"autotypenumbers\":\"strict\",\"colorway\":[\"#636efa\",\"#EF553B\",\"#00cc96\",\"#ab63fa\",\"#FFA15A\",\"#19d3f3\",\"#FF6692\",\"#B6E880\",\"#FF97FF\",\"#FECB52\"],\"font\":{\"color\":\"#2a3f5f\"},\"hovermode\":\"closest\",\"hoverlabel\":{\"align\":\"left\"},\"paper_bgcolor\":\"white\",\"plot_bgcolor\":\"#E5ECF6\",\"polar\":{\"bgcolor\":\"#E5ECF6\",\"angularaxis\":{\"gridcolor\":\"white\",\"linecolor\":\"white\",\"ticks\":\"\"},\"radialaxis\":{\"gridcolor\":\"white\",\"linecolor\":\"white\",\"ticks\":\"\"}},\"ternary\":{\"bgcolor\":\"#E5ECF6\",\"aaxis\":{\"gridcolor\":\"white\",\"linecolor\":\"white\",\"ticks\":\"\"},\"baxis\":{\"gridcolor\":\"white\",\"linecolor\":\"white\",\"ticks\":\"\"},\"caxis\":{\"gridcolor\":\"white\",\"linecolor\":\"white\",\"ticks\":\"\"}},\"coloraxis\":{\"colorbar\":{\"outlinewidth\":0,\"ticks\":\"\"}},\"colorscale\":{\"sequential\":[[0.0,\"#0d0887\"],[0.1111111111111111,\"#46039f\"],[0.2222222222222222,\"#7201a8\"],[0.3333333333333333,\"#9c179e\"],[0.4444444444444444,\"#bd3786\"],[0.5555555555555556,\"#d8576b\"],[0.6666666666666666,\"#ed7953\"],[0.7777777777777778,\"#fb9f3a\"],[0.8888888888888888,\"#fdca26\"],[1.0,\"#f0f921\"]],\"sequentialminus\":[[0.0,\"#0d0887\"],[0.1111111111111111,\"#46039f\"],[0.2222222222222222,\"#7201a8\"],[0.3333333333333333,\"#9c179e\"],[0.4444444444444444,\"#bd3786\"],[0.5555555555555556,\"#d8576b\"],[0.6666666666666666,\"#ed7953\"],[0.7777777777777778,\"#fb9f3a\"],[0.8888888888888888,\"#fdca26\"],[1.0,\"#f0f921\"]],\"diverging\":[[0,\"#8e0152\"],[0.1,\"#c51b7d\"],[0.2,\"#de77ae\"],[0.3,\"#f1b6da\"],[0.4,\"#fde0ef\"],[0.5,\"#f7f7f7\"],[0.6,\"#e6f5d0\"],[0.7,\"#b8e186\"],[0.8,\"#7fbc41\"],[0.9,\"#4d9221\"],[1,\"#276419\"]]},\"xaxis\":{\"gridcolor\":\"white\",\"linecolor\":\"white\",\"ticks\":\"\",\"title\":{\"standoff\":15},\"zerolinecolor\":\"white\",\"automargin\":true,\"zerolinewidth\":2},\"yaxis\":{\"gridcolor\":\"white\",\"linecolor\":\"white\",\"ticks\":\"\",\"title\":{\"standoff\":15},\"zerolinecolor\":\"white\",\"automargin\":true,\"zerolinewidth\":2},\"scene\":{\"xaxis\":{\"backgroundcolor\":\"#E5ECF6\",\"gridcolor\":\"white\",\"linecolor\":\"white\",\"showbackground\":true,\"ticks\":\"\",\"zerolinecolor\":\"white\",\"gridwidth\":2},\"yaxis\":{\"backgroundcolor\":\"#E5ECF6\",\"gridcolor\":\"white\",\"linecolor\":\"white\",\"showbackground\":true,\"ticks\":\"\",\"zerolinecolor\":\"white\",\"gridwidth\":2},\"zaxis\":{\"backgroundcolor\":\"#E5ECF6\",\"gridcolor\":\"white\",\"linecolor\":\"white\",\"showbackground\":true,\"ticks\":\"\",\"zerolinecolor\":\"white\",\"gridwidth\":2}},\"shapedefaults\":{\"line\":{\"color\":\"#2a3f5f\"}},\"annotationdefaults\":{\"arrowcolor\":\"#2a3f5f\",\"arrowhead\":0,\"arrowwidth\":1},\"geo\":{\"bgcolor\":\"white\",\"landcolor\":\"#E5ECF6\",\"subunitcolor\":\"white\",\"showland\":true,\"showlakes\":true,\"lakecolor\":\"white\"},\"title\":{\"x\":0.05},\"mapbox\":{\"style\":\"light\"}}},\"scene\":{\"domain\":{\"x\":[0.0,1.0],\"y\":[0.0,1.0]},\"xaxis\":{\"title\":{\"text\":\"output_size\"}},\"yaxis\":{\"title\":{\"text\":\"receptive_field_sparsity\"}},\"zaxis\":{\"title\":{\"text\":\"score\"}}},\"legend\":{\"tracegroupgap\":0},\"margin\":{\"t\":60}},                        {\"responsive\": true}                    ).then(function(){\n",
              "                            \n",
              "var gd = document.getElementById('5ab50d39-8819-41df-a7cf-aac99957898e');\n",
              "var x = new MutationObserver(function (mutations, observer) {{\n",
              "        var display = window.getComputedStyle(gd).display;\n",
              "        if (!display || display === 'none') {{\n",
              "            console.log([gd, 'removed!']);\n",
              "            Plotly.purge(gd);\n",
              "            observer.disconnect();\n",
              "        }}\n",
              "}});\n",
              "\n",
              "// Listen for the removal of the full notebook cells\n",
              "var notebookContainer = gd.closest('#notebook-container');\n",
              "if (notebookContainer) {{\n",
              "    x.observe(notebookContainer, {childList: true});\n",
              "}}\n",
              "\n",
              "// Listen for the clearing of the current output cell\n",
              "var outputEl = gd.closest('.output');\n",
              "if (outputEl) {{\n",
              "    x.observe(outputEl, {childList: true});\n",
              "}}\n",
              "\n",
              "                        })                };                            </script>        </div>\n",
              "</body>\n",
              "</html>"
            ]
          },
          "metadata": {}
        }
      ]
    }
  ],
  "metadata": {
    "kernelspec": {
      "display_name": "Python 3 (ipykernel)",
      "language": "python",
      "name": "python3"
    },
    "language_info": {
      "codemirror_mode": {
        "name": "ipython",
        "version": 3
      },
      "file_extension": ".py",
      "mimetype": "text/x-python",
      "name": "python",
      "nbconvert_exporter": "python",
      "pygments_lexer": "ipython3",
      "version": "3.9.16"
    },
    "colab": {
      "provenance": []
    }
  },
  "nbformat": 4,
  "nbformat_minor": 0
}